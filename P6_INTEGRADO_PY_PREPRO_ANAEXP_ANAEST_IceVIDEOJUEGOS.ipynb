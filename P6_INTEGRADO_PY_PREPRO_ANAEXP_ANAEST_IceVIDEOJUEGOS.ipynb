{
  "cells": [
    {
      "cell_type": "markdown",
      "metadata": {
        "id": "view-in-github",
        "colab_type": "text"
      },
      "source": [
        "<a href=\"https://colab.research.google.com/github/mrefugionv/S6---ICE-VIDEOJUEGOS/blob/main/P6_INTEGRADO_PY_PREPRO_ANAEXP_ANAEST_IceVIDEOJUEGOS.ipynb\" target=\"_parent\"><img src=\"https://colab.research.google.com/assets/colab-badge.svg\" alt=\"Open In Colab\"/></a>"
      ]
    },
    {
      "cell_type": "markdown",
      "metadata": {
        "id": "NNHXsvr9caax"
      },
      "source": [
        "# Proyecto Integrado : ICE Videojuegos\n",
        "\n",
        "\n",
        "La tienda online Ice, que vende videojuegos por todo el mundo, necesita identificar patrones que determinen si un juego tiene éxito o no. Esto le permitirá detectar proyectos prometedores y planificar campañas publicitarias.\n",
        "\n",
        "Se trabajara con los datos de fuente abierta del año 2016, para pronosticar las ventas del 2017.\n",
        "\n",
        "Las dos hipótesis que se van a poner a prueba son:\n",
        "\n",
        "— Las calificaciones promedio de los usuarios para las plataformas Xbox One y PC son las mismas.\n",
        "\n",
        "— Las calificaciones promedio de los usuarios para los géneros de Acción y Deportes son diferentes.\n"
      ]
    },
    {
      "cell_type": "markdown",
      "metadata": {
        "id": "GoDE-wt7caaz"
      },
      "source": [
        "## Acceso al archivo de datos y estudio de la información general."
      ]
    },
    {
      "cell_type": "code",
      "execution_count": null,
      "metadata": {
        "trusted": true,
        "id": "w_f9MCbNcaa0"
      },
      "outputs": [],
      "source": [
        "#Importación de librería necesarias\n",
        "import pandas as pd                             #Dataframes y series\n",
        "from matplotlib import pyplot as plt           # Gráficos\n",
        "import seaborn as sns                          #Diagramas caja-bigotes\n",
        "from scipy import stats as st                # Calculos estadísticos"
      ]
    },
    {
      "cell_type": "code",
      "execution_count": null,
      "metadata": {
        "tags": [
          "e5c1f0c2-db9f-43a0-99b9-4875c52427e8"
        ],
        "trusted": true,
        "id": "vXD-SGXNcaa3",
        "outputId": "13e2fef6-ca49-4408-f600-9bb97389600e"
      },
      "outputs": [
        {
          "name": "stdout",
          "output_type": "stream",
          "text": [
            "<class 'pandas.core.frame.DataFrame'>\n",
            "RangeIndex: 16715 entries, 0 to 16714\n",
            "Data columns (total 11 columns):\n",
            " #   Column           Non-Null Count  Dtype  \n",
            "---  ------           --------------  -----  \n",
            " 0   Name             16713 non-null  object \n",
            " 1   Platform         16715 non-null  object \n",
            " 2   Year_of_Release  16446 non-null  float64\n",
            " 3   Genre            16713 non-null  object \n",
            " 4   NA_sales         16715 non-null  float64\n",
            " 5   EU_sales         16715 non-null  float64\n",
            " 6   JP_sales         16715 non-null  float64\n",
            " 7   Other_sales      16715 non-null  float64\n",
            " 8   Critic_Score     8137 non-null   float64\n",
            " 9   User_Score       10014 non-null  object \n",
            " 10  Rating           9949 non-null   object \n",
            "dtypes: float64(6), object(5)\n",
            "memory usage: 1.4+ MB\n",
            "\n",
            "                                   Name Platform  Year_of_Release  \\\n",
            "938                        Just Cause 3      PS4           2015.0   \n",
            "3846                     SingStar Dance      PS3           2010.0   \n",
            "8635                        Bulletstorm       PC           2011.0   \n",
            "8567     Dungeon Siege: Throne of Agony      PSP           2006.0   \n",
            "14449  Fullmetal Alchemist: Brotherhood      PSP              NaN   \n",
            "\n",
            "              Genre  NA_sales  EU_sales  JP_sales  Other_sales  Critic_Score  \\\n",
            "938          Action      0.47      1.03      0.07         0.28          73.0   \n",
            "3846           Misc      0.09      0.31      0.00         0.11          65.0   \n",
            "8635        Shooter      0.07      0.07      0.00         0.02          82.0   \n",
            "8567   Role-Playing      0.13      0.02      0.00         0.02          74.0   \n",
            "14449        Action      0.00      0.00      0.03         0.00           NaN   \n",
            "\n",
            "      User_Score Rating  \n",
            "938          6.5      M  \n",
            "3846         3.9      T  \n",
            "8635         7.7      M  \n",
            "8567         8.1      T  \n",
            "14449        NaN    NaN  \n",
            "\n",
            "0\n"
          ]
        }
      ],
      "source": [
        "data = pd.read_csv('datasets/games.csv')   # Importamos datos del archivo csv\n",
        "data.info()                                 # Impresión de información general del dataframe\n",
        "print()\n",
        "print(data.sample(5))                       # Impresión de 5 filas aleatorias\n",
        "print()\n",
        "print(data.duplicated().sum())             # Revisar si hay duplicados"
      ]
    },
    {
      "cell_type": "markdown",
      "metadata": {
        "id": "uC_Q2gKgcaa8"
      },
      "source": [
        "Tenemos 10 columnas en el dataframe:\n",
        "* Name: Nombre del video juego, tipo de dato objeto, con 2 valores auscentes.\n",
        "* Platform: Plataforma, tipo de dato objeto, sin valores auscentes.\n",
        "* Year_of_Release: Año de lanzamiento, tipo de dato flotante (a convertir a entero ya que loas años no tienen decimales), con 269 valores ausentes.\n",
        "* Genre: Género del videojuego, tipo de dato objeto, con 2 valores auscentes.\n",
        "* NA_sales: Ventas en Norteamérica en millones de dólares estadounidenses, tipo de dato flotante, sin valores auscentes.\n",
        "* EU_sales: Ventas en Europa en millones de dólares estadounidenses, tipo de dato flotante, sin valores auscentes.\n",
        "* JP_sales: Ventas en Japón en millones de dólares estadounidenses, tipo de dato flotante, sin valores auscentes.\n",
        "* Other_sales: Ventas en otros países en millones de dólares estadounidenses, tipo de dato flotante, sin valores auscentes.\n",
        "* Critic_Score: Puntaje de criticos con un valor máximo de 100,  tipo flotante ( a convertir a entero la calificación esta dada en numeros enteros de 0-100), con 8578 valores auscentes.\n",
        "* User_Score: Puntaje de usuario con un valor máximo de 10, tipo objeto ( a convertir a tipo flotante, ya que se dan puntajes del 0-10 con un decimal), con 60701 valores auscentes.\n",
        "* Rating (ESRB):  Almacena la clasificación de edad ESRB de cada juego de acuerdo al Entertainment Software Rating Board (la Junta de clasificación de software de entretenimiento), tipo objeto (con estos posibles valores : ['E' nan 'M' 'T' 'E10+' 'K-A' 'AO' 'EC' 'RP'] ), con 6766 valores auscentes.\n",
        "\n",
        "También sabemos que no hay filas completamente duplicadas."
      ]
    },
    {
      "cell_type": "markdown",
      "metadata": {
        "id": "HcQ5z-dacaa-"
      },
      "source": [
        "## Preparación de datos"
      ]
    },
    {
      "cell_type": "markdown",
      "metadata": {
        "id": "KLl70Asacaa_"
      },
      "source": [
        "### Corrección nombre de columnas\n",
        "\n",
        "La manera estándar de nombrar las columnas es con el formato snake_case; todas las letras estan en minúsculas y las palabras separadas por guión bajo.\n",
        "\n"
      ]
    },
    {
      "cell_type": "code",
      "execution_count": null,
      "metadata": {
        "trusted": true,
        "id": "FMLD-EbpcabA",
        "outputId": "fb738c80-6edb-45a9-80e4-a2e42c804f93"
      },
      "outputs": [
        {
          "name": "stdout",
          "output_type": "stream",
          "text": [
            "<class 'pandas.core.frame.DataFrame'>\n",
            "RangeIndex: 16715 entries, 0 to 16714\n",
            "Data columns (total 11 columns):\n",
            " #   Column           Non-Null Count  Dtype  \n",
            "---  ------           --------------  -----  \n",
            " 0   name             16713 non-null  object \n",
            " 1   platform         16715 non-null  object \n",
            " 2   year_of_release  16446 non-null  float64\n",
            " 3   genre            16713 non-null  object \n",
            " 4   na_sales         16715 non-null  float64\n",
            " 5   eu_sales         16715 non-null  float64\n",
            " 6   jp_sales         16715 non-null  float64\n",
            " 7   other_sales      16715 non-null  float64\n",
            " 8   critic_score     8137 non-null   float64\n",
            " 9   user_score       10014 non-null  object \n",
            " 10  rating           9949 non-null   object \n",
            "dtypes: float64(6), object(5)\n",
            "memory usage: 1.4+ MB\n",
            "None\n"
          ]
        }
      ],
      "source": [
        "new_col_names =[]\n",
        "\n",
        "for old_name in data.columns:\n",
        "    name_stripped = old_name.strip()\n",
        "    name_lowered = name_stripped.lower()\n",
        "    name_no_spaces = name_lowered.replace(' ','_')\n",
        "    new_col_names.append(name_no_spaces)\n",
        "\n",
        "data.columns = new_col_names\n",
        "\n",
        "print(data.info())"
      ]
    },
    {
      "cell_type": "markdown",
      "metadata": {
        "id": "ltE_h6kMcabB"
      },
      "source": [
        "### Valores auscentes\n",
        "\n",
        "* name: con 2 valores auscentes, probablemente por error en la captura de datos. Se colocara un string ' ' vacío, tiene que ser del mismo tipo de dato que los demás valores de la columna y no queremos que cualquier otro string indicativo se confunda con el nombre de algún videojuego.\n",
        "* year_of_release: con 269 valores ausentes, probablemente por es información desconocida. Se rellenaran con los años de lanzamiento que se tengan del mismo videojuego en otras plataformas.\n",
        "* genre: con 2 valores auscentes,  probablemente por error en la captura de datos. Se colocara un string ' ' vacío, tiene que ser del mismo tipo de dato que los demás valores de la columna y se da a entender que no se posee ninguna información al respecto.\n",
        "* critic_score: con 8578 valores auscentes, probablemente no todos los videojuegos han sido evaluados por críticos.Se colocara la mediana de los valores no auscentes que se posean en esa columna, para que ser del mismo tipo de dato que los demás valores de la columna y no desvie los resultados.\n",
        "* user_score:con 60701 valores auscentes, no todos los videojuegos han sido calificados por usuarios. ** En esta columna también se tiene otro valor 'tbd' (to be determined), de acuerdo a los datos revisados son videouegos que se lanzaron el mismo año en que se extrajo la base de datos (2016); por lo tanto se entiende que son videojuegos que estaban a prueba / siendo evaludos en esos momentos y todavía no se obtenia información suficiente para asignar un puntaje de los usuarios ** En esta columna, tanto 'nan' como 'tbd' se tratarán de la misma manera (como valoreas asucentes ambos), ya que de cualquier manera no se posee infromación y debemos asignar un valor del mismo tipo de dato que los valores de la columna (flotante).  El valore que se asiganara a los valores auscentes de esta columna es la mediana de los valores no auscentes que se posean en esa columna, para que ser del mismo tipo de dato que los demás valores de la columna y no desvie los resultados.\n",
        "* rating (ESRB):   con 6766 valores auscentes, no hn sido evaluados por la ESBR. Se colocara un string ' ' vacío, tiene que ser del mismo tipo de dato que los demás valores de la columna (tipo objeto)."
      ]
    },
    {
      "cell_type": "code",
      "execution_count": null,
      "metadata": {
        "trusted": true,
        "id": "czICEweOcabC"
      },
      "outputs": [],
      "source": [
        "cols_to_replace_str = ['name','genre','rating']\n",
        "#Rellena valores vacios (nan) por string vacío en columnas específicadas\n",
        "for col in cols_to_replace_str :\n",
        "    data[col].fillna(' ', inplace = True)\n",
        "\n",
        "\n",
        "# En columna 'user_score' tambien el valor 'tbd' los trataremos como si estuvieran auscentes (mediana de user_score es 7.5)\n",
        "data['user_score'] = data['user_score'].replace('tbd','7.5')\n",
        "\n",
        "#Rellena valores vacíos (nan) por la mediana de esa columna específicada\n",
        "#Creamos serie con los valores no ausentes de la columna, de esta se calcula la mediana\n",
        "cols_to_replace_number = ['critic_score','user_score']\n",
        "\n",
        "for col in cols_to_replace_number:\n",
        "    col_no_nan = data[col].dropna().astype('float')\n",
        "    median = col_no_nan.median()\n",
        "    print (f'Mediana de {col} es {median}')\n",
        "    data[col].fillna(median,inplace=True)\n",
        "\n",
        "\n",
        "#print(data.info())\n",
        "#print(data['user_score'].isnull().sum())"
      ]
    },
    {
      "cell_type": "code",
      "execution_count": null,
      "metadata": {
        "trusted": true,
        "id": "5yuc_uIIcabD",
        "outputId": "c6a5adf7-d8dd-4366-9969-29bd2d5ae30d"
      },
      "outputs": [
        {
          "name": "stdout",
          "output_type": "stream",
          "text": [
            "269\n",
            "269\n",
            "fechas en 0: 146\n",
            "\n",
            "<class 'pandas.core.frame.DataFrame'>\n",
            "RangeIndex: 16715 entries, 0 to 16714\n",
            "Data columns (total 12 columns):\n",
            " #   Column           Non-Null Count  Dtype  \n",
            "---  ------           --------------  -----  \n",
            " 0   name             16715 non-null  object \n",
            " 1   platform         16715 non-null  object \n",
            " 2   year_of_release  16715 non-null  float64\n",
            " 3   genre            16715 non-null  object \n",
            " 4   na_sales         16715 non-null  float64\n",
            " 5   eu_sales         16715 non-null  float64\n",
            " 6   jp_sales         16715 non-null  float64\n",
            " 7   other_sales      16715 non-null  float64\n",
            " 8   critic_score     16715 non-null  float64\n",
            " 9   user_score       16715 non-null  object \n",
            " 10  rating           16715 non-null  object \n",
            " 11  year_null        16715 non-null  bool   \n",
            "dtypes: bool(1), float64(6), object(5)\n",
            "memory usage: 1.4+ MB\n",
            "None\n",
            "0\n"
          ]
        }
      ],
      "source": [
        "#Rellenar valores ausentes de year con las fechas en otras plataformas\n",
        "#En caso de que no haya registro del mismo juego en otras plataformas con año, se colocara 0\n",
        "\n",
        "print(data['year_of_release'].isnull().sum())\n",
        "data['year_null'] = data['year_of_release'].isna()\n",
        "print(data['year_of_release'].isnull().sum())\n",
        "\n",
        "for i in data.index:\n",
        "    if data.loc[i,'year_null'] == True :\n",
        "        game = data.loc[i,'name']\n",
        "        platform = data.loc[i,'platform']\n",
        "        games = data[data['name'] == game]\n",
        "        games_diff = games[games['platform'] != platform]\n",
        "        game_diff_with_year = games_diff[games_diff['year_null'] == False]\n",
        "        if len(game_diff_with_year)> 0:\n",
        "            index = game_diff_with_year.index\n",
        "            year = game_diff_with_year.loc[index[0],'year_of_release']\n",
        "        else:\n",
        "            year= 0\n",
        "        data.loc[i,'year_of_release'] = year\n",
        "    else:\n",
        "        data.loc[i,'year_of_release']=data.loc[i,'year_of_release']\n",
        "\n",
        "\n",
        "# Verificamos cuantas fechas quedaron sin fecha\n",
        "sum = 0\n",
        "for i in data.index:\n",
        "    if data.loc[i,'year_of_release'] == 0:\n",
        "        sum += 1\n",
        "    else:\n",
        "        sum = sum\n",
        "print(f'fechas en 0:',sum)\n",
        "\n",
        "print()\n",
        "print(data.info())\n",
        "\n",
        "print(data['user_score'].isnull().sum())"
      ]
    },
    {
      "cell_type": "markdown",
      "metadata": {
        "id": "VenkYLwwcabF"
      },
      "source": [
        "### Conversión de tipos de datos.\n",
        "\n",
        "La columna \"year_of_release\" se converte de tipo de dato flotante a convertir a entero ya que los números que respresentan los años no tienen decimales."
      ]
    },
    {
      "cell_type": "code",
      "execution_count": null,
      "metadata": {
        "trusted": true,
        "id": "ZMPND-o8cabF"
      },
      "outputs": [],
      "source": [
        "data['year_of_release'] = data['year_of_release'].astype('int')"
      ]
    },
    {
      "cell_type": "markdown",
      "metadata": {
        "id": "3FwS-gYicabG"
      },
      "source": [
        "La columna \"critic_score\" se converte de tipo flotante a entero la calificacion esta dada en numeros enteros con valores en un rango del 0 al 100."
      ]
    },
    {
      "cell_type": "code",
      "execution_count": null,
      "metadata": {
        "trusted": true,
        "id": "xCRpdtKzcabG"
      },
      "outputs": [],
      "source": [
        "data['critic_score'] = data['critic_score'].astype('int')"
      ]
    },
    {
      "cell_type": "markdown",
      "metadata": {
        "id": "GAQrSOkacabG"
      },
      "source": [
        "La columna \"user_score\" tiene tipo de dato objeto se converte a tipo flotante, ya que se dan puntajes del 0-10 con un decimal."
      ]
    },
    {
      "cell_type": "code",
      "execution_count": null,
      "metadata": {
        "trusted": true,
        "id": "3B8j35jpcabH",
        "outputId": "4ef8d213-3ab0-417d-904f-d4b9f9f837e4"
      },
      "outputs": [
        {
          "name": "stdout",
          "output_type": "stream",
          "text": [
            "0\n"
          ]
        }
      ],
      "source": [
        "data['user_score'] = data['user_score'].astype('float')\n",
        "print(data['user_score'].isnull().sum())"
      ]
    },
    {
      "cell_type": "markdown",
      "metadata": {
        "id": "vW7dIEJicabI"
      },
      "source": [
        "### Ventas totales\n",
        "Se crea una nueva columna 'total_sales' donde se guarda la suma total de las ventas de las cuatro regiones para cada uno de los videojuegos."
      ]
    },
    {
      "cell_type": "code",
      "execution_count": null,
      "metadata": {
        "trusted": true,
        "id": "8_wIW0KecabJ",
        "outputId": "5bcd2a1f-c2d3-4b7d-d173-ee9e94048e26"
      },
      "outputs": [
        {
          "name": "stdout",
          "output_type": "stream",
          "text": [
            "                                                    name platform  \\\n",
            "15685  SD Gundam Sangokuden Brave Battle Warriors: Sh...       DS   \n",
            "1130                                            NBA 2K15     X360   \n",
            "3308                                     Madden NFL 2003      GBA   \n",
            "2625                                Dead Island: Riptide     X360   \n",
            "15495  Arcana Famiglia: Vascello Phantasma no Majutsushi      PSP   \n",
            "\n",
            "       year_of_release   genre  na_sales  eu_sales  jp_sales  other_sales  \\\n",
            "15685             2010  Action      0.00      0.00      0.02         0.00   \n",
            "1130              2014  Sports      1.35      0.11      0.00         0.17   \n",
            "3308              2002  Sports      0.44      0.16      0.00         0.01   \n",
            "2625              2013  Action      0.44      0.26      0.01         0.07   \n",
            "15495             2012  Action      0.00      0.00      0.02         0.00   \n",
            "\n",
            "       critic_score  user_score rating  year_null  total_sales  \n",
            "15685            71         7.5             False         0.02  \n",
            "1130             71         3.0      E      False         1.63  \n",
            "3308             76         7.5      E      False         0.61  \n",
            "2625             57         6.3      M      False         0.78  \n",
            "15495            71         7.5             False         0.02  \n"
          ]
        }
      ],
      "source": [
        "data['total_sales'] = data['na_sales'] + data['eu_sales'] +data['jp_sales']+ data['other_sales']\n",
        "print(data.sample(5))"
      ]
    },
    {
      "cell_type": "markdown",
      "metadata": {
        "id": "wyP8MLGCcabL"
      },
      "source": [
        "## Análisis de datos\n"
      ]
    },
    {
      "cell_type": "markdown",
      "metadata": {
        "id": "My0o7lbycabL"
      },
      "source": [
        "### Juegos lanzados en diferentes años\n",
        "\n",
        "Observamos cuántos juegos fueron lanzados en diferentes años.\n",
        "\n",
        "Los datos de cada periodo parecen sí ser significativos. Los primeros años 1980-1993 tenemos menos de 100 datos para cada año, debemos tomar en cuenta que son los años en los que se comenzaban a comercializar y exteneder el uso de los videojuesgo. Después empiezan a aumentar rápidamente, hasta el año 2011, epóca de popularidad de los videojuegos. Del 2012 al 2016 empieza a decrecer la cantidad de juegos publicados en esos años, la industria de los videojuegos esta perdiendo popularidad."
      ]
    },
    {
      "cell_type": "code",
      "execution_count": null,
      "metadata": {
        "trusted": true,
        "id": "CiX4dkUhcabL",
        "outputId": "c3b544fc-652c-42b4-f7c8-a0800bea8778"
      },
      "outputs": [
        {
          "data": {
            "text/plain": [
              "year_of_release\n",
              "0        146\n",
              "1980       9\n",
              "1981      46\n",
              "1982      36\n",
              "1983      17\n",
              "1984      14\n",
              "1985      14\n",
              "1986      21\n",
              "1987      16\n",
              "1988      15\n",
              "1989      17\n",
              "1990      16\n",
              "1991      42\n",
              "1992      43\n",
              "1993      62\n",
              "1994     122\n",
              "1995     219\n",
              "1996     263\n",
              "1997     289\n",
              "1998     380\n",
              "1999     339\n",
              "2000     351\n",
              "2001     486\n",
              "2002     845\n",
              "2003     783\n",
              "2004     764\n",
              "2005     947\n",
              "2006    1019\n",
              "2007    1202\n",
              "2008    1441\n",
              "2009    1430\n",
              "2010    1269\n",
              "2011    1153\n",
              "2012     662\n",
              "2013     548\n",
              "2014     581\n",
              "2015     606\n",
              "2016     502\n",
              "Name: name, dtype: int64"
            ]
          },
          "execution_count": 10,
          "metadata": {},
          "output_type": "execute_result"
        }
      ],
      "source": [
        "data.groupby(by='year_of_release')['name'].count() #Contamos cantidad de videojuegos por año"
      ]
    },
    {
      "cell_type": "markdown",
      "metadata": {
        "id": "MxLiFyRgcabM"
      },
      "source": [
        "### Ventas por plataforma.\n",
        "Observamos cómo varían las ventas de una plataforma a otra.  \n",
        "Las plataformas con más ventas son ( en orden descendente): 'PS2', 'X360', 'PS3', 'Wii', 'DS'."
      ]
    },
    {
      "cell_type": "code",
      "execution_count": null,
      "metadata": {
        "trusted": true,
        "id": "7618q0zAcabM",
        "outputId": "d40aaf4e-5eb1-47f3-845d-f288cf29bfe1"
      },
      "outputs": [
        {
          "name": "stdout",
          "output_type": "stream",
          "text": [
            "platform\n",
            "2600      96.98\n",
            "3DO        0.10\n",
            "3DS      259.00\n",
            "DC        15.95\n",
            "DS       806.12\n",
            "GB       255.46\n",
            "GBA      317.85\n",
            "GC       198.93\n",
            "GEN       30.77\n",
            "GG         0.04\n",
            "N64      218.68\n",
            "NES      251.05\n",
            "NG         1.44\n",
            "PC       259.52\n",
            "PCFX       0.03\n",
            "PS       730.86\n",
            "PS2     1255.77\n",
            "PS3      939.65\n",
            "PS4      314.14\n",
            "PSP      294.05\n",
            "PSV       54.07\n",
            "SAT       33.59\n",
            "SCD        1.86\n",
            "SNES     200.04\n",
            "TG16       0.16\n",
            "WS         1.42\n",
            "Wii      907.51\n",
            "WiiU      82.19\n",
            "X360     971.42\n",
            "XB       257.74\n",
            "XOne     159.32\n",
            "Name: total_sales, dtype: float64\n"
          ]
        }
      ],
      "source": [
        "total_sales_platform = data.groupby(by='platform')['total_sales'].sum() #se obtiene suma total de ventas por plataforma\n",
        "print (total_sales_platform)"
      ]
    },
    {
      "cell_type": "markdown",
      "metadata": {
        "id": "Lycbbak2cabN"
      },
      "source": [
        "Para buscar las plataformas que solían ser populares pero que ahora no tienen ventas se construye una distribución basada en los datos de cada año.\n",
        "\n",
        "Resultados:\n",
        "\n",
        "* Plataformas que, al 2016, estan fuera del mercado:\n",
        "\n",
        "   Plataformas que solían ser populares pero ya ahora no tienen ventas:\n",
        "    * 2600 (1980 - 1989 : 10 años)\n",
        "    * DC (1998 - 2008 : 11 años)\n",
        "    * DS (2004 - 2013 : 10 años)\n",
        "    * GB (1998 - 2001 : 14 años)\n",
        "    * GBA (2000 - 2007 : 8 años)\n",
        "    * GC (2001 - 2007 : 7 años)\n",
        "    * N64 (1996 - 2002 : 8 años)\n",
        "    * NES (1983 - 1994 : 12 años)\n",
        "    * PS (1994 -2003 : 10 años)\n",
        "    * PS2 (2000 - 2011 : 12 años)\n",
        "    * SAT (1994 - 1999 : 6 años)\n",
        "    * SNES (1990 - 1999 : 10 años)\n",
        "    * XB ( 2000 - 2008 : 9 años)\n",
        "\n",
        "  Plataformas que estuvieron 5 o menos años en el mercado:\n",
        "  * SDO (1994 - 1995 : 2 años)\n",
        "  * GEN (1990 - 1994 : 5 años)\n",
        "  * GG (1992 : 1 año)\n",
        "  * NG (1993 - 1996 : 4 años)\n",
        "  * PCFX (1996 : 1 año)\n",
        "  * SCD ( 1993 - 1994 : 2 años)\n",
        "  * TG16 (1995 : 1 año )\n",
        "  * WS (1999 - 2001 : 3 años)\n",
        "\n",
        "* Plataformas que, al 2016, siguen en el mercado:\n",
        "\n",
        "   Plataformas con popularidad en aumento:\n",
        "   * PS4 (2013- 2016 : 4 años)\n",
        "   * XOne (2013 - 2016 : 4 años)\n",
        "\n",
        "  Plataformas cuya popularidad decrece:\n",
        "  * 3DS (2011 - 2016 : 6 años)\n",
        "  * PC (1985, 1988, 1992, 1994 - 2016 : 23 años)\n",
        "  * PS3 (2006- 2016 : 11 años)\n",
        "  * PSP (2004 - 2015 : 12 años)\n",
        "  * PSV (2011 - 2016 : 6 años)\n",
        "  * Wii ( 2006 - 2016 : 11 años)\n",
        "  * WiiU (2012 - 2016 : 5 años)\n",
        "  * X360 (2005 - 2016 : 12 años)\n",
        "\n",
        "¿Cuánto tardan generalmente las nuevas plataformas en aparecer y las antiguas en desaparecer?\n",
        "Con los datos arriba mostrados se puede notar que las plataformas antiguas duraban un promedio de 10 años en el mercado. Las más nuevas, incluyendo aquellas que van en aumento en popularidad, llevan un promedio de 5 años en el mercado. Y existen un tercer grupo que son aquellos que siguen en el mercado depués de más de 10 años de lanzamiento.  "
      ]
    },
    {
      "cell_type": "code",
      "execution_count": null,
      "metadata": {
        "trusted": true,
        "id": "ECuR5amDcabO",
        "outputId": "5dbb4d1e-2364-480e-96af-9f731969d189"
      },
      "outputs": [
        {
          "name": "stdout",
          "output_type": "stream",
          "text": [
            "platform          2600   3DO    3DS    DC      DS     GB    GBA     GC    GEN  \\\n",
            "year_of_release                                                                 \n",
            "1980             11.38   NaN    NaN   NaN     NaN    NaN    NaN    NaN    NaN   \n",
            "1981             35.68   NaN    NaN   NaN     NaN    NaN    NaN    NaN    NaN   \n",
            "1982             28.88   NaN    NaN   NaN     NaN    NaN    NaN    NaN    NaN   \n",
            "1983              5.84   NaN    NaN   NaN     NaN    NaN    NaN    NaN    NaN   \n",
            "1984              0.27   NaN    NaN   NaN     NaN    NaN    NaN    NaN    NaN   \n",
            "1985              0.45   NaN    NaN   NaN    0.02    NaN    NaN    NaN    NaN   \n",
            "1986              0.67   NaN    NaN   NaN     NaN    NaN    NaN    NaN    NaN   \n",
            "1987              1.94   NaN    NaN   NaN     NaN    NaN    NaN    NaN    NaN   \n",
            "1988              0.74   NaN    NaN   NaN     NaN   1.43    NaN    NaN    NaN   \n",
            "1989              0.63   NaN    NaN   NaN     NaN  64.97    NaN    NaN    NaN   \n",
            "1990               NaN   NaN    NaN   NaN     NaN   4.89    NaN    NaN   2.60   \n",
            "1991               NaN   NaN    NaN   NaN     NaN   5.57    NaN    NaN   4.33   \n",
            "1992               NaN   NaN    NaN   NaN     NaN  25.49    NaN    NaN  12.64   \n",
            "1993               NaN   NaN    NaN   NaN     NaN    NaN    NaN    NaN   3.07   \n",
            "1994              2.53  0.02    NaN   NaN     NaN  12.18    NaN    NaN   8.13   \n",
            "1995               NaN  0.08    NaN   NaN     NaN   3.60    NaN    NaN    NaN   \n",
            "1996               NaN   NaN    NaN   NaN     NaN  36.03    NaN    NaN    NaN   \n",
            "1997               NaN   NaN    NaN   NaN     NaN   6.37    NaN    NaN    NaN   \n",
            "1998               NaN   NaN    NaN  3.38     NaN  26.90    NaN    NaN    NaN   \n",
            "1999               NaN   NaN    NaN  5.16     NaN  38.00    NaN    NaN    NaN   \n",
            "2000               NaN   NaN   0.02  5.99     NaN  19.76   0.07    NaN    NaN   \n",
            "2001               NaN   NaN    NaN  1.07     NaN   9.24  61.53  26.62    NaN   \n",
            "2002               NaN   NaN    NaN  0.29     NaN    NaN  74.16  52.29    NaN   \n",
            "2003               NaN   NaN    NaN   NaN     NaN    NaN  56.67  51.20    NaN   \n",
            "2004               NaN   NaN    NaN   NaN   17.27    NaN  77.91  28.82    NaN   \n",
            "2005               NaN   NaN    NaN   NaN  130.14    NaN  34.53  27.91    NaN   \n",
            "2006               NaN   NaN    NaN   NaN  119.81    NaN   5.46  11.55    NaN   \n",
            "2007               NaN   NaN    NaN  0.02  147.23    NaN   3.40   0.27    NaN   \n",
            "2008               NaN   NaN    NaN  0.04  145.36    NaN    NaN    NaN    NaN   \n",
            "2009               NaN   NaN    NaN   NaN  119.56    NaN    NaN    NaN    NaN   \n",
            "2010               NaN   NaN   0.30   NaN   85.35    NaN    NaN    NaN    NaN   \n",
            "2011               NaN   NaN  63.20   NaN   26.33    NaN    NaN    NaN    NaN   \n",
            "2012               NaN   NaN  51.76   NaN   11.67    NaN    NaN    NaN    NaN   \n",
            "2013               NaN   NaN  56.57   NaN    1.54    NaN    NaN    NaN    NaN   \n",
            "2014               NaN   NaN  43.76   NaN     NaN    NaN    NaN    NaN    NaN   \n",
            "2015               NaN   NaN  27.78   NaN     NaN    NaN    NaN    NaN    NaN   \n",
            "2016               NaN   NaN  15.14   NaN     NaN    NaN    NaN    NaN    NaN   \n",
            "\n",
            "platform           GG    N64    NES    NG     PC  PCFX      PS     PS2  \\\n",
            "year_of_release                                                          \n",
            "1980              NaN    NaN    NaN   NaN    NaN   NaN     NaN     NaN   \n",
            "1981              NaN    NaN    NaN   NaN    NaN   NaN     NaN     NaN   \n",
            "1982              NaN    NaN    NaN   NaN    NaN   NaN     NaN     NaN   \n",
            "1983              NaN    NaN  10.96   NaN    NaN   NaN     NaN     NaN   \n",
            "1984              NaN    NaN  50.08   NaN    NaN   NaN     NaN     NaN   \n",
            "1985              NaN    NaN  53.44   NaN   0.04   NaN     NaN     NaN   \n",
            "1986              NaN    NaN  36.41   NaN    NaN   NaN     NaN     NaN   \n",
            "1987              NaN    NaN  19.76   NaN    NaN   NaN     NaN     NaN   \n",
            "1988              NaN    NaN  45.01   NaN   0.03   NaN     NaN     NaN   \n",
            "1989              NaN    NaN   7.85   NaN    NaN   NaN     NaN     NaN   \n",
            "1990              NaN    NaN  15.73   NaN    NaN   NaN     NaN     NaN   \n",
            "1991              NaN    NaN   6.11   NaN    NaN   NaN     NaN     NaN   \n",
            "1992             0.04    NaN   1.98   NaN   3.03   NaN     NaN     NaN   \n",
            "1993              NaN    NaN   3.61  0.21    NaN   NaN     NaN     NaN   \n",
            "1994              NaN    NaN   0.11  0.80  12.87   NaN    6.03     NaN   \n",
            "1995              NaN    NaN    NaN  0.33   4.22   NaN   35.96     NaN   \n",
            "1996              NaN  34.10    NaN  0.10  10.58  0.03   94.70     NaN   \n",
            "1997              NaN  39.50    NaN   NaN  11.27   NaN  136.17     NaN   \n",
            "1998              NaN  49.24    NaN   NaN   3.26   NaN  169.49    0.95   \n",
            "1999              NaN  58.01    NaN   NaN   4.74   NaN  144.53     NaN   \n",
            "2000              NaN  33.97    NaN   NaN   4.66   NaN   96.37   39.17   \n",
            "2001              NaN   3.25    NaN   NaN   5.47   NaN   35.59  166.43   \n",
            "2002              NaN   0.08    NaN   NaN   8.57   NaN    6.67  208.36   \n",
            "2003              NaN    NaN    NaN   NaN   8.89   NaN    2.07  193.05   \n",
            "2004              NaN   0.33    NaN   NaN  10.39   NaN     NaN  211.81   \n",
            "2005              NaN    NaN    NaN   NaN   4.38   NaN     NaN  160.66   \n",
            "2006              NaN    NaN    NaN   NaN   2.85   NaN     NaN  104.24   \n",
            "2007              NaN    NaN    NaN   NaN   9.28   NaN     NaN   76.10   \n",
            "2008              NaN    NaN    NaN   NaN  12.46   NaN     NaN   53.90   \n",
            "2009              NaN    NaN    NaN   NaN  17.05   NaN     NaN   26.40   \n",
            "2010              NaN    NaN    NaN   NaN  26.15   NaN     NaN    5.64   \n",
            "2011              NaN    NaN    NaN   NaN  35.16   NaN     NaN    0.45   \n",
            "2012              NaN    NaN    NaN   NaN  23.45   NaN     NaN     NaN   \n",
            "2013              NaN    NaN    NaN   NaN  13.01   NaN     NaN     NaN   \n",
            "2014              NaN    NaN    NaN   NaN  13.28   NaN     NaN     NaN   \n",
            "2015              NaN    NaN    NaN   NaN   8.52   NaN     NaN     NaN   \n",
            "2016              NaN    NaN    NaN   NaN   5.25   NaN     NaN     NaN   \n",
            "\n",
            "platform            PS3     PS4    PSP    PSV    SAT   SCD   SNES  TG16    WS  \\\n",
            "year_of_release                                                                 \n",
            "1980                NaN     NaN    NaN    NaN    NaN   NaN    NaN   NaN   NaN   \n",
            "1981                NaN     NaN    NaN    NaN    NaN   NaN    NaN   NaN   NaN   \n",
            "1982                NaN     NaN    NaN    NaN    NaN   NaN    NaN   NaN   NaN   \n",
            "1983                NaN     NaN    NaN    NaN    NaN   NaN    NaN   NaN   NaN   \n",
            "1984                NaN     NaN    NaN    NaN    NaN   NaN    NaN   NaN   NaN   \n",
            "1985                NaN     NaN    NaN    NaN    NaN   NaN    NaN   NaN   NaN   \n",
            "1986                NaN     NaN    NaN    NaN    NaN   NaN    NaN   NaN   NaN   \n",
            "1987                NaN     NaN    NaN    NaN    NaN   NaN    NaN   NaN   NaN   \n",
            "1988                NaN     NaN    NaN    NaN    NaN   NaN    NaN   NaN   NaN   \n",
            "1989                NaN     NaN    NaN    NaN    NaN   NaN    NaN   NaN   NaN   \n",
            "1990                NaN     NaN    NaN    NaN    NaN   NaN  26.15   NaN   NaN   \n",
            "1991               0.48     NaN    NaN    NaN    NaN   NaN  16.22   NaN   NaN   \n",
            "1992                NaN     NaN    NaN    NaN    NaN   NaN  32.98   NaN   NaN   \n",
            "1993                NaN     NaN    NaN    NaN    NaN  1.50  40.02   NaN   NaN   \n",
            "1994                NaN     NaN    NaN    NaN   3.65  0.36  35.08   NaN   NaN   \n",
            "1995                NaN     NaN    NaN    NaN  11.57   NaN  32.20  0.16   NaN   \n",
            "1996                NaN     NaN    NaN    NaN   7.69   NaN  15.92   NaN   NaN   \n",
            "1997                NaN     NaN    NaN    NaN   6.77   NaN   0.99   NaN   NaN   \n",
            "1998                NaN     NaN    NaN    NaN   3.82   NaN   0.22   NaN   NaN   \n",
            "1999                NaN     NaN    NaN    NaN   0.09   NaN   0.26   NaN  0.46   \n",
            "2000                NaN     NaN    NaN    NaN    NaN   NaN    NaN   NaN  0.68   \n",
            "2001                NaN     NaN    NaN    NaN    NaN   NaN    NaN   NaN  0.28   \n",
            "2002                NaN     NaN    NaN    NaN    NaN   NaN    NaN   NaN   NaN   \n",
            "2003                NaN     NaN    NaN    NaN    NaN   NaN    NaN   NaN   NaN   \n",
            "2004                NaN     NaN   7.06    NaN    NaN   NaN    NaN   NaN   NaN   \n",
            "2005               0.19     NaN  43.84    NaN    NaN   NaN    NaN   NaN   NaN   \n",
            "2006              20.96     NaN  56.28    NaN    NaN   NaN    NaN   NaN   NaN   \n",
            "2007              73.19     NaN  47.30    NaN    NaN   NaN    NaN   NaN   NaN   \n",
            "2008             118.79     NaN  36.76    NaN    NaN   NaN    NaN   NaN   NaN   \n",
            "2009             130.93     NaN  37.78    NaN    NaN   NaN    NaN   NaN   NaN   \n",
            "2010             142.96     NaN  35.04    NaN    NaN   NaN    NaN   NaN   NaN   \n",
            "2011             157.98     NaN  17.82   4.63    NaN   NaN    NaN   NaN   NaN   \n",
            "2012             108.28     NaN   7.95  16.19    NaN   NaN    NaN   NaN   NaN   \n",
            "2013             113.25   25.99   3.38  10.59    NaN   NaN    NaN   NaN   NaN   \n",
            "2014              47.76  100.00   0.24  11.90    NaN   NaN    NaN   NaN   NaN   \n",
            "2015              16.82  118.90   0.12   6.25    NaN   NaN    NaN   NaN   NaN   \n",
            "2016               3.60   69.25    NaN   4.25    NaN   NaN    NaN   NaN   NaN   \n",
            "\n",
            "platform            Wii   WiiU    X360     XB   XOne  \n",
            "year_of_release                                       \n",
            "1980                NaN    NaN     NaN    NaN    NaN  \n",
            "1981                NaN    NaN     NaN    NaN    NaN  \n",
            "1982                NaN    NaN     NaN    NaN    NaN  \n",
            "1983                NaN    NaN     NaN    NaN    NaN  \n",
            "1984                NaN    NaN     NaN    NaN    NaN  \n",
            "1985                NaN    NaN     NaN    NaN    NaN  \n",
            "1986                NaN    NaN     NaN    NaN    NaN  \n",
            "1987                NaN    NaN     NaN    NaN    NaN  \n",
            "1988                NaN    NaN     NaN    NaN    NaN  \n",
            "1989                NaN    NaN     NaN    NaN    NaN  \n",
            "1990                NaN    NaN     NaN    NaN    NaN  \n",
            "1991                NaN    NaN     NaN    NaN    NaN  \n",
            "1992                NaN    NaN     NaN    NaN    NaN  \n",
            "1993                NaN    NaN     NaN    NaN    NaN  \n",
            "1994                NaN    NaN     NaN    NaN    NaN  \n",
            "1995                NaN    NaN     NaN    NaN    NaN  \n",
            "1996                NaN    NaN     NaN    NaN    NaN  \n",
            "1997                NaN    NaN     NaN    NaN    NaN  \n",
            "1998                NaN    NaN     NaN    NaN    NaN  \n",
            "1999                NaN    NaN     NaN    NaN    NaN  \n",
            "2000                NaN    NaN     NaN   0.99    NaN  \n",
            "2001                NaN    NaN     NaN  23.82    NaN  \n",
            "2002                NaN    NaN     NaN  51.00    NaN  \n",
            "2003                NaN    NaN     NaN  55.05    NaN  \n",
            "2004                NaN    NaN     NaN  65.97    NaN  \n",
            "2005                NaN    NaN    9.22  49.09    NaN  \n",
            "2006             140.19    NaN   51.79  10.04    NaN  \n",
            "2007             153.41    NaN   95.41   0.55    NaN  \n",
            "2008             177.68    NaN  136.07   0.18    NaN  \n",
            "2009             206.97    NaN  120.82    NaN    NaN  \n",
            "2010             128.67    NaN  170.55    NaN    NaN  \n",
            "2011              59.79    NaN  145.23    NaN    NaN  \n",
            "2012              22.94  17.56  100.72    NaN    NaN  \n",
            "2013               8.59  21.65   88.58    NaN  18.96  \n",
            "2014               3.75  22.03   34.74    NaN  54.07  \n",
            "2015               1.14  16.35   11.96    NaN  60.14  \n",
            "2016               0.18   4.60    1.52    NaN  26.15  \n"
          ]
        },
        {
          "data": {
            "image/png": "[encoded data removed]",
            "text/plain": [
              "<Figure size 640x480 with 1 Axes>"
            ]
          },
          "metadata": {},
          "output_type": "display_data"
        },
        {
          "data": {
            "image/png": "[encoded data removed]",
            "text/plain": [
              "<Figure size 640x480 with 1 Axes>"
            ]
          },
          "metadata": {},
          "output_type": "display_data"
        },
        {
          "data": {
            "image/png": "[encoded data removed]",
            "text/plain": [
              "<Figure size 640x480 with 1 Axes>"
            ]
          },
          "metadata": {},
          "output_type": "display_data"
        }
      ],
      "source": [
        "# Se obtiene dataframe sin las filas con años de lanzamiento 0 que son de los que no se tiene la información\n",
        "data_no_0_year = data[data['year_of_release'] != 0]\n",
        "\n",
        "#Se construye tabla dinámica con ventas totales de cada videojuego para cada año\n",
        "pivot_data = data_no_0_year.pivot_table(index='year_of_release',\n",
        "                             columns ='platform',\n",
        "                             values = 'total_sales',\n",
        "                             aggfunc ='sum')\n",
        "pd.options.display.max_columns= None  #Para forzar la impresión de todas las columnas\n",
        "print(pivot_data)\n",
        "\n",
        "\n",
        "##### Imprimimos histograma de cantidad de videojuegos lanzados por cada plataforma a través de los años###\n",
        "# También nos ayuda a encontrar como se fueron comportando los lanzamientos en difrentes plataformas a traves de los años #\n",
        "#Para ahacer la distribución divido las plataformas para que se alcance a distinguir en los gráficos.\n",
        "platforms1 = ['Wii','NES','GB', 'DS', 'X360', 'PS3', 'PS2', 'SNES', 'GBA', 'PS4']\n",
        "platforms2 = ['3DS', 'N64','PS' ,'XB','PC', '2600', 'PSP', 'XOne', 'WiiU', 'GC']\n",
        "platforms3 = ['GEN', 'DC', 'PSV', 'SAT','SCD', 'WS', 'NG','TG16', '3DO', 'GG', 'PCFX']\n",
        "\n",
        "\n",
        "for platform in platforms1:\n",
        "    data_no_0_year[data_no_0_year['platform']==platform]['year_of_release'].plot(kind='hist', bins = 36)\n",
        "plt.legend(['Wii','NES','GB', 'DS', 'X360', 'PS3', 'PS2', 'SNES', 'GBA', 'PS4'])\n",
        "plt.show()\n",
        "\n",
        "for platform in platforms2:\n",
        "    data_no_0_year[data_no_0_year['platform']==platform]['year_of_release'].plot(kind='hist', bins = 36)\n",
        "plt.legend(['3DS', 'N64','PS' ,'XB','PC', '2600', 'PSP', 'XOne', 'WiiU', 'GC'])\n",
        "plt.show()\n",
        "\n",
        "for platform in platforms3:\n",
        "    data_no_0_year[data_no_0_year['platform']==platform]['year_of_release'].plot(kind='hist', bins = 36)\n",
        "plt.legend(['GEN', 'DC', 'PSV', 'SAT','SCD', 'WS', 'NG','TG16', '3DO', 'GG', 'PCFX'])\n",
        "plt.show()"
      ]
    },
    {
      "cell_type": "markdown",
      "metadata": {
        "id": "KYTxrGAvcabS"
      },
      "source": [
        "### Análisis descriptivo\n",
        "\n",
        "Se determina que el período que se tomará en cuenta para construir un modelo para 2017, sera de 15 años (2004 - 2016); es el periodo en el que han estado funcionando las plataformas que aún son rentables, execeptuando PC.\n",
        "\n",
        "La plataformas que permanecen rentables a 2016 son: PS4, XOne, 3DS, PC, PS3, PSP, PSV, Wii, WiiU, X360.\n"
      ]
    },
    {
      "cell_type": "markdown",
      "metadata": {
        "id": "UNwKUQoxcabS"
      },
      "source": [
        "#### Diagarama de caja\n",
        "\n",
        "Creamos un diagrama de caja para las ventas globales de cada juego de los seleccionados a estudiar.\n",
        "\n",
        "¿Son significativas las diferencias en las ventas? ¿Qué sucede con las ventas promedio en varias plataformas? Describe tus hallazgos.\n",
        "\n",
        "* PS4    (min=  2     , Q1=  58        , mediana =  85       , Q3=  105     , max =  119  , media =  79 )\n",
        "* XOne   (min=   19   , Q1=  24        , mediana =  40        , Q3= 56      , max =   60 , media = 40   )\n",
        "* 3DS    (min=   12  , Q1=   32       , mediana =   48       , Q3=   55    , max =    63  , media = 43 )\n",
        "* PC  +   (min=   0    , Q1=  4        , mediana =   9       , Q3=    12   , max =    35   , media = 10)\n",
        "* PS3    (min=   4    , Q1=  34        , mediana =  107        , Q3=   125    , max =  157  , media = 85   )\n",
        "* PSP    (min=   0    , Q1=  6        , mediana =   26       , Q3=   39    , max =   55  , media = 24  )\n",
        "* PSV    (min=   4    , Q1=  5        , mediana =   8       , Q3=   12    , max =    16  , media = 9 )\n",
        "* Wii     (min=  0     , Q1= 6         , mediana =  60        , Q3=  145     , max =  207  , media = 81   )\n",
        "* WiiU -    (min=  5     , Q1= 16         , mediana = 18         , Q3=  22     , max =  22  , media = 16   )\n",
        "* X360    (min=  2     , Q1=  29        , mediana =  92        , Q3=   124    , max =   170  , media = 80  )\n",
        "\n",
        "Sí hay diferencias significativas en las ventas de los diferentes videojuegos, para poder diferenciar cuales son los video juegos más rentables suele se útil comparar la media(promedio) con la mediana de las ventas de cada uno de los juegos; para hacer una interpretación correcta hay que tomar en cuenta dos factores:\n",
        "* Los valores atípicos:  Si son muy extremos este puede alterar el valor de la media como el caso de PC que tiene un valor átipo mayor al máximo provocando que la media sea mayor a la mediana y en el caso de WiiU un valor atípico menor al mínimo produciendo una media menor a la mediana.\n",
        "* La distribución : Podemos observar que en ocasiones en las que la media es menor que la mediana sin que haya valores atípicos ( como el caso de PS3), esto se debe a que hay veces que los variables empiezan a tomar valores mucho más pequeños que las mediana y llegan a tomar valores no tan grandes como para compensar. Y en ocasiones sucede lo opuesto (ejemplo; Wii), las variables llegan a tomar valores mucho más grandes que las mediana y pero empizan a tomar valores no tan pequeños como para compensar.  La diferencia mediana- Q1 y la diferencia Q2 - mediana, podemos ver hacia donde estan cargados los valores de la variable, si estas dos diferencias son iguales quiere descir que hay una distribución normal y hay una distribución simétrica; si la diferencia mediana - Q1 es mayor que Q2-mediana entonces hay un sesgo a la izquierda; por el contrario si Q2-mediana es mayor que mediana- Q1  existe un sesgo a la derecha.\n",
        "\n",
        "Para este caso PS3, Wii, X360 y PS4 son los videojuegos con mayores ganancias.\n",
        "\n",
        "NOTA: Los valores aquí expuestos estan redondeados hacia abajo si decimales menor a 0.5 y hacia arriba si 0.5 o mayor. Los valores exactos se pueden consultar al ejecutar el código de abajo."
      ]
    },
    {
      "cell_type": "code",
      "execution_count": null,
      "metadata": {
        "trusted": true,
        "id": "Mk15mbrtcabS",
        "outputId": "94972d35-8a08-4e55-e482-fc69078111de"
      },
      "outputs": [
        {
          "data": {
            "image/png": "[encoded data removed]",
            "text/plain": [
              "<Figure size 640x480 with 1 Axes>"
            ]
          },
          "metadata": {},
          "output_type": "display_data"
        },
        {
          "name": "stdout",
          "output_type": "stream",
          "text": [
            "count      4.000000\n",
            "mean      78.535000\n",
            "std       40.567917\n",
            "min       25.990000\n",
            "25%       58.435000\n",
            "50%       84.625000\n",
            "75%      104.725000\n",
            "max      118.900000\n",
            "Name: PS4, dtype: float64\n"
          ]
        },
        {
          "data": {
            "image/png": "[encoded data removed]",
            "text/plain": [
              "<Figure size 640x480 with 1 Axes>"
            ]
          },
          "metadata": {},
          "output_type": "display_data"
        },
        {
          "name": "stdout",
          "output_type": "stream",
          "text": [
            "count     4.000000\n",
            "mean     39.830000\n",
            "std      20.313977\n",
            "min      18.960000\n",
            "25%      24.352500\n",
            "50%      40.110000\n",
            "75%      55.587500\n",
            "max      60.140000\n",
            "Name: XOne, dtype: float64\n"
          ]
        },
        {
          "data": {
            "image/png": "[encoded data removed]",
            "text/plain": [
              "<Figure size 640x480 with 1 Axes>"
            ]
          },
          "metadata": {},
          "output_type": "display_data"
        },
        {
          "name": "stdout",
          "output_type": "stream",
          "text": [
            "count     8.000000\n",
            "mean     32.316250\n",
            "std      25.170159\n",
            "min       0.020000\n",
            "25%      11.430000\n",
            "50%      35.770000\n",
            "75%      52.962500\n",
            "max      63.200000\n",
            "Name: 3DS, dtype: float64\n"
          ]
        },
        {
          "data": {
            "image/png": "[encoded data removed]",
            "text/plain": [
              "<Figure size 640x480 with 1 Axes>"
            ]
          },
          "metadata": {},
          "output_type": "display_data"
        },
        {
          "name": "stdout",
          "output_type": "stream",
          "text": [
            "count    26.000000\n",
            "mean      9.956154\n",
            "std       8.184351\n",
            "min       0.030000\n",
            "25%       4.450000\n",
            "50%       8.730000\n",
            "75%      12.767500\n",
            "max      35.160000\n",
            "Name: PC, dtype: float64\n"
          ]
        },
        {
          "data": {
            "image/png": "[encoded data removed]",
            "text/plain": [
              "<Figure size 640x480 with 1 Axes>"
            ]
          },
          "metadata": {},
          "output_type": "display_data"
        },
        {
          "name": "stdout",
          "output_type": "stream",
          "text": [
            "count     13.000000\n",
            "mean      71.937692\n",
            "std       59.369560\n",
            "min        0.190000\n",
            "25%       16.820000\n",
            "50%       73.190000\n",
            "75%      118.790000\n",
            "max      157.980000\n",
            "Name: PS3, dtype: float64\n"
          ]
        },
        {
          "data": {
            "image/png": "[encoded data removed]",
            "text/plain": [
              "<Figure size 640x480 with 1 Axes>"
            ]
          },
          "metadata": {},
          "output_type": "display_data"
        },
        {
          "name": "stdout",
          "output_type": "stream",
          "text": [
            "count    12.000000\n",
            "mean     24.464167\n",
            "std      20.434488\n",
            "min       0.120000\n",
            "25%       6.140000\n",
            "50%      26.430000\n",
            "75%      39.295000\n",
            "max      56.280000\n",
            "Name: PSP, dtype: float64\n"
          ]
        },
        {
          "data": {
            "image/png": "[encoded data removed]",
            "text/plain": [
              "<Figure size 640x480 with 1 Axes>"
            ]
          },
          "metadata": {},
          "output_type": "display_data"
        },
        {
          "name": "stdout",
          "output_type": "stream",
          "text": [
            "count     6.000000\n",
            "mean      8.968333\n",
            "std       4.729695\n",
            "min       4.250000\n",
            "25%       5.035000\n",
            "50%       8.420000\n",
            "75%      11.572500\n",
            "max      16.190000\n",
            "Name: PSV, dtype: float64\n"
          ]
        },
        {
          "data": {
            "image/png": "[encoded data removed]",
            "text/plain": [
              "<Figure size 640x480 with 1 Axes>"
            ]
          },
          "metadata": {},
          "output_type": "display_data"
        },
        {
          "name": "stdout",
          "output_type": "stream",
          "text": [
            "count     11.000000\n",
            "mean      82.119091\n",
            "std       80.101105\n",
            "min        0.180000\n",
            "25%        6.170000\n",
            "50%       59.790000\n",
            "75%      146.800000\n",
            "max      206.970000\n",
            "Name: Wii, dtype: float64\n"
          ]
        },
        {
          "data": {
            "image/png": "[encoded data removed]",
            "text/plain": [
              "<Figure size 640x480 with 1 Axes>"
            ]
          },
          "metadata": {},
          "output_type": "display_data"
        },
        {
          "name": "stdout",
          "output_type": "stream",
          "text": [
            "count     5.000000\n",
            "mean     16.438000\n",
            "std       7.068244\n",
            "min       4.600000\n",
            "25%      16.350000\n",
            "50%      17.560000\n",
            "75%      21.650000\n",
            "max      22.030000\n",
            "Name: WiiU, dtype: float64\n"
          ]
        },
        {
          "data": {
            "image/png": "[encoded data removed]",
            "text/plain": [
              "<Figure size 640x480 with 1 Axes>"
            ]
          },
          "metadata": {},
          "output_type": "display_data"
        },
        {
          "name": "stdout",
          "output_type": "stream",
          "text": [
            "count     12.000000\n",
            "mean      80.550833\n",
            "std       57.716995\n",
            "min        1.520000\n",
            "25%       29.045000\n",
            "50%       91.995000\n",
            "75%      124.632500\n",
            "max      170.550000\n",
            "Name: X360, dtype: float64\n"
          ]
        }
      ],
      "source": [
        "platforms_selected = ['PS4', 'XOne', '3DS', 'PC', 'PS3', 'PSP', 'PSV', 'Wii', 'WiiU', 'X360']\n",
        "\n",
        "for platform in platforms_selected:\n",
        "    sns.boxplot(pivot_data[platform])\n",
        "    plt.show()\n",
        "    print(pivot_data[platform].describe())\n",
        ""
      ]
    },
    {
      "cell_type": "code",
      "source": [],
      "metadata": {
        "id": "1Piuo5ptn1mP"
      },
      "execution_count": null,
      "outputs": []
    },
    {
      "cell_type": "markdown",
      "metadata": {
        "id": "PiRR0IuUcabd"
      },
      "source": [
        "#### Gráfico de dispersión\n",
        "\n",
        "Para observar cómo las reseñas de usuarios y profesionales afectan las ventas de una plataforma popular, se elige la plataforma PS3 por ser la que en promedio ha generado mayores ventas, lleva 11 años en el mercado y sigue generando ganancias.  \n",
        "Conclusiones:\n",
        "\n",
        "Al calcular la correlacion entre las reseñas y las ventas podemos ver que sí hay una correlación positiva, sin embargo, para ambos casos ( reseñas de usuario y de criticos) esas relaciones son muy pequeña.\n",
        "\n",
        "Al crear los gráficos de dispersión se facilita visualizar estas relaciones. Para el caso de la correlación entre ventas totales y reseña de usuario podemos ver que aunque hay varios videojuegos con reseñas altas no todos tuvieron grandes ventas,así como tambien hay videojuegos con reseñas bajas que obtivieron más ventas que otros con mayor calificación.\n",
        "Para el caso de la correlacion entre ventas totales y reseñas de críticos observamos que hay una correlación mayor, si bien hay muchos videojuegos que no tuvieron grandes ventas, los videojuegos con mayores ventas sí se encuentran entre los mejor calificados."
      ]
    },
    {
      "cell_type": "code",
      "execution_count": null,
      "metadata": {
        "trusted": true,
        "id": "uqU_oE77cabd",
        "outputId": "c55bd997-ab8a-4db5-a72f-1111c6b477c5"
      },
      "outputs": [
        {
          "name": "stdout",
          "output_type": "stream",
          "text": [
            "Correlación ventas con reseña usuario: 0.041004026504435964\n",
            "Correlación ventas con reseña critico: 0.39741296091581324\n"
          ]
        },
        {
          "data": {
            "text/plain": [
              "<function matplotlib.pyplot.show(close=None, block=None)>"
            ]
          },
          "execution_count": 14,
          "metadata": {},
          "output_type": "execute_result"
        },
        {
          "data": {
            "image/png": "[encoded data removed]",
            "text/plain": [
              "<Figure size 500x500 with 1 Axes>"
            ]
          },
          "metadata": {},
          "output_type": "display_data"
        },
        {
          "data": {
            "image/png": "[encoded data removed]",
            "text/plain": [
              "<Figure size 500x500 with 1 Axes>"
            ]
          },
          "metadata": {},
          "output_type": "display_data"
        }
      ],
      "source": [
        "data_PS3 = data[data['platform'] == 'PS3']\n",
        "\n",
        "print (f'Correlación ventas con reseña usuario:', data_PS3['user_score'].corr(data_PS3['total_sales']))\n",
        "print ( f'Correlación ventas con reseña critico:', data_PS3['critic_score'].corr(data_PS3['total_sales']))\n",
        "\n",
        "data_PS3.plot(x='user_score',\n",
        "             y = 'total_sales',\n",
        "              kind ='scatter',\n",
        "             title = 'Correlation between user score and total sales in platform PS3',\n",
        "             color = 'gold',\n",
        "             figsize = [5,5],\n",
        "             xlim =  [0,10],\n",
        "             xlabel = 'User score (0-10)',\n",
        "             ylabel = 'Total sales (million usd dolars)')\n",
        "plt.show\n",
        "\n",
        "data_PS3.plot(x='critic_score',\n",
        "             y = 'total_sales',\n",
        "              kind ='scatter',\n",
        "             title = 'Correlation between critic score and total sales in platform PS3',\n",
        "             color = 'green',\n",
        "             figsize = [5,5],\n",
        "             xlim =  [0,100],\n",
        "             xlabel = 'Critic score (0-100)',\n",
        "             ylabel = 'Total sales (million usd dolars)')\n",
        "plt.show\n"
      ]
    },
    {
      "cell_type": "markdown",
      "metadata": {
        "id": "rgjx_kyAcabe"
      },
      "source": [
        "#### Ventas en distintas plataformas\n",
        "Se comparan las ventas de los mismos juegos en diferentes plataformas.\n",
        "\n",
        "En la gráfica creada vemos cada videojuego que esta presente en varias plataformas por un color distinto, por lo que hay varias barritas de cada color representando cuantas ventas tuvo ese videojuego en cada plataforma que esta presente. Vemos como dependiendo el videojuego y las opciones de plataformas en las que se los usurarios prefieren : 'PS', 'PS3', 'DS'. También es importante señalar, la gran cantidad de videojuegos que estan adaptados a 'Wii', en esta plataforma aunque no es la que produce la mayor cantidad de un juego en particular, sí produce ventas en la diversidad de juegos que tiene al mercado.\n"
      ]
    },
    {
      "cell_type": "code",
      "execution_count": null,
      "metadata": {
        "trusted": true,
        "id": "BlkF66vocabf",
        "outputId": "582a60b5-d297-40cd-b922-ce8949331676"
      },
      "outputs": [
        {
          "name": "stderr",
          "output_type": "stream",
          "text": [
            "C:\\Users\\cucum\\AppData\\Local\\Temp\\ipykernel_2368\\3427259259.py:12: FutureWarning: A value is trying to be set on a copy of a DataFrame or Series through chained assignment using an inplace method.\n",
            "The behavior will change in pandas 3.0. This inplace method will never work because the intermediate object on which we are setting values always behaves as a copy.\n",
            "\n",
            "For example, when doing 'df[col].method(value, inplace=True)', try using 'df.method({col: value}, inplace=True)' or df[col] = df[col].method(value) instead, to perform the operation inplace on the original object.\n",
            "\n",
            "\n",
            "  sales_diff_platforms[col].fillna(0,inplace=True)\n"
          ]
        },
        {
          "data": {
            "image/png": "[encoded data removed]",
            "text/plain": [
              "<Figure size 640x480 with 1 Axes>"
            ]
          },
          "metadata": {},
          "output_type": "display_data"
        }
      ],
      "source": [
        "# Se crea dataframe con los títulos repetidos ( los que se encuentran en más de una plataforma,además de PS3)\n",
        "games_duplicated = data[data['name'].duplicated() == True]\n",
        "\n",
        "#Se crea tabla dinamica con plataforma como indice, videojuegos como columna y las ventas totales como valor\n",
        "sales_diff_platforms = games_duplicated.pivot_table(index='platform',\n",
        "                                                    columns = 'name',\n",
        "                                                    values ='total_sales',\n",
        "                                                    aggfunc = 'sum')\n",
        "\n",
        "#Los valores auscentes en la tabla dinamica se reemplazan por ceros\n",
        "for col in sales_diff_platforms.columns:\n",
        "    sales_diff_platforms[col].fillna(0,inplace=True)\n",
        "#Se crea la columna con los nombres de plataformas para poder graficar\n",
        "sales_diff_platforms['platform'] = sales_diff_platforms.index\n",
        "\n",
        "#Se selecionan algunos video juegos para no sobre cargar la imagen\n",
        "#print(sales_diff_platforms.columns)\n",
        "\n",
        "games = [f' Frozen: Olaf\\'s Quest',\n",
        "         '007: Quantum of Solace',\n",
        "         '007: The World is not Enough',\n",
        "         '11eyes: CrossOver',\n",
        "         '18 Wheeler: American Pro Trucker',\n",
        "         '187: Ride or Die',\n",
        "         '2010 FIFA World Cup South Africa',\n",
        "         'Zumba Fitness: World Party',\n",
        "         '[Prototype 2]',\n",
        "         '[Prototype]',\n",
        "         'de Blob 2',\n",
        "         'iCarly',\n",
        "         'iCarly 2: iJoin The Click!',\n",
        "         'pro evolution soccer 2011',\n",
        "         'uDraw Studio: Instant Artist'\n",
        "        ]\n",
        "\n",
        "sales_diff_platforms.plot(x= 'platform',\n",
        "                          y = games,\n",
        "                          kind='bar',\n",
        "                          title ='Correlation between platforms and total sales',\n",
        "                          ylabel = 'Total sales (million usd dolars)',\n",
        "                          xlabel = 'Platforms',\n",
        "                          rot = 45)\n",
        "\n",
        "plt.legend(games)\n",
        "plt.show()\n"
      ]
    },
    {
      "cell_type": "markdown",
      "metadata": {
        "id": "uxzpfjjgcabj"
      },
      "source": [
        "#### Distribución por género\n",
        "Revisamos la distribución general de los juegos por género.\n",
        "\n",
        "¿Qué se puede decir de los géneros más rentables? ¿Puedes generalizar acerca de los géneros con ventas altas y bajas?\n",
        "\n",
        "Encontramos que el genero más rentable es 'Action', seguido por 'Sports'. Los tres menos rentables son 'Strategy', 'Puzzle', y 'Adventure'.\n",
        "No se puede generalizar, hay características que comparten generos que son muy rentables y que son menos rentables."
      ]
    },
    {
      "cell_type": "code",
      "execution_count": null,
      "metadata": {
        "trusted": true,
        "id": "dHvPxaY-cabk",
        "outputId": "aa75826b-9525-4662-c706-8e1436192b05"
      },
      "outputs": [
        {
          "name": "stdout",
          "output_type": "stream",
          "text": [
            "genre\n",
            "                   2.42\n",
            "Action          1744.17\n",
            "Adventure        237.59\n",
            "Fighting         447.53\n",
            "Misc             802.51\n",
            "Platform         827.77\n",
            "Puzzle           242.57\n",
            "Racing           728.67\n",
            "Role-Playing     934.56\n",
            "Shooter         1052.45\n",
            "Simulation       389.97\n",
            "Sports          1331.27\n",
            "Strategy         174.23\n",
            "Name: total_sales, dtype: float64\n"
          ]
        },
        {
          "data": {
            "image/png": "[encoded data removed]",
            "text/plain": [
              "<Figure size 640x480 with 1 Axes>"
            ]
          },
          "metadata": {},
          "output_type": "display_data"
        }
      ],
      "source": [
        "sales_per_genre = data.groupby(by='genre')['total_sales'].sum()\n",
        "print(sales_per_genre)\n",
        "\n",
        "sales_per_genre.plot(x='genre',\n",
        "                     y = 'total_sales',\n",
        "                     kind ='bar',\n",
        "                     title = 'Correlation between total sales and genre',\n",
        "                     ylabel = 'Genre',\n",
        "                     xlabel = 'Total sales (million usd dolars)')\n",
        "plt.show()"
      ]
    },
    {
      "cell_type": "markdown",
      "metadata": {
        "id": "GcnhLpcTcabk"
      },
      "source": [
        "## Perfil de usuario por región\n",
        "\n",
        "¿Diferencias entre regiones?\n",
        "Se observa que las regiones de NA y EU tienen gustos muy similares, mientras que en JP los resultados varian mucho más:\n",
        "* Plataformas: En NA y EU entre las 5 más utilizadas figuran en común 4 (X360,PS2,Wii,PS3), mientras que en JP son figuran dos poco usadas en las otras regiones ( SNES y 3DS).\n",
        "* Género: Los tres comparten Action, Sports, Miscelania; sin embargo en JP estos se ven opacados por un género preferido: Role- Playing. EU y NA además comparten el género Shooter.\n",
        "* Claificación ESRB : En las tres regiones el preferido es 'E', despues en meros proporciones 'T', 'M', 'E10+' en ese orden (solo en EU se invierte en orden 'T' y 'M'). Cabe hacer notar que en JP se tiene muy poca cantidad de información en cuanto a la clasificación ESRB, es mucho mayor la proporción de valores auscentes."
      ]
    },
    {
      "cell_type": "markdown",
      "metadata": {
        "id": "qa2SH3pbcabl"
      },
      "source": [
        "### Región Norte América\n",
        "   \n",
        "* NA:\n",
        "   * Las cinco plataformas principales: X360, PS2, Wii, DS, PS3\n",
        "   * Los cinco géneros principales: Action, Sports, Shooter, Platform, Misc\n",
        "   * ¿Las clasificaciones de ESRB afectan a las ventas de esta región? Los juegos más populares tienen cladificación 'E', le siguen con la misma proporción 'T' y 'M', después la clasificación 'E10+' , y las demás clasificación casi no figuran en la gráfica a comparación."
      ]
    },
    {
      "cell_type": "code",
      "execution_count": null,
      "metadata": {
        "trusted": true,
        "id": "9XNQfgqKcabl",
        "outputId": "3cbf304e-8205-4f6c-bb47-1afd5a15ca6b"
      },
      "outputs": [
        {
          "data": {
            "image/png": "[encoded data removed]",
            "text/plain": [
              "<Figure size 640x480 with 1 Axes>"
            ]
          },
          "metadata": {},
          "output_type": "display_data"
        },
        {
          "data": {
            "image/png": "[encoded data removed]",
            "text/plain": [
              "<Figure size 640x480 with 1 Axes>"
            ]
          },
          "metadata": {},
          "output_type": "display_data"
        },
        {
          "data": {
            "image/png": "[encoded data removed]",
            "text/plain": [
              "<Figure size 640x480 with 1 Axes>"
            ]
          },
          "metadata": {},
          "output_type": "display_data"
        }
      ],
      "source": [
        "#Determinar las 5 plataformas principales:\n",
        "\n",
        "sales_per_platform_na = data.groupby(by='platform')['na_sales'].sum()\n",
        "sales_per_platform_na.plot(x='platform',\n",
        "                           y = 'na_sales',\n",
        "                           kind ='bar',\n",
        "                           title = 'Correlation between NA sales and platform',\n",
        "                           ylabel = 'Genre',\n",
        "                           xlabel = 'NA sales (million usd dolars)')\n",
        "plt.show()\n",
        "\n",
        "# Determinar los 5 géneros principales\n",
        "sales_per_genre_na = data.groupby(by='genre')['na_sales'].sum()\n",
        "sales_per_genre_na.plot(x='genre',\n",
        "                        y = 'na_sales',\n",
        "                        kind ='bar',\n",
        "                        title = 'Correlation between NA sales and genre',\n",
        "                        ylabel = 'Genre',\n",
        "                        xlabel = 'NA sales (million usd dolars)',\n",
        "                       color='violet')\n",
        "plt.show()\n",
        "\n",
        "# Los ESRB afectan las ventas de esta región\n",
        "sales_per_rating_na = data.groupby(by='rating')['na_sales'].sum()\n",
        "sales_per_rating_na.plot(x='rating',\n",
        "                         y = 'na_sales',\n",
        "                         kind ='bar',\n",
        "                         title = 'Correlation between NA sales and genre',\n",
        "                         ylabel = 'ESRB Clasification',\n",
        "                         xlabel = 'NA sales (million usd dolars)',\n",
        "                         color='coral')\n",
        "plt.show()"
      ]
    },
    {
      "cell_type": "markdown",
      "metadata": {
        "id": "mk0ep-cJcabm"
      },
      "source": [
        "### Región Unión Europea\n",
        "   \n",
        "* EU:\n",
        "   * Las cinco plataformas principales: PS2, PS3, X360, Wii, PS\n",
        "   * Los cinco géneros principales: Action, Sports, Shooter, Racing, Misc\n",
        "   * ¿Las clasificaciones de ESRB afectan a las ventas de esta región? La clasificación más popular es 'E', continuamos con 'M', 'T', 'E10+' en orden descendente; el resto son muy poco utilizados.\n",
        "   "
      ]
    },
    {
      "cell_type": "code",
      "execution_count": null,
      "metadata": {
        "trusted": true,
        "id": "qVRFr02_cabn",
        "outputId": "2bca29f0-314f-4a84-9913-06b95131cb25"
      },
      "outputs": [
        {
          "data": {
            "image/png": "[encoded data removed]",
            "text/plain": [
              "<Figure size 640x480 with 1 Axes>"
            ]
          },
          "metadata": {},
          "output_type": "display_data"
        },
        {
          "data": {
            "image/png": "[encoded data removed]",
            "text/plain": [
              "<Figure size 640x480 with 1 Axes>"
            ]
          },
          "metadata": {},
          "output_type": "display_data"
        },
        {
          "data": {
            "image/png": "[encoded data removed]",
            "text/plain": [
              "<Figure size 640x480 with 1 Axes>"
            ]
          },
          "metadata": {},
          "output_type": "display_data"
        }
      ],
      "source": [
        "#Determinar las 5 plataformas principales:\n",
        "\n",
        "sales_per_platform_eu = data.groupby(by='platform')['eu_sales'].sum()\n",
        "sales_per_platform_eu.plot(x='platform',\n",
        "                           y = 'eu_sales',\n",
        "                           kind ='bar',\n",
        "                           title = 'Correlation between EU sales and platform',\n",
        "                           ylabel = 'Genre',\n",
        "                           xlabel = 'EU sales (million usd dolars)')\n",
        "plt.show()\n",
        "\n",
        "# Determinar los 5 géneros principales\n",
        "sales_per_genre_eu = data.groupby(by='genre')['eu_sales'].sum()\n",
        "sales_per_genre_eu.plot(x='genre',\n",
        "                        y = 'eu_sales',\n",
        "                        kind ='bar',\n",
        "                        title = 'Correlation between EU sales and genre',\n",
        "                        ylabel = 'Genre',\n",
        "                        xlabel = 'EU sales (million usd dolars)',\n",
        "                       color='violet')\n",
        "plt.show()\n",
        "\n",
        "# Los ESRB afectan las ventas de esta región\n",
        "sales_per_rating_eu = data.groupby(by='rating')['eu_sales'].sum()\n",
        "sales_per_rating_eu.plot(x='rating',\n",
        "                         y = 'eu_sales',\n",
        "                         kind ='bar',\n",
        "                         title = 'Correlation between EU sales and genre',\n",
        "                         ylabel = 'ESRB Clasification',\n",
        "                         xlabel = 'EU sales (million usd dolars)',\n",
        "                         color='coral')\n",
        "plt.show()"
      ]
    },
    {
      "cell_type": "markdown",
      "metadata": {
        "id": "IrNxRj6Fcabo"
      },
      "source": [
        "### Región Japón\n",
        "   \n",
        "* JP:\n",
        "   * Las cinco plataformas principales: DS, PS, PS2, SNES, 3DS\n",
        "   * Los cinco géneros principales: Role-Playing, Action, Sports, Platform, Misc\n",
        "   * ¿Las clasificaciones de ESRB afectan a las ventas de esta región? En orden descendente 'E', 'T', 'M','E10+'. Aquí notamos que hay mucho valores auscente, que la información con la que sí contamos."
      ]
    },
    {
      "cell_type": "code",
      "execution_count": null,
      "metadata": {
        "trusted": true,
        "id": "MaCVTVj6cabp",
        "outputId": "23b3fab4-5266-44a7-a2e9-f34e026aadcb"
      },
      "outputs": [
        {
          "data": {
            "image/png": "[encoded data removed]",
            "text/plain": [
              "<Figure size 640x480 with 1 Axes>"
            ]
          },
          "metadata": {},
          "output_type": "display_data"
        },
        {
          "data": {
            "image/png": "[encoded data removed]",
            "text/plain": [
              "<Figure size 640x480 with 1 Axes>"
            ]
          },
          "metadata": {},
          "output_type": "display_data"
        },
        {
          "data": {
            "image/png": "[encoded data removed]",
            "text/plain": [
              "<Figure size 640x480 with 1 Axes>"
            ]
          },
          "metadata": {},
          "output_type": "display_data"
        }
      ],
      "source": [
        "#Determinar las 5 plataformas principales:\n",
        "\n",
        "sales_per_platform_jp = data.groupby(by='platform')['jp_sales'].sum()\n",
        "sales_per_platform_jp.plot(x='platform',\n",
        "                           y = 'jp_sales',\n",
        "                           kind ='bar',\n",
        "                           title = 'Correlation between JP sales and platform',\n",
        "                           ylabel = 'Genre',\n",
        "                           xlabel = 'JP sales (million usd dolars)')\n",
        "plt.show()\n",
        "\n",
        "# Determinar los 5 géneros principales\n",
        "sales_per_genre_jp = data.groupby(by='genre')['jp_sales'].sum()\n",
        "sales_per_genre_jp.plot(x='genre',\n",
        "                        y = 'jp_sales',\n",
        "                        kind ='bar',\n",
        "                        title = 'Correlation between JP sales and genre',\n",
        "                        ylabel = 'Genre',\n",
        "                        xlabel = 'JP sales (million usd dolars)',\n",
        "                       color='violet')\n",
        "plt.show()\n",
        "\n",
        "# Los ESRB afectan las ventas de esta región\n",
        "sales_per_rating_jp = data.groupby(by='rating')['jp_sales'].sum()\n",
        "sales_per_rating_jp.plot(x='rating',\n",
        "                         y = 'jp_sales',\n",
        "                         kind ='bar',\n",
        "                         title = 'Correlation between JP sales and genre',\n",
        "                         ylabel = 'ESRB Clasification',\n",
        "                         xlabel = 'JP sales (million usd dolars)',\n",
        "                         color='coral')\n",
        "plt.show()"
      ]
    },
    {
      "cell_type": "markdown",
      "metadata": {
        "id": "Vp9HRvf0cabp"
      },
      "source": [
        "## Prueba de hipótesis"
      ]
    },
    {
      "cell_type": "markdown",
      "metadata": {
        "id": "7ydYaSo7cabq"
      },
      "source": [
        "### Las calificaciones promedio de los usuarios para las plataformas Xbox One y PC son las mismas.\n",
        "\n",
        "* Hipotesis nula:Las calificaciones promedio de los usuarios para las plataformas Xbox One y PC son las mismas.\n",
        "* Hipotesis alternativa: Las calificaciones promedio de los usuarios para las plataformas Xbox One y PC son diferentes.\n",
        "* Criterio para probar hipótesis: Sera hipótesis de dos colas, ya que queremos saber si son iguales. No importa si el otro valor medio cae a ala izquierda o derecha ya que será igualmente considerado \"diferente\". Aún no tenemos argumentos para pensar que las hipótesis nula es cierta, sin embargo se calcula las varianzas y se hace la prueba de Levene para decircir si se asigna el valor 'equal_var = False' o no. Se usará valor alfa 5%.\n",
        "\n",
        "* Resultado : Se rechaza hiótesis nula, por lo que aceptamos hipótesis alternativa: Las calificaciones promedio de los usuarios para las plataformas Xbox One y PC son diferentes.\n"
      ]
    },
    {
      "cell_type": "code",
      "execution_count": null,
      "metadata": {
        "trusted": true,
        "id": "RQZAx3uecabq",
        "outputId": "51108d56-a43c-4136-9477-8935c8ff8679"
      },
      "outputs": [
        {
          "name": "stdout",
          "output_type": "stream",
          "text": [
            "0\n",
            "0\n"
          ]
        },
        {
          "data": {
            "image/png": "[encoded data removed]",
            "text/plain": [
              "<Figure size 640x480 with 1 Axes>"
            ]
          },
          "metadata": {},
          "output_type": "display_data"
        },
        {
          "data": {
            "image/png": "[encoded data removed]",
            "text/plain": [
              "<Figure size 640x480 with 1 Axes>"
            ]
          },
          "metadata": {},
          "output_type": "display_data"
        },
        {
          "data": {
            "image/png": "[encoded data removed]",
            "text/plain": [
              "<Figure size 640x480 with 1 Axes>"
            ]
          },
          "metadata": {},
          "output_type": "display_data"
        },
        {
          "data": {
            "image/png": "[encoded data removed]",
            "text/plain": [
              "<Figure size 640x480 with 1 Axes>"
            ]
          },
          "metadata": {},
          "output_type": "display_data"
        },
        {
          "name": "stdout",
          "output_type": "stream",
          "text": [
            "Varianza XOne: 0.9599228950718312\n",
            "\n",
            "Varianza PC: 0.34986159290795044\n",
            "\n",
            "Valor P Levene: 1.1213860669412938e-13\n",
            "\n",
            "Valor p st.ttest: 1.4355394065024916e-26\n",
            "\n",
            "Rechazamos hipótesis nula\n"
          ]
        }
      ],
      "source": [
        "print(data['user_score'].isnull().sum())\n",
        "\n",
        "# Se obtienen serie de valores de reseñas de usuario para Xbox One\n",
        "df_XOne = data[data['platform']=='XOne']\n",
        "df_user_score_XOne = df_XOne['user_score']\n",
        "print(df_user_score_XOne.isnull().sum())\n",
        "     #Observar valores atípicos\n",
        "sns.boxplot(df_user_score_XOne)\n",
        "plt.show()\n",
        "   #Eliminar valores atípicos\n",
        "for i in df_user_score_XOne.index:\n",
        "    value = df_user_score_XOne[i]\n",
        "    if value < 4.3:\n",
        "        df_user_score_XOne.pop(i)\n",
        "    else:\n",
        "        df_user_score_XOne = df_user_score_XOne\n",
        "\n",
        "sns.boxplot(df_user_score_XOne)\n",
        "plt.show()\n",
        "\n",
        "# Se obtienen serie de valores de reseñas de usuario para PC\n",
        "df_PC = data[data['platform']=='PC']\n",
        "df_user_score_PC = df_PC['user_score']\n",
        "   #Observar valores atípicos\n",
        "sns.boxplot(df_user_score_PC)\n",
        "plt.show()\n",
        "    #Eliminar valores atípicos\n",
        "for i in df_user_score_PC.index:\n",
        "    value = df_user_score_PC[i]\n",
        "    if (value < 6.5) or (value > 9.2):\n",
        "        df_user_score_PC.pop(i)\n",
        "    else:\n",
        "        df_user_score_PC = df_user_score_PC\n",
        "\n",
        "sns.boxplot(df_user_score_PC)\n",
        "plt.show()\n",
        "\n",
        "## PRUEBA DE LEVENE ##\n",
        "\n",
        "# Claculo de varianzas\n",
        "var_XOne = df_user_score_XOne.var()\n",
        "print(f'Varianza XOne: {var_XOne}')\n",
        "print()\n",
        "\n",
        "var_PC = df_user_score_PC.var()\n",
        "print(f'Varianza PC: {var_PC}')\n",
        "print()\n",
        "\n",
        "#Prueba de Levene\n",
        "levene_results = st.levene(df_user_score_XOne, df_user_score_PC)\n",
        "print (f'Valor P Levene: {levene_results.pvalue}')\n",
        "print()\n",
        "\n",
        "## COMPROBAMOS HIPÓTESIS ##\n",
        "\n",
        "# alpha\n",
        "alpha = 0.05\n",
        "results = st.ttest_ind(df_user_score_XOne, df_user_score_PC, equal_var = False)\n",
        "#equal_var = False, no se puede asegurar que las varianzas son diferentes para XOne= 0.95 para PC = 0.349.\n",
        "\n",
        "#Una condicion para rechazar hipótesis nula de 2 colas:\n",
        " #La diferencia entre los valores es estadísticamente significativa\n",
        "\n",
        "print(f'Valor p st.ttest: {results.pvalue}')\n",
        "print()\n",
        "if (results.pvalue < alpha): #es una prueba de dos colas (valor de p no se divide entre dos.)\n",
        "    print(\"Rechazamos hipótesis nula\")\n",
        "else:\n",
        "    print(\"No hay motivos suficientes para rechazar hipótesis nula\")"
      ]
    },
    {
      "cell_type": "markdown",
      "metadata": {
        "id": "6nTuDbaRcabs"
      },
      "source": [
        "### Las calificaciones promedio de los usuarios para los géneros de Acción y Deportes son diferentes.\n",
        "\n",
        "* Hipotesis nula: Las calificaciones promedio de los usuarios para los géneros de Acción y Deportes son iguales.\n",
        "* Hipotesis alternativa: Las calificaciones promedio de los usuarios para los géneros de Acción y Deportes son diferentes.\n",
        "* Criterio para probar hipótesis: Sera hipótesis de dos colas, ya que queremos saber si son diferentes; no importa si el valor promedio de acción cae a ala izquierda o derecha de la media de deportes ya que será igualmente considerado \"diferente\". Tenemos argumentos para pensar que las hipótesis nula es falsa (equal_var = False), por las gráficas generadas en la sección anterior vemos que en las tres regiones se vende más 'acción' que 'deportes'. Se usará valor alfa 5%\n",
        "\n",
        "* Resultados: se rechaza hipótesis nula, por lo que se acepta hipótesis alternativa: Las calificaciones promedio de los usuarios para los géneros de Acción y Deportes son diferentes."
      ]
    },
    {
      "cell_type": "code",
      "execution_count": null,
      "metadata": {
        "trusted": true,
        "id": "SWKIrGJdcabs",
        "outputId": "531c86ab-f902-4508-e4b6-44371b23a769"
      },
      "outputs": [
        {
          "data": {
            "image/png": "[encoded data removed]",
            "text/plain": [
              "<Figure size 640x480 with 1 Axes>"
            ]
          },
          "metadata": {},
          "output_type": "display_data"
        },
        {
          "data": {
            "image/png": "[encoded data removed]",
            "text/plain": [
              "<Figure size 640x480 with 1 Axes>"
            ]
          },
          "metadata": {},
          "output_type": "display_data"
        },
        {
          "data": {
            "image/png": "[encoded data removed]",
            "text/plain": [
              "<Figure size 640x480 with 1 Axes>"
            ]
          },
          "metadata": {},
          "output_type": "display_data"
        },
        {
          "data": {
            "image/png": "[encoded data removed]",
            "text/plain": [
              "<Figure size 640x480 with 1 Axes>"
            ]
          },
          "metadata": {},
          "output_type": "display_data"
        },
        {
          "name": "stdout",
          "output_type": "stream",
          "text": [
            "Varianza XOne: 0.0952522800470212\n",
            "\n",
            "Varianza PC: 1.0504681760301626\n",
            "\n",
            "Valor P Levene: 7.925826610565482e-83\n",
            "\n",
            "Valor p (Resultados st.ttest): 4.780642358370365e-05\n",
            "Rechazamos hipótesis nula\n"
          ]
        }
      ],
      "source": [
        "# Se obtiene serie de valores de reseñas de usuario para género Acción\n",
        "df_action = data[data['genre']=='Action']\n",
        "df_user_score_action = df_action['user_score']\n",
        "     #Observar valores atípicos\n",
        "sns.boxplot(df_user_score_action)\n",
        "plt.show()\n",
        "   #Eliminar valores atípicos\n",
        "for i in df_user_score_action.index:\n",
        "    value = df_user_score_action[i]\n",
        "    if (value < 6.3) or (value > 7.8):\n",
        "        df_user_score_action.pop(i)\n",
        "    else:\n",
        "        df_user_score_action = df_user_score_action\n",
        "\n",
        "sns.boxplot(df_user_score_action)\n",
        "plt.show()\n",
        "\n",
        "# Se obtiene serie de valores de reseñas de usuario para género Deportes\n",
        "df_sports = data[data['genre']=='Sports']\n",
        "df_user_score_sports = df_sports['user_score']\n",
        "     #Observar valores atípicos\n",
        "sns.boxplot(df_user_score_sports)\n",
        "plt.show()\n",
        "   #Eliminar valores atípicos\n",
        "for i in df_user_score_sports.index:\n",
        "    value = df_user_score_sports[i]\n",
        "    if value < 2.5:\n",
        "        df_user_score_sports.pop(i)\n",
        "    else:\n",
        "        df_user_score_sports = df_user_score_sports\n",
        "\n",
        "sns.boxplot(df_user_score_sports)\n",
        "plt.show()\n",
        "\n",
        "## PRUEBA DE LEVENE ##\n",
        "\n",
        "# Claculo de varianzas\n",
        "var_action = df_user_score_action.var()\n",
        "print(f'Varianza XOne: {var_action}')\n",
        "print()\n",
        "\n",
        "var_sports = df_user_score_sports.var()\n",
        "print(f'Varianza PC: {var_sports}')\n",
        "print()\n",
        "\n",
        "#Prueba de Levene\n",
        "levene_results = st.levene(df_user_score_action, df_user_score_sports)\n",
        "print (f'Valor P Levene: {levene_results.pvalue}')\n",
        "print()\n",
        "\n",
        "\n",
        "######\n",
        "\n",
        "## COMPROBAMOS HIPÓTESIS ##\n",
        "\n",
        "alpha = 0.05\n",
        "results = st.ttest_ind(df_user_score_action, df_user_score_sports, equal_var=False)\n",
        "#equal_var = False, las varianzas son distantes action = 1.05 sports=0.09 y valor p de levene (7.92e-83) es menor a alpha (0.05)\n",
        "\n",
        "\n",
        "#Una condicion para rechazar hipótesis nula de 2 colas:\n",
        " #La diferencia entre los valores es estadísticamente significativa\n",
        "print(f'Valor p (Resultados st.ttest): {results.pvalue}')\n",
        "if (results.pvalue < alpha): #es una prueba de dos colas (valor de p no se divide entre dos.)\n",
        "    print(\"Rechazamos hipótesis nula\")\n",
        "else:\n",
        "    print(\"No hay motivos suficientes para rechazar hipótesis nula\")"
      ]
    },
    {
      "cell_type": "markdown",
      "metadata": {
        "id": "ZKCYAOYDcabu"
      },
      "source": [
        "## Conclusión general"
      ]
    },
    {
      "cell_type": "markdown",
      "metadata": {
        "id": "bUQ3A8NXcabu"
      },
      "source": [
        "Un analista de datos debe hacer un manejo conciente de los datos de la base de datos dada para poder obtener la información requerida y útil para la toma de decisiones.  Siempre tomando en cuenta la formas estándares de manejor para asegurar un buen resultado y la reproducibilidad y entendimiento del proceso:\n",
        "\n",
        "* En preprocesamiento de los datos: se lee el archivo y se asegura que no este en los formatos correctoas para su uso (columas descriptivas y en snake_case, tipos de datos adecuados a los valores de cada columna, rtellenar o eliminar filas con valores auscentes).\n",
        "* El procesamiento de los datos: Incluye el calculo de nuevas columnas a partir de las existentes según sea necesario, el análisis de los datos, formando gráficas y obteniendo valores estadísticos para responder firentes preguntas y entender el comportamiento general de los datos.\n",
        "* Poner a prueba hipótesis: Planteamiento de hipótesis nula y alternativa, obtención de la probabilidad de que una u otra suceda."
      ]
    },
    {
      "cell_type": "code",
      "execution_count": null,
      "metadata": {
        "trusted": true,
        "id": "msVJp6O7cabv"
      },
      "outputs": [],
      "source": []
    }
  ],
  "metadata": {
    "ExecuteTimeLog": [
      {
        "duration": 163,
        "start_time": "2025-01-15T21:18:23.924Z"
      },
      {
        "duration": 11,
        "start_time": "2025-01-15T21:18:30.608Z"
      },
      {
        "duration": 338,
        "start_time": "2025-01-15T21:20:04.152Z"
      },
      {
        "duration": 370,
        "start_time": "2025-01-15T21:20:04.581Z"
      },
      {
        "duration": 3,
        "start_time": "2025-01-15T21:22:44.568Z"
      },
      {
        "duration": 64,
        "start_time": "2025-01-15T21:22:45.136Z"
      },
      {
        "duration": 59,
        "start_time": "2025-01-15T21:23:13.817Z"
      },
      {
        "duration": 59,
        "start_time": "2025-01-15T21:25:06.719Z"
      },
      {
        "duration": 5,
        "start_time": "2025-01-15T21:25:12.618Z"
      },
      {
        "duration": 3,
        "start_time": "2025-01-15T21:25:22.466Z"
      },
      {
        "duration": 59,
        "start_time": "2025-01-15T21:25:53.375Z"
      },
      {
        "duration": 3,
        "start_time": "2025-01-15T21:26:02.451Z"
      },
      {
        "duration": 279,
        "start_time": "2025-01-15T21:26:13.022Z"
      },
      {
        "duration": 4,
        "start_time": "2025-01-15T21:26:13.303Z"
      },
      {
        "duration": 5,
        "start_time": "2025-01-15T21:28:32.296Z"
      },
      {
        "duration": 3,
        "start_time": "2025-01-15T21:28:59.853Z"
      },
      {
        "duration": 304,
        "start_time": "2025-01-15T21:30:37.452Z"
      },
      {
        "duration": 4,
        "start_time": "2025-01-15T21:30:49.937Z"
      },
      {
        "duration": 3,
        "start_time": "2025-01-15T21:30:59.340Z"
      },
      {
        "duration": 357,
        "start_time": "2025-01-15T21:35:02.814Z"
      },
      {
        "duration": 58,
        "start_time": "2025-01-15T21:35:54.205Z"
      },
      {
        "duration": 268,
        "start_time": "2025-01-15T21:36:18.428Z"
      },
      {
        "duration": 547,
        "start_time": "2025-01-15T21:36:18.698Z"
      },
      {
        "duration": 58,
        "start_time": "2025-01-15T21:39:53.635Z"
      },
      {
        "duration": 53,
        "start_time": "2025-01-15T22:07:04.383Z"
      },
      {
        "duration": 31,
        "start_time": "2025-01-15T22:07:26.598Z"
      },
      {
        "duration": 29,
        "start_time": "2025-01-15T22:07:57.110Z"
      },
      {
        "duration": 43,
        "start_time": "2025-01-15T22:08:08.887Z"
      },
      {
        "duration": 305,
        "start_time": "2025-01-15T22:09:32.698Z"
      },
      {
        "duration": 33,
        "start_time": "2025-01-15T22:09:33.005Z"
      },
      {
        "duration": 36,
        "start_time": "2025-01-15T22:10:19.564Z"
      },
      {
        "duration": 49,
        "start_time": "2025-01-15T22:10:36.268Z"
      },
      {
        "duration": 4,
        "start_time": "2025-01-15T22:16:14.721Z"
      },
      {
        "duration": 6,
        "start_time": "2025-01-15T22:17:32.830Z"
      },
      {
        "duration": 2,
        "start_time": "2025-01-15T22:24:03.209Z"
      },
      {
        "duration": 297,
        "start_time": "2025-01-15T22:27:38.237Z"
      },
      {
        "duration": 47,
        "start_time": "2025-01-15T22:27:38.536Z"
      },
      {
        "duration": 2,
        "start_time": "2025-01-15T22:27:38.585Z"
      },
      {
        "duration": 344,
        "start_time": "2025-01-17T21:47:55.527Z"
      },
      {
        "duration": 51,
        "start_time": "2025-01-17T21:47:56.354Z"
      },
      {
        "duration": 117,
        "start_time": "2025-01-17T21:51:16.927Z"
      },
      {
        "duration": 36,
        "start_time": "2025-01-17T22:04:17.496Z"
      },
      {
        "duration": 54,
        "start_time": "2025-01-17T22:10:45.806Z"
      },
      {
        "duration": 3,
        "start_time": "2025-01-17T22:16:23.068Z"
      },
      {
        "duration": 6,
        "start_time": "2025-01-17T22:16:32.884Z"
      },
      {
        "duration": 13,
        "start_time": "2025-01-17T22:16:45.585Z"
      },
      {
        "duration": 15,
        "start_time": "2025-01-17T22:17:48.088Z"
      },
      {
        "duration": 14,
        "start_time": "2025-01-17T22:29:09.415Z"
      },
      {
        "duration": 647,
        "start_time": "2025-01-17T22:30:23.638Z"
      },
      {
        "duration": 160,
        "start_time": "2025-01-18T02:21:12.741Z"
      },
      {
        "duration": 309,
        "start_time": "2025-01-18T02:21:23.425Z"
      },
      {
        "duration": 48,
        "start_time": "2025-01-18T02:21:23.737Z"
      },
      {
        "duration": 19,
        "start_time": "2025-01-18T02:21:23.788Z"
      },
      {
        "duration": 654,
        "start_time": "2025-01-18T02:21:23.810Z"
      },
      {
        "duration": 0,
        "start_time": "2025-01-18T02:21:24.466Z"
      },
      {
        "duration": 12,
        "start_time": "2025-01-18T02:21:38.989Z"
      },
      {
        "duration": 40,
        "start_time": "2025-01-18T02:22:08.666Z"
      },
      {
        "duration": 11,
        "start_time": "2025-01-18T02:22:42.437Z"
      },
      {
        "duration": 11,
        "start_time": "2025-01-18T02:25:15.209Z"
      },
      {
        "duration": 344,
        "start_time": "2025-01-18T02:40:18.587Z"
      },
      {
        "duration": 13,
        "start_time": "2025-01-18T02:40:40.207Z"
      },
      {
        "duration": 14,
        "start_time": "2025-01-18T02:50:28.204Z"
      },
      {
        "duration": 75,
        "start_time": "2025-01-18T02:50:39.454Z"
      },
      {
        "duration": 16,
        "start_time": "2025-01-18T02:51:46.402Z"
      },
      {
        "duration": 17,
        "start_time": "2025-01-18T02:51:59.212Z"
      },
      {
        "duration": 7,
        "start_time": "2025-01-18T02:52:14.588Z"
      },
      {
        "duration": 14,
        "start_time": "2025-01-18T02:52:44.854Z"
      },
      {
        "duration": 411,
        "start_time": "2025-01-18T02:52:57.695Z"
      },
      {
        "duration": 38,
        "start_time": "2025-01-18T02:53:20.819Z"
      },
      {
        "duration": 16,
        "start_time": "2025-01-18T02:53:40.120Z"
      },
      {
        "duration": 5,
        "start_time": "2025-01-18T02:53:41.759Z"
      },
      {
        "duration": 5,
        "start_time": "2025-01-18T02:53:57.058Z"
      },
      {
        "duration": 56,
        "start_time": "2025-01-18T02:54:24.487Z"
      },
      {
        "duration": 74,
        "start_time": "2025-01-18T02:54:46.479Z"
      },
      {
        "duration": 26,
        "start_time": "2025-01-18T02:54:52.978Z"
      },
      {
        "duration": 160,
        "start_time": "2025-01-18T02:55:29.957Z"
      },
      {
        "duration": 16,
        "start_time": "2025-01-18T02:55:46.760Z"
      },
      {
        "duration": 17,
        "start_time": "2025-01-18T02:58:04.608Z"
      },
      {
        "duration": 15,
        "start_time": "2025-01-18T02:58:11.824Z"
      },
      {
        "duration": 15,
        "start_time": "2025-01-18T02:58:24.952Z"
      },
      {
        "duration": 15,
        "start_time": "2025-01-18T02:58:34.776Z"
      },
      {
        "duration": 6,
        "start_time": "2025-01-18T02:58:36.307Z"
      },
      {
        "duration": 6,
        "start_time": "2025-01-18T02:58:37.529Z"
      },
      {
        "duration": 6,
        "start_time": "2025-01-18T02:58:38.704Z"
      },
      {
        "duration": 9,
        "start_time": "2025-01-18T03:00:28.772Z"
      },
      {
        "duration": 10,
        "start_time": "2025-01-18T03:00:50.272Z"
      },
      {
        "duration": 9,
        "start_time": "2025-01-18T03:02:18.816Z"
      },
      {
        "duration": 17,
        "start_time": "2025-01-18T03:03:12.231Z"
      },
      {
        "duration": 8,
        "start_time": "2025-01-18T03:07:59.440Z"
      },
      {
        "duration": 6,
        "start_time": "2025-01-18T03:12:08.302Z"
      },
      {
        "duration": 7,
        "start_time": "2025-01-18T03:13:32.819Z"
      },
      {
        "duration": 8,
        "start_time": "2025-01-18T03:13:53.070Z"
      },
      {
        "duration": 8,
        "start_time": "2025-01-18T03:13:53.828Z"
      },
      {
        "duration": 7,
        "start_time": "2025-01-18T03:15:14.829Z"
      },
      {
        "duration": 314,
        "start_time": "2025-01-18T03:17:07.592Z"
      },
      {
        "duration": 44,
        "start_time": "2025-01-18T03:17:07.909Z"
      },
      {
        "duration": 11,
        "start_time": "2025-01-18T03:17:07.955Z"
      },
      {
        "duration": 28,
        "start_time": "2025-01-18T03:17:07.968Z"
      },
      {
        "duration": 6,
        "start_time": "2025-01-18T03:17:07.998Z"
      },
      {
        "duration": 10,
        "start_time": "2025-01-18T03:17:08.005Z"
      },
      {
        "duration": 7,
        "start_time": "2025-01-18T03:17:08.016Z"
      },
      {
        "duration": 12,
        "start_time": "2025-01-18T03:17:08.025Z"
      },
      {
        "duration": 7,
        "start_time": "2025-01-18T03:17:08.039Z"
      },
      {
        "duration": 42,
        "start_time": "2025-01-18T03:17:08.047Z"
      },
      {
        "duration": 2,
        "start_time": "2025-01-18T03:17:08.090Z"
      },
      {
        "duration": 567,
        "start_time": "2025-01-18T03:23:33.361Z"
      },
      {
        "duration": 10,
        "start_time": "2025-01-18T03:27:58.509Z"
      },
      {
        "duration": 10,
        "start_time": "2025-01-18T03:28:03.428Z"
      },
      {
        "duration": 24,
        "start_time": "2025-01-18T03:28:35.447Z"
      },
      {
        "duration": 20,
        "start_time": "2025-01-18T03:33:21.702Z"
      },
      {
        "duration": 31,
        "start_time": "2025-01-18T03:34:04.432Z"
      },
      {
        "duration": 1919,
        "start_time": "2025-01-18T03:39:59.981Z"
      },
      {
        "duration": 46,
        "start_time": "2025-01-18T03:40:01.902Z"
      },
      {
        "duration": 12,
        "start_time": "2025-01-18T03:40:01.950Z"
      },
      {
        "duration": 31,
        "start_time": "2025-01-18T03:40:01.964Z"
      },
      {
        "duration": 5,
        "start_time": "2025-01-18T03:40:02.249Z"
      },
      {
        "duration": 6,
        "start_time": "2025-01-18T03:40:03.138Z"
      },
      {
        "duration": 6,
        "start_time": "2025-01-18T03:40:03.663Z"
      },
      {
        "duration": 9,
        "start_time": "2025-01-18T03:40:04.230Z"
      },
      {
        "duration": 8,
        "start_time": "2025-01-18T03:40:13.937Z"
      },
      {
        "duration": 8,
        "start_time": "2025-01-18T03:40:14.409Z"
      },
      {
        "duration": 23,
        "start_time": "2025-01-18T03:40:14.979Z"
      },
      {
        "duration": 118,
        "start_time": "2025-01-18T03:41:38.758Z"
      },
      {
        "duration": 63,
        "start_time": "2025-01-18T03:41:52.962Z"
      },
      {
        "duration": 64,
        "start_time": "2025-01-18T03:42:12.332Z"
      },
      {
        "duration": 24,
        "start_time": "2025-01-18T03:44:10.626Z"
      },
      {
        "duration": 26,
        "start_time": "2025-01-18T04:18:31.298Z"
      },
      {
        "duration": 2137,
        "start_time": "2025-01-20T00:41:27.415Z"
      },
      {
        "duration": 57,
        "start_time": "2025-01-20T00:41:29.554Z"
      },
      {
        "duration": 12,
        "start_time": "2025-01-20T00:41:29.613Z"
      },
      {
        "duration": 15,
        "start_time": "2025-01-20T00:41:29.628Z"
      },
      {
        "duration": 5,
        "start_time": "2025-01-20T00:41:29.645Z"
      },
      {
        "duration": 4,
        "start_time": "2025-01-20T00:41:29.653Z"
      },
      {
        "duration": 5,
        "start_time": "2025-01-20T00:41:29.660Z"
      },
      {
        "duration": 42,
        "start_time": "2025-01-20T00:41:29.667Z"
      },
      {
        "duration": 6,
        "start_time": "2025-01-20T00:41:29.711Z"
      },
      {
        "duration": 6,
        "start_time": "2025-01-20T00:41:29.720Z"
      },
      {
        "duration": 22,
        "start_time": "2025-01-20T00:41:29.728Z"
      },
      {
        "duration": 2,
        "start_time": "2025-01-20T00:41:29.752Z"
      },
      {
        "duration": 22,
        "start_time": "2025-01-20T00:47:28.053Z"
      },
      {
        "duration": 169,
        "start_time": "2025-01-20T00:53:13.670Z"
      },
      {
        "duration": 266,
        "start_time": "2025-01-20T00:55:00.453Z"
      },
      {
        "duration": 271,
        "start_time": "2025-01-20T00:55:30.875Z"
      },
      {
        "duration": 271,
        "start_time": "2025-01-20T00:57:49.716Z"
      },
      {
        "duration": 668,
        "start_time": "2025-01-20T00:58:13.084Z"
      },
      {
        "duration": 272,
        "start_time": "2025-01-20T00:58:28.794Z"
      },
      {
        "duration": 336,
        "start_time": "2025-01-20T01:00:54.751Z"
      },
      {
        "duration": 244,
        "start_time": "2025-01-20T01:01:31.307Z"
      },
      {
        "duration": 6,
        "start_time": "2025-01-20T01:02:42.253Z"
      },
      {
        "duration": 7,
        "start_time": "2025-01-20T01:03:13.379Z"
      },
      {
        "duration": 7,
        "start_time": "2025-01-20T01:03:21.890Z"
      },
      {
        "duration": 23,
        "start_time": "2025-01-20T01:04:05.785Z"
      },
      {
        "duration": 23,
        "start_time": "2025-01-20T01:04:17.569Z"
      },
      {
        "duration": 155,
        "start_time": "2025-01-20T01:04:26.169Z"
      },
      {
        "duration": 1846,
        "start_time": "2025-01-20T01:06:46.606Z"
      },
      {
        "duration": 2105,
        "start_time": "2025-01-20T01:10:30.804Z"
      },
      {
        "duration": 1949,
        "start_time": "2025-01-20T01:14:15.690Z"
      },
      {
        "duration": 22,
        "start_time": "2025-01-20T01:18:46.400Z"
      },
      {
        "duration": 1954,
        "start_time": "2025-01-20T01:19:04.779Z"
      },
      {
        "duration": 6,
        "start_time": "2025-01-20T01:22:17.540Z"
      },
      {
        "duration": 480,
        "start_time": "2025-01-20T01:23:53.993Z"
      },
      {
        "duration": 48,
        "start_time": "2025-01-20T01:23:54.475Z"
      },
      {
        "duration": 12,
        "start_time": "2025-01-20T01:23:55.720Z"
      },
      {
        "duration": 17,
        "start_time": "2025-01-20T01:23:56.290Z"
      },
      {
        "duration": 5,
        "start_time": "2025-01-20T01:23:56.983Z"
      },
      {
        "duration": 5,
        "start_time": "2025-01-20T01:23:57.827Z"
      },
      {
        "duration": 5,
        "start_time": "2025-01-20T01:23:58.464Z"
      },
      {
        "duration": 10,
        "start_time": "2025-01-20T01:23:59.118Z"
      },
      {
        "duration": 9,
        "start_time": "2025-01-20T01:24:02.440Z"
      },
      {
        "duration": 7,
        "start_time": "2025-01-20T01:24:03.615Z"
      },
      {
        "duration": 1938,
        "start_time": "2025-01-20T01:24:04.700Z"
      },
      {
        "duration": 5,
        "start_time": "2025-01-20T01:25:28.641Z"
      },
      {
        "duration": 2126,
        "start_time": "2025-01-20T01:25:29.525Z"
      },
      {
        "duration": 56,
        "start_time": "2025-01-20T01:27:15.371Z"
      },
      {
        "duration": 2073,
        "start_time": "2025-01-20T01:27:25.042Z"
      },
      {
        "duration": 269,
        "start_time": "2025-01-20T01:29:11.005Z"
      },
      {
        "duration": 79,
        "start_time": "2025-01-20T01:31:49.830Z"
      },
      {
        "duration": 9,
        "start_time": "2025-01-20T01:36:15.894Z"
      },
      {
        "duration": 86,
        "start_time": "2025-01-20T01:38:01.919Z"
      },
      {
        "duration": 73,
        "start_time": "2025-01-20T01:38:12.521Z"
      },
      {
        "duration": 74,
        "start_time": "2025-01-20T01:40:45.988Z"
      },
      {
        "duration": 209,
        "start_time": "2025-01-20T01:41:07.282Z"
      },
      {
        "duration": 79,
        "start_time": "2025-01-20T01:41:21.165Z"
      },
      {
        "duration": 640,
        "start_time": "2025-01-20T01:43:04.695Z"
      },
      {
        "duration": 2118,
        "start_time": "2025-01-20T01:43:37.302Z"
      },
      {
        "duration": 2019,
        "start_time": "2025-01-20T01:45:41.534Z"
      },
      {
        "duration": 4,
        "start_time": "2025-01-20T01:46:35.655Z"
      },
      {
        "duration": 7,
        "start_time": "2025-01-20T01:47:12.979Z"
      },
      {
        "duration": 5,
        "start_time": "2025-01-20T01:47:38.745Z"
      },
      {
        "duration": 2136,
        "start_time": "2025-01-20T02:31:48.988Z"
      },
      {
        "duration": 1951,
        "start_time": "2025-01-20T02:35:08.193Z"
      },
      {
        "duration": 5,
        "start_time": "2025-01-20T02:38:04.519Z"
      },
      {
        "duration": 802,
        "start_time": "2025-01-20T02:38:15.882Z"
      },
      {
        "duration": 53,
        "start_time": "2025-01-20T02:38:16.686Z"
      },
      {
        "duration": 12,
        "start_time": "2025-01-20T02:38:16.740Z"
      },
      {
        "duration": 15,
        "start_time": "2025-01-20T02:38:16.755Z"
      },
      {
        "duration": 6,
        "start_time": "2025-01-20T02:38:16.772Z"
      },
      {
        "duration": 7,
        "start_time": "2025-01-20T02:38:16.804Z"
      },
      {
        "duration": 7,
        "start_time": "2025-01-20T02:38:16.812Z"
      },
      {
        "duration": 10,
        "start_time": "2025-01-20T02:38:16.820Z"
      },
      {
        "duration": 6,
        "start_time": "2025-01-20T02:38:16.831Z"
      },
      {
        "duration": 6,
        "start_time": "2025-01-20T02:38:16.840Z"
      },
      {
        "duration": 1967,
        "start_time": "2025-01-20T02:38:16.847Z"
      },
      {
        "duration": 5,
        "start_time": "2025-01-20T02:38:18.816Z"
      },
      {
        "duration": 0,
        "start_time": "2025-01-20T02:38:18.822Z"
      },
      {
        "duration": 221,
        "start_time": "2025-01-20T02:40:29.909Z"
      },
      {
        "duration": 129,
        "start_time": "2025-01-20T02:40:45.110Z"
      },
      {
        "duration": 793,
        "start_time": "2025-01-20T02:41:28.249Z"
      },
      {
        "duration": 814,
        "start_time": "2025-01-20T02:51:01.229Z"
      },
      {
        "duration": 752,
        "start_time": "2025-01-20T02:51:21.004Z"
      },
      {
        "duration": 812,
        "start_time": "2025-01-20T02:52:09.415Z"
      },
      {
        "duration": 730,
        "start_time": "2025-01-20T03:38:25.164Z"
      },
      {
        "duration": 415,
        "start_time": "2025-01-20T03:45:47.181Z"
      },
      {
        "duration": 89,
        "start_time": "2025-01-20T03:46:27.701Z"
      },
      {
        "duration": 78,
        "start_time": "2025-01-20T03:49:58.275Z"
      },
      {
        "duration": 818,
        "start_time": "2025-01-20T03:50:53.772Z"
      },
      {
        "duration": 49,
        "start_time": "2025-01-20T03:50:54.592Z"
      },
      {
        "duration": 11,
        "start_time": "2025-01-20T03:50:54.642Z"
      },
      {
        "duration": 15,
        "start_time": "2025-01-20T03:50:54.654Z"
      },
      {
        "duration": 5,
        "start_time": "2025-01-20T03:50:54.672Z"
      },
      {
        "duration": 28,
        "start_time": "2025-01-20T03:50:54.678Z"
      },
      {
        "duration": 7,
        "start_time": "2025-01-20T03:50:54.707Z"
      },
      {
        "duration": 9,
        "start_time": "2025-01-20T03:50:54.716Z"
      },
      {
        "duration": 6,
        "start_time": "2025-01-20T03:50:54.727Z"
      },
      {
        "duration": 5,
        "start_time": "2025-01-20T03:50:54.735Z"
      },
      {
        "duration": 1963,
        "start_time": "2025-01-20T03:50:54.742Z"
      },
      {
        "duration": 807,
        "start_time": "2025-01-20T03:50:56.707Z"
      },
      {
        "duration": 633,
        "start_time": "2025-01-20T03:50:57.515Z"
      },
      {
        "duration": 0,
        "start_time": "2025-01-20T03:50:58.150Z"
      },
      {
        "duration": 786,
        "start_time": "2025-01-20T03:52:25.306Z"
      },
      {
        "duration": 49,
        "start_time": "2025-01-20T03:52:26.095Z"
      },
      {
        "duration": 10,
        "start_time": "2025-01-20T03:52:26.146Z"
      },
      {
        "duration": 15,
        "start_time": "2025-01-20T03:52:26.158Z"
      },
      {
        "duration": 3,
        "start_time": "2025-01-20T03:52:26.174Z"
      },
      {
        "duration": 27,
        "start_time": "2025-01-20T03:52:26.178Z"
      },
      {
        "duration": 4,
        "start_time": "2025-01-20T03:52:26.206Z"
      },
      {
        "duration": 10,
        "start_time": "2025-01-20T03:52:26.212Z"
      },
      {
        "duration": 7,
        "start_time": "2025-01-20T03:52:26.223Z"
      },
      {
        "duration": 4,
        "start_time": "2025-01-20T03:52:26.233Z"
      },
      {
        "duration": 1970,
        "start_time": "2025-01-20T03:52:26.239Z"
      },
      {
        "duration": 830,
        "start_time": "2025-01-20T03:52:28.211Z"
      },
      {
        "duration": 11,
        "start_time": "2025-01-20T03:52:29.043Z"
      },
      {
        "duration": 2,
        "start_time": "2025-01-20T03:52:29.056Z"
      },
      {
        "duration": 7,
        "start_time": "2025-01-20T03:52:41.451Z"
      },
      {
        "duration": 7,
        "start_time": "2025-01-20T03:53:46.216Z"
      },
      {
        "duration": 8,
        "start_time": "2025-01-20T03:56:00.464Z"
      },
      {
        "duration": 10,
        "start_time": "2025-01-20T03:56:13.061Z"
      },
      {
        "duration": 8,
        "start_time": "2025-01-20T03:57:52.858Z"
      },
      {
        "duration": 224,
        "start_time": "2025-01-20T04:25:31.743Z"
      },
      {
        "duration": 125,
        "start_time": "2025-01-20T04:29:00.063Z"
      },
      {
        "duration": 115,
        "start_time": "2025-01-20T04:30:55.584Z"
      },
      {
        "duration": 218,
        "start_time": "2025-01-20T04:31:37.408Z"
      },
      {
        "duration": 228,
        "start_time": "2025-01-20T04:32:47.408Z"
      },
      {
        "duration": 215,
        "start_time": "2025-01-20T04:33:07.940Z"
      },
      {
        "duration": 228,
        "start_time": "2025-01-20T04:33:22.346Z"
      },
      {
        "duration": 218,
        "start_time": "2025-01-20T04:40:52.460Z"
      },
      {
        "duration": 5,
        "start_time": "2025-01-20T04:41:56.547Z"
      },
      {
        "duration": 5,
        "start_time": "2025-01-20T04:42:47.590Z"
      },
      {
        "duration": 10,
        "start_time": "2025-01-20T04:43:00.276Z"
      },
      {
        "duration": 290,
        "start_time": "2025-01-20T04:43:13.905Z"
      },
      {
        "duration": 11,
        "start_time": "2025-01-20T04:43:19.467Z"
      },
      {
        "duration": 5,
        "start_time": "2025-01-20T04:44:50.151Z"
      },
      {
        "duration": 16,
        "start_time": "2025-01-20T04:47:50.434Z"
      },
      {
        "duration": 16,
        "start_time": "2025-01-20T04:48:04.481Z"
      },
      {
        "duration": 24,
        "start_time": "2025-01-20T04:48:18.217Z"
      },
      {
        "duration": 22,
        "start_time": "2025-01-20T04:48:58.365Z"
      },
      {
        "duration": 22,
        "start_time": "2025-01-20T04:49:17.759Z"
      },
      {
        "duration": 26,
        "start_time": "2025-01-20T04:50:00.902Z"
      },
      {
        "duration": 5,
        "start_time": "2025-01-20T04:50:26.984Z"
      },
      {
        "duration": 24,
        "start_time": "2025-01-20T04:50:33.536Z"
      },
      {
        "duration": 5,
        "start_time": "2025-01-20T04:53:06.855Z"
      },
      {
        "duration": 1461,
        "start_time": "2025-01-20T04:53:16.505Z"
      },
      {
        "duration": 1382,
        "start_time": "2025-01-20T05:06:31.124Z"
      },
      {
        "duration": 5,
        "start_time": "2025-01-20T05:08:45.565Z"
      },
      {
        "duration": 32,
        "start_time": "2025-01-20T05:09:00.854Z"
      },
      {
        "duration": 34,
        "start_time": "2025-01-20T05:09:17.765Z"
      },
      {
        "duration": 346,
        "start_time": "2025-01-20T05:09:35.274Z"
      },
      {
        "duration": 15,
        "start_time": "2025-01-20T05:13:39.732Z"
      },
      {
        "duration": 5,
        "start_time": "2025-01-20T05:14:10.075Z"
      },
      {
        "duration": 139,
        "start_time": "2025-01-20T05:16:39.454Z"
      },
      {
        "duration": 138,
        "start_time": "2025-01-20T05:23:14.471Z"
      },
      {
        "duration": 6,
        "start_time": "2025-01-20T05:25:03.253Z"
      },
      {
        "duration": 57,
        "start_time": "2025-01-20T05:25:11.905Z"
      },
      {
        "duration": 50,
        "start_time": "2025-01-20T05:26:00.148Z"
      },
      {
        "duration": 162,
        "start_time": "2025-01-20T05:26:11.681Z"
      },
      {
        "duration": 158,
        "start_time": "2025-01-20T05:27:53.614Z"
      },
      {
        "duration": 1410,
        "start_time": "2025-01-20T05:28:20.790Z"
      },
      {
        "duration": 1360,
        "start_time": "2025-01-20T05:30:28.757Z"
      },
      {
        "duration": 367,
        "start_time": "2025-01-20T05:30:54.298Z"
      },
      {
        "duration": 53,
        "start_time": "2025-01-20T05:31:28.903Z"
      },
      {
        "duration": 47,
        "start_time": "2025-01-20T05:31:40.552Z"
      },
      {
        "duration": 851,
        "start_time": "2025-01-20T05:32:26.538Z"
      },
      {
        "duration": 44,
        "start_time": "2025-01-20T05:32:27.391Z"
      },
      {
        "duration": 11,
        "start_time": "2025-01-20T05:32:27.437Z"
      },
      {
        "duration": 15,
        "start_time": "2025-01-20T05:32:27.450Z"
      },
      {
        "duration": 3,
        "start_time": "2025-01-20T05:32:27.466Z"
      },
      {
        "duration": 3,
        "start_time": "2025-01-20T05:32:27.470Z"
      },
      {
        "duration": 32,
        "start_time": "2025-01-20T05:32:27.474Z"
      },
      {
        "duration": 9,
        "start_time": "2025-01-20T05:32:27.507Z"
      },
      {
        "duration": 6,
        "start_time": "2025-01-20T05:32:27.518Z"
      },
      {
        "duration": 5,
        "start_time": "2025-01-20T05:32:27.526Z"
      },
      {
        "duration": 1945,
        "start_time": "2025-01-20T05:32:27.533Z"
      },
      {
        "duration": 817,
        "start_time": "2025-01-20T05:32:29.479Z"
      },
      {
        "duration": 250,
        "start_time": "2025-01-20T05:32:30.298Z"
      },
      {
        "duration": 370,
        "start_time": "2025-01-20T05:32:30.549Z"
      },
      {
        "duration": 0,
        "start_time": "2025-01-20T05:32:30.921Z"
      },
      {
        "duration": 0,
        "start_time": "2025-01-20T05:32:30.923Z"
      },
      {
        "duration": 96,
        "start_time": "2025-01-20T05:32:56.124Z"
      },
      {
        "duration": 63,
        "start_time": "2025-01-20T05:36:30.899Z"
      },
      {
        "duration": 473,
        "start_time": "2025-01-20T05:39:02.472Z"
      },
      {
        "duration": 819,
        "start_time": "2025-01-20T05:39:29.178Z"
      },
      {
        "duration": 50,
        "start_time": "2025-01-20T05:39:29.999Z"
      },
      {
        "duration": 11,
        "start_time": "2025-01-20T05:39:30.051Z"
      },
      {
        "duration": 15,
        "start_time": "2025-01-20T05:39:30.064Z"
      },
      {
        "duration": 23,
        "start_time": "2025-01-20T05:39:30.082Z"
      },
      {
        "duration": 4,
        "start_time": "2025-01-20T05:39:30.107Z"
      },
      {
        "duration": 5,
        "start_time": "2025-01-20T05:39:30.113Z"
      },
      {
        "duration": 9,
        "start_time": "2025-01-20T05:39:30.120Z"
      },
      {
        "duration": 7,
        "start_time": "2025-01-20T05:39:30.130Z"
      },
      {
        "duration": 5,
        "start_time": "2025-01-20T05:39:30.138Z"
      },
      {
        "duration": 2121,
        "start_time": "2025-01-20T05:39:30.145Z"
      },
      {
        "duration": 899,
        "start_time": "2025-01-20T05:39:32.269Z"
      },
      {
        "duration": 237,
        "start_time": "2025-01-20T05:39:33.170Z"
      },
      {
        "duration": 274,
        "start_time": "2025-01-20T05:39:33.411Z"
      },
      {
        "duration": 0,
        "start_time": "2025-01-20T05:39:33.687Z"
      },
      {
        "duration": 0,
        "start_time": "2025-01-20T05:39:33.689Z"
      },
      {
        "duration": 367,
        "start_time": "2025-01-20T05:40:11.258Z"
      },
      {
        "duration": 47,
        "start_time": "2025-01-20T05:40:37.085Z"
      },
      {
        "duration": 828,
        "start_time": "2025-01-20T05:40:46.957Z"
      },
      {
        "duration": 53,
        "start_time": "2025-01-20T05:40:47.788Z"
      },
      {
        "duration": 11,
        "start_time": "2025-01-20T05:40:47.843Z"
      },
      {
        "duration": 17,
        "start_time": "2025-01-20T05:40:47.857Z"
      },
      {
        "duration": 4,
        "start_time": "2025-01-20T05:40:47.875Z"
      },
      {
        "duration": 26,
        "start_time": "2025-01-20T05:40:47.881Z"
      },
      {
        "duration": 4,
        "start_time": "2025-01-20T05:40:47.909Z"
      },
      {
        "duration": 9,
        "start_time": "2025-01-20T05:40:47.914Z"
      },
      {
        "duration": 6,
        "start_time": "2025-01-20T05:40:47.926Z"
      },
      {
        "duration": 5,
        "start_time": "2025-01-20T05:40:47.936Z"
      },
      {
        "duration": 2053,
        "start_time": "2025-01-20T05:40:47.942Z"
      },
      {
        "duration": 821,
        "start_time": "2025-01-20T05:40:49.997Z"
      },
      {
        "duration": 232,
        "start_time": "2025-01-20T05:40:50.820Z"
      },
      {
        "duration": 1060,
        "start_time": "2025-01-20T05:40:51.054Z"
      },
      {
        "duration": 0,
        "start_time": "2025-01-20T05:40:52.116Z"
      },
      {
        "duration": 0,
        "start_time": "2025-01-20T05:40:52.117Z"
      },
      {
        "duration": 48,
        "start_time": "2025-01-20T05:41:14.382Z"
      },
      {
        "duration": 812,
        "start_time": "2025-01-20T05:41:37.637Z"
      },
      {
        "duration": 42,
        "start_time": "2025-01-20T05:41:38.452Z"
      },
      {
        "duration": 18,
        "start_time": "2025-01-20T05:41:38.496Z"
      },
      {
        "duration": 14,
        "start_time": "2025-01-20T05:41:38.516Z"
      },
      {
        "duration": 3,
        "start_time": "2025-01-20T05:41:38.532Z"
      },
      {
        "duration": 3,
        "start_time": "2025-01-20T05:41:38.536Z"
      },
      {
        "duration": 3,
        "start_time": "2025-01-20T05:41:38.541Z"
      },
      {
        "duration": 9,
        "start_time": "2025-01-20T05:41:38.546Z"
      },
      {
        "duration": 7,
        "start_time": "2025-01-20T05:41:38.556Z"
      },
      {
        "duration": 42,
        "start_time": "2025-01-20T05:41:38.566Z"
      },
      {
        "duration": 2007,
        "start_time": "2025-01-20T05:41:38.609Z"
      },
      {
        "duration": 836,
        "start_time": "2025-01-20T05:41:40.618Z"
      },
      {
        "duration": 241,
        "start_time": "2025-01-20T05:41:41.456Z"
      },
      {
        "duration": 261,
        "start_time": "2025-01-20T05:41:41.705Z"
      },
      {
        "duration": 0,
        "start_time": "2025-01-20T05:41:41.967Z"
      },
      {
        "duration": 0,
        "start_time": "2025-01-20T05:41:41.968Z"
      },
      {
        "duration": 819,
        "start_time": "2025-01-20T05:43:05.142Z"
      },
      {
        "duration": 50,
        "start_time": "2025-01-20T05:43:05.963Z"
      },
      {
        "duration": 12,
        "start_time": "2025-01-20T05:43:06.015Z"
      },
      {
        "duration": 16,
        "start_time": "2025-01-20T05:43:06.030Z"
      },
      {
        "duration": 3,
        "start_time": "2025-01-20T05:43:06.047Z"
      },
      {
        "duration": 3,
        "start_time": "2025-01-20T05:43:06.052Z"
      },
      {
        "duration": 4,
        "start_time": "2025-01-20T05:43:06.057Z"
      },
      {
        "duration": 9,
        "start_time": "2025-01-20T05:43:06.062Z"
      },
      {
        "duration": 8,
        "start_time": "2025-01-20T05:43:06.104Z"
      },
      {
        "duration": 7,
        "start_time": "2025-01-20T05:43:06.115Z"
      },
      {
        "duration": 1934,
        "start_time": "2025-01-20T05:43:06.123Z"
      },
      {
        "duration": 814,
        "start_time": "2025-01-20T05:43:08.059Z"
      },
      {
        "duration": 231,
        "start_time": "2025-01-20T05:43:08.874Z"
      },
      {
        "duration": 1034,
        "start_time": "2025-01-20T05:43:09.107Z"
      },
      {
        "duration": 0,
        "start_time": "2025-01-20T05:43:10.143Z"
      },
      {
        "duration": 0,
        "start_time": "2025-01-20T05:43:10.147Z"
      },
      {
        "duration": 825,
        "start_time": "2025-01-20T05:45:27.718Z"
      },
      {
        "duration": 43,
        "start_time": "2025-01-20T05:45:28.545Z"
      },
      {
        "duration": 20,
        "start_time": "2025-01-20T05:45:28.589Z"
      },
      {
        "duration": 15,
        "start_time": "2025-01-20T05:45:28.612Z"
      },
      {
        "duration": 3,
        "start_time": "2025-01-20T05:45:28.628Z"
      },
      {
        "duration": 4,
        "start_time": "2025-01-20T05:45:28.632Z"
      },
      {
        "duration": 4,
        "start_time": "2025-01-20T05:45:28.637Z"
      },
      {
        "duration": 9,
        "start_time": "2025-01-20T05:45:28.643Z"
      },
      {
        "duration": 7,
        "start_time": "2025-01-20T05:45:28.653Z"
      },
      {
        "duration": 41,
        "start_time": "2025-01-20T05:45:28.663Z"
      },
      {
        "duration": 1948,
        "start_time": "2025-01-20T05:45:28.707Z"
      },
      {
        "duration": 827,
        "start_time": "2025-01-20T05:45:30.657Z"
      },
      {
        "duration": 250,
        "start_time": "2025-01-20T05:45:31.486Z"
      },
      {
        "duration": 640,
        "start_time": "2025-01-20T05:45:31.739Z"
      },
      {
        "duration": 0,
        "start_time": "2025-01-20T05:45:32.381Z"
      },
      {
        "duration": 0,
        "start_time": "2025-01-20T05:45:32.382Z"
      },
      {
        "duration": 60,
        "start_time": "2025-01-20T05:45:59.738Z"
      },
      {
        "duration": 202,
        "start_time": "2025-01-20T05:46:20.012Z"
      },
      {
        "duration": 122,
        "start_time": "2025-01-20T05:47:05.855Z"
      },
      {
        "duration": 81,
        "start_time": "2025-01-20T05:47:57.798Z"
      },
      {
        "duration": 1437,
        "start_time": "2025-01-20T05:48:26.949Z"
      },
      {
        "duration": 1781,
        "start_time": "2025-01-20T05:49:23.717Z"
      },
      {
        "duration": 2161,
        "start_time": "2025-01-20T05:49:54.162Z"
      },
      {
        "duration": 572,
        "start_time": "2025-01-20T05:50:06.575Z"
      },
      {
        "duration": 2070,
        "start_time": "2025-01-20T05:50:34.300Z"
      },
      {
        "duration": 175,
        "start_time": "2025-01-20T05:52:29.545Z"
      },
      {
        "duration": 826,
        "start_time": "2025-01-20T05:52:42.137Z"
      },
      {
        "duration": 51,
        "start_time": "2025-01-20T05:52:42.966Z"
      },
      {
        "duration": 11,
        "start_time": "2025-01-20T05:52:43.020Z"
      },
      {
        "duration": 14,
        "start_time": "2025-01-20T05:52:43.033Z"
      },
      {
        "duration": 3,
        "start_time": "2025-01-20T05:52:43.049Z"
      },
      {
        "duration": 3,
        "start_time": "2025-01-20T05:52:43.053Z"
      },
      {
        "duration": 4,
        "start_time": "2025-01-20T05:52:43.058Z"
      },
      {
        "duration": 10,
        "start_time": "2025-01-20T05:52:43.063Z"
      },
      {
        "duration": 35,
        "start_time": "2025-01-20T05:52:43.074Z"
      },
      {
        "duration": 5,
        "start_time": "2025-01-20T05:52:43.113Z"
      },
      {
        "duration": 1982,
        "start_time": "2025-01-20T05:52:43.119Z"
      },
      {
        "duration": 807,
        "start_time": "2025-01-20T05:52:45.105Z"
      },
      {
        "duration": 226,
        "start_time": "2025-01-20T05:52:45.914Z"
      },
      {
        "duration": 852,
        "start_time": "2025-01-20T05:52:46.142Z"
      },
      {
        "duration": 0,
        "start_time": "2025-01-20T05:52:46.996Z"
      },
      {
        "duration": 0,
        "start_time": "2025-01-20T05:52:47.005Z"
      },
      {
        "duration": 4,
        "start_time": "2025-01-20T06:05:11.922Z"
      },
      {
        "duration": 222,
        "start_time": "2025-01-20T06:07:01.418Z"
      },
      {
        "duration": 554,
        "start_time": "2025-01-20T06:07:16.845Z"
      },
      {
        "duration": 129,
        "start_time": "2025-01-20T06:07:37.026Z"
      },
      {
        "duration": 337,
        "start_time": "2025-01-20T06:08:44.767Z"
      },
      {
        "duration": 321,
        "start_time": "2025-01-20T06:09:43.810Z"
      },
      {
        "duration": 785,
        "start_time": "2025-01-20T06:13:41.045Z"
      },
      {
        "duration": 396,
        "start_time": "2025-01-20T06:14:13.822Z"
      },
      {
        "duration": 216,
        "start_time": "2025-01-20T06:14:53.937Z"
      },
      {
        "duration": 397,
        "start_time": "2025-01-20T06:16:21.644Z"
      },
      {
        "duration": 427,
        "start_time": "2025-01-20T06:19:07.383Z"
      },
      {
        "duration": 439,
        "start_time": "2025-01-20T06:23:47.973Z"
      },
      {
        "duration": 433,
        "start_time": "2025-01-20T06:25:21.007Z"
      },
      {
        "duration": 453,
        "start_time": "2025-01-20T06:30:08.452Z"
      },
      {
        "duration": 593,
        "start_time": "2025-01-20T06:31:48.621Z"
      },
      {
        "duration": 442,
        "start_time": "2025-01-20T06:47:12.189Z"
      },
      {
        "duration": 442,
        "start_time": "2025-01-20T06:47:12.921Z"
      },
      {
        "duration": 457,
        "start_time": "2025-01-20T06:47:13.641Z"
      },
      {
        "duration": 2733,
        "start_time": "2025-01-20T14:17:29.319Z"
      },
      {
        "duration": 58,
        "start_time": "2025-01-20T14:17:32.055Z"
      },
      {
        "duration": 12,
        "start_time": "2025-01-20T14:17:32.116Z"
      },
      {
        "duration": 16,
        "start_time": "2025-01-20T14:17:32.132Z"
      },
      {
        "duration": 4,
        "start_time": "2025-01-20T14:17:32.149Z"
      },
      {
        "duration": 4,
        "start_time": "2025-01-20T14:17:32.154Z"
      },
      {
        "duration": 5,
        "start_time": "2025-01-20T14:17:32.159Z"
      },
      {
        "duration": 41,
        "start_time": "2025-01-20T14:17:32.165Z"
      },
      {
        "duration": 7,
        "start_time": "2025-01-20T14:17:32.208Z"
      },
      {
        "duration": 6,
        "start_time": "2025-01-20T14:17:32.219Z"
      },
      {
        "duration": 2151,
        "start_time": "2025-01-20T14:17:32.227Z"
      },
      {
        "duration": 763,
        "start_time": "2025-01-20T14:17:34.380Z"
      },
      {
        "duration": 241,
        "start_time": "2025-01-20T14:17:35.145Z"
      },
      {
        "duration": 993,
        "start_time": "2025-01-20T14:17:35.388Z"
      },
      {
        "duration": 0,
        "start_time": "2025-01-20T14:17:36.382Z"
      },
      {
        "duration": 0,
        "start_time": "2025-01-20T14:17:36.383Z"
      },
      {
        "duration": 0,
        "start_time": "2025-01-20T14:17:36.384Z"
      },
      {
        "duration": 0,
        "start_time": "2025-01-20T14:17:36.385Z"
      },
      {
        "duration": 143,
        "start_time": "2025-01-20T14:24:18.435Z"
      },
      {
        "duration": 471,
        "start_time": "2025-01-20T14:24:31.155Z"
      },
      {
        "duration": 454,
        "start_time": "2025-01-20T14:24:34.767Z"
      },
      {
        "duration": 804,
        "start_time": "2025-01-20T14:41:51.280Z"
      },
      {
        "duration": 44,
        "start_time": "2025-01-20T14:41:52.086Z"
      },
      {
        "duration": 11,
        "start_time": "2025-01-20T14:41:52.132Z"
      },
      {
        "duration": 15,
        "start_time": "2025-01-20T14:41:52.145Z"
      },
      {
        "duration": 3,
        "start_time": "2025-01-20T14:41:52.162Z"
      },
      {
        "duration": 4,
        "start_time": "2025-01-20T14:41:52.166Z"
      },
      {
        "duration": 4,
        "start_time": "2025-01-20T14:41:52.171Z"
      },
      {
        "duration": 40,
        "start_time": "2025-01-20T14:41:52.176Z"
      },
      {
        "duration": 7,
        "start_time": "2025-01-20T14:41:52.218Z"
      },
      {
        "duration": 5,
        "start_time": "2025-01-20T14:41:52.228Z"
      },
      {
        "duration": 2039,
        "start_time": "2025-01-20T14:41:52.234Z"
      },
      {
        "duration": 839,
        "start_time": "2025-01-20T14:41:54.274Z"
      },
      {
        "duration": 237,
        "start_time": "2025-01-20T14:41:55.114Z"
      },
      {
        "duration": 854,
        "start_time": "2025-01-20T14:41:55.353Z"
      },
      {
        "duration": 0,
        "start_time": "2025-01-20T14:41:56.209Z"
      },
      {
        "duration": 0,
        "start_time": "2025-01-20T14:41:56.210Z"
      },
      {
        "duration": 0,
        "start_time": "2025-01-20T14:41:56.211Z"
      },
      {
        "duration": 0,
        "start_time": "2025-01-20T14:41:56.213Z"
      },
      {
        "duration": 4,
        "start_time": "2025-01-20T14:44:37.263Z"
      },
      {
        "duration": 100,
        "start_time": "2025-01-20T14:47:30.628Z"
      },
      {
        "duration": 4,
        "start_time": "2025-01-20T14:47:42.531Z"
      },
      {
        "duration": 6,
        "start_time": "2025-01-20T14:47:54.818Z"
      },
      {
        "duration": 6,
        "start_time": "2025-01-20T14:49:19.657Z"
      },
      {
        "duration": 9,
        "start_time": "2025-01-20T14:50:45.060Z"
      },
      {
        "duration": 8,
        "start_time": "2025-01-20T14:51:21.041Z"
      },
      {
        "duration": 8,
        "start_time": "2025-01-20T14:52:01.171Z"
      },
      {
        "duration": 8,
        "start_time": "2025-01-20T14:52:06.135Z"
      },
      {
        "duration": 9,
        "start_time": "2025-01-20T14:52:13.258Z"
      },
      {
        "duration": 8,
        "start_time": "2025-01-20T14:54:29.847Z"
      },
      {
        "duration": 9,
        "start_time": "2025-01-20T14:55:42.985Z"
      },
      {
        "duration": 9,
        "start_time": "2025-01-20T14:55:43.755Z"
      },
      {
        "duration": 7,
        "start_time": "2025-01-20T14:58:08.567Z"
      },
      {
        "duration": 173,
        "start_time": "2025-01-20T14:58:17.867Z"
      },
      {
        "duration": 190,
        "start_time": "2025-01-20T14:58:52.567Z"
      },
      {
        "duration": 192,
        "start_time": "2025-01-20T14:59:36.477Z"
      },
      {
        "duration": 263,
        "start_time": "2025-01-20T14:59:57.152Z"
      },
      {
        "duration": 176,
        "start_time": "2025-01-20T15:00:35.655Z"
      },
      {
        "duration": 165,
        "start_time": "2025-01-20T15:01:19.961Z"
      },
      {
        "duration": 183,
        "start_time": "2025-01-20T15:01:34.337Z"
      },
      {
        "duration": 167,
        "start_time": "2025-01-20T15:02:25.166Z"
      },
      {
        "duration": 182,
        "start_time": "2025-01-20T15:02:34.430Z"
      },
      {
        "duration": 160,
        "start_time": "2025-01-20T15:03:58.428Z"
      },
      {
        "duration": 165,
        "start_time": "2025-01-20T15:05:03.386Z"
      },
      {
        "duration": 162,
        "start_time": "2025-01-20T15:05:39.404Z"
      },
      {
        "duration": 84,
        "start_time": "2025-01-20T15:06:26.179Z"
      },
      {
        "duration": 174,
        "start_time": "2025-01-20T15:08:13.171Z"
      },
      {
        "duration": 163,
        "start_time": "2025-01-20T15:10:01.820Z"
      },
      {
        "duration": 178,
        "start_time": "2025-01-20T15:11:32.356Z"
      },
      {
        "duration": 789,
        "start_time": "2025-01-20T15:11:55.322Z"
      },
      {
        "duration": 45,
        "start_time": "2025-01-20T15:11:56.113Z"
      },
      {
        "duration": 11,
        "start_time": "2025-01-20T15:11:56.160Z"
      },
      {
        "duration": 32,
        "start_time": "2025-01-20T15:11:56.173Z"
      },
      {
        "duration": 3,
        "start_time": "2025-01-20T15:11:56.207Z"
      },
      {
        "duration": 3,
        "start_time": "2025-01-20T15:11:56.212Z"
      },
      {
        "duration": 5,
        "start_time": "2025-01-20T15:11:56.216Z"
      },
      {
        "duration": 9,
        "start_time": "2025-01-20T15:11:56.222Z"
      },
      {
        "duration": 7,
        "start_time": "2025-01-20T15:11:56.233Z"
      },
      {
        "duration": 5,
        "start_time": "2025-01-20T15:11:56.242Z"
      },
      {
        "duration": 1934,
        "start_time": "2025-01-20T15:11:56.249Z"
      },
      {
        "duration": 836,
        "start_time": "2025-01-20T15:11:58.185Z"
      },
      {
        "duration": 229,
        "start_time": "2025-01-20T15:11:59.022Z"
      },
      {
        "duration": 787,
        "start_time": "2025-01-20T15:11:59.253Z"
      },
      {
        "duration": 0,
        "start_time": "2025-01-20T15:12:00.042Z"
      },
      {
        "duration": 0,
        "start_time": "2025-01-20T15:12:00.044Z"
      },
      {
        "duration": 0,
        "start_time": "2025-01-20T15:12:00.045Z"
      },
      {
        "duration": 0,
        "start_time": "2025-01-20T15:12:00.046Z"
      },
      {
        "duration": 0,
        "start_time": "2025-01-20T15:12:00.047Z"
      },
      {
        "duration": 0,
        "start_time": "2025-01-20T15:12:00.049Z"
      },
      {
        "duration": 166,
        "start_time": "2025-01-20T15:15:32.023Z"
      },
      {
        "duration": 247,
        "start_time": "2025-01-20T15:16:22.822Z"
      },
      {
        "duration": 151,
        "start_time": "2025-01-20T15:21:19.188Z"
      },
      {
        "duration": 154,
        "start_time": "2025-01-20T15:21:41.353Z"
      },
      {
        "duration": 309,
        "start_time": "2025-01-20T15:26:53.170Z"
      },
      {
        "duration": 830,
        "start_time": "2025-01-20T15:27:36.929Z"
      },
      {
        "duration": 49,
        "start_time": "2025-01-20T15:27:37.761Z"
      },
      {
        "duration": 12,
        "start_time": "2025-01-20T15:27:37.811Z"
      },
      {
        "duration": 14,
        "start_time": "2025-01-20T15:27:37.825Z"
      },
      {
        "duration": 3,
        "start_time": "2025-01-20T15:27:37.840Z"
      },
      {
        "duration": 3,
        "start_time": "2025-01-20T15:27:37.845Z"
      },
      {
        "duration": 5,
        "start_time": "2025-01-20T15:27:37.849Z"
      },
      {
        "duration": 10,
        "start_time": "2025-01-20T15:27:37.855Z"
      },
      {
        "duration": 40,
        "start_time": "2025-01-20T15:27:37.866Z"
      },
      {
        "duration": 6,
        "start_time": "2025-01-20T15:27:37.910Z"
      },
      {
        "duration": 2020,
        "start_time": "2025-01-20T15:27:37.917Z"
      },
      {
        "duration": 833,
        "start_time": "2025-01-20T15:27:39.939Z"
      },
      {
        "duration": 233,
        "start_time": "2025-01-20T15:27:40.774Z"
      },
      {
        "duration": 657,
        "start_time": "2025-01-20T15:27:41.010Z"
      },
      {
        "duration": 0,
        "start_time": "2025-01-20T15:27:41.668Z"
      },
      {
        "duration": 0,
        "start_time": "2025-01-20T15:27:41.670Z"
      },
      {
        "duration": 1,
        "start_time": "2025-01-20T15:27:41.671Z"
      },
      {
        "duration": 0,
        "start_time": "2025-01-20T15:27:41.673Z"
      },
      {
        "duration": 0,
        "start_time": "2025-01-20T15:27:41.674Z"
      },
      {
        "duration": 0,
        "start_time": "2025-01-20T15:27:41.675Z"
      },
      {
        "duration": 64,
        "start_time": "2025-01-20T15:28:23.158Z"
      },
      {
        "duration": 598,
        "start_time": "2025-01-20T15:28:47.330Z"
      },
      {
        "duration": 1010,
        "start_time": "2025-01-20T15:29:47.397Z"
      },
      {
        "duration": 1126,
        "start_time": "2025-01-20T15:30:47.986Z"
      },
      {
        "duration": 414,
        "start_time": "2025-01-20T15:30:57.936Z"
      },
      {
        "duration": 399,
        "start_time": "2025-01-20T15:31:21.107Z"
      },
      {
        "duration": 1109,
        "start_time": "2025-01-20T15:31:36.129Z"
      },
      {
        "duration": 1092,
        "start_time": "2025-01-20T15:32:25.042Z"
      },
      {
        "duration": 308,
        "start_time": "2025-01-20T15:32:31.694Z"
      },
      {
        "duration": 840,
        "start_time": "2025-01-20T15:33:03.797Z"
      },
      {
        "duration": 180,
        "start_time": "2025-01-20T15:50:09.381Z"
      },
      {
        "duration": 157,
        "start_time": "2025-01-20T15:50:55.025Z"
      },
      {
        "duration": 155,
        "start_time": "2025-01-20T15:51:43.951Z"
      },
      {
        "duration": 166,
        "start_time": "2025-01-20T15:55:00.190Z"
      },
      {
        "duration": 163,
        "start_time": "2025-01-20T15:55:20.213Z"
      },
      {
        "duration": 455,
        "start_time": "2025-01-20T15:55:58.155Z"
      },
      {
        "duration": 158,
        "start_time": "2025-01-20T15:56:14.432Z"
      },
      {
        "duration": 73,
        "start_time": "2025-01-20T15:59:05.409Z"
      },
      {
        "duration": 4,
        "start_time": "2025-01-20T15:59:32.966Z"
      },
      {
        "duration": 60,
        "start_time": "2025-01-20T15:59:40.797Z"
      },
      {
        "duration": 77,
        "start_time": "2025-01-20T16:00:14.092Z"
      },
      {
        "duration": 2602,
        "start_time": "2025-01-20T18:31:53.808Z"
      },
      {
        "duration": 59,
        "start_time": "2025-01-20T18:31:56.413Z"
      },
      {
        "duration": 11,
        "start_time": "2025-01-20T18:31:56.474Z"
      },
      {
        "duration": 15,
        "start_time": "2025-01-20T18:31:56.487Z"
      },
      {
        "duration": 3,
        "start_time": "2025-01-20T18:31:56.504Z"
      },
      {
        "duration": 3,
        "start_time": "2025-01-20T18:31:56.509Z"
      },
      {
        "duration": 4,
        "start_time": "2025-01-20T18:31:56.513Z"
      },
      {
        "duration": 9,
        "start_time": "2025-01-20T18:31:56.519Z"
      },
      {
        "duration": 6,
        "start_time": "2025-01-20T18:31:56.530Z"
      },
      {
        "duration": 48,
        "start_time": "2025-01-20T18:31:56.539Z"
      },
      {
        "duration": 2014,
        "start_time": "2025-01-20T18:31:56.588Z"
      },
      {
        "duration": 813,
        "start_time": "2025-01-20T18:31:58.604Z"
      },
      {
        "duration": 227,
        "start_time": "2025-01-20T18:31:59.418Z"
      },
      {
        "duration": 668,
        "start_time": "2025-01-20T18:31:59.647Z"
      },
      {
        "duration": 0,
        "start_time": "2025-01-20T18:32:00.317Z"
      },
      {
        "duration": 0,
        "start_time": "2025-01-20T18:32:00.318Z"
      },
      {
        "duration": 0,
        "start_time": "2025-01-20T18:32:00.319Z"
      },
      {
        "duration": 0,
        "start_time": "2025-01-20T18:32:00.320Z"
      },
      {
        "duration": 0,
        "start_time": "2025-01-20T18:32:00.322Z"
      },
      {
        "duration": 0,
        "start_time": "2025-01-20T18:32:00.323Z"
      },
      {
        "duration": 77,
        "start_time": "2025-01-20T18:34:57.979Z"
      },
      {
        "duration": 8,
        "start_time": "2025-01-20T18:37:19.958Z"
      },
      {
        "duration": 483,
        "start_time": "2025-01-20T18:37:39.254Z"
      },
      {
        "duration": 401,
        "start_time": "2025-01-20T18:39:01.185Z"
      },
      {
        "duration": 765,
        "start_time": "2025-01-20T18:39:16.334Z"
      },
      {
        "duration": 44,
        "start_time": "2025-01-20T18:39:17.103Z"
      },
      {
        "duration": 14,
        "start_time": "2025-01-20T18:39:17.149Z"
      },
      {
        "duration": 29,
        "start_time": "2025-01-20T18:39:17.165Z"
      },
      {
        "duration": 4,
        "start_time": "2025-01-20T18:39:17.197Z"
      },
      {
        "duration": 4,
        "start_time": "2025-01-20T18:39:17.203Z"
      },
      {
        "duration": 5,
        "start_time": "2025-01-20T18:39:17.208Z"
      },
      {
        "duration": 12,
        "start_time": "2025-01-20T18:39:17.216Z"
      },
      {
        "duration": 8,
        "start_time": "2025-01-20T18:39:17.231Z"
      },
      {
        "duration": 6,
        "start_time": "2025-01-20T18:39:17.241Z"
      },
      {
        "duration": 2145,
        "start_time": "2025-01-20T18:39:17.249Z"
      },
      {
        "duration": 972,
        "start_time": "2025-01-20T18:39:19.396Z"
      },
      {
        "duration": 237,
        "start_time": "2025-01-20T18:39:20.370Z"
      },
      {
        "duration": 1074,
        "start_time": "2025-01-20T18:39:20.611Z"
      },
      {
        "duration": 0,
        "start_time": "2025-01-20T18:39:21.687Z"
      },
      {
        "duration": 0,
        "start_time": "2025-01-20T18:39:21.688Z"
      },
      {
        "duration": 0,
        "start_time": "2025-01-20T18:39:21.689Z"
      },
      {
        "duration": 0,
        "start_time": "2025-01-20T18:39:21.691Z"
      },
      {
        "duration": 0,
        "start_time": "2025-01-20T18:39:21.692Z"
      },
      {
        "duration": 0,
        "start_time": "2025-01-20T18:39:21.693Z"
      },
      {
        "duration": 396,
        "start_time": "2025-01-20T18:54:00.583Z"
      },
      {
        "duration": 1728,
        "start_time": "2025-01-20T18:55:21.203Z"
      },
      {
        "duration": 343,
        "start_time": "2025-01-20T18:56:08.836Z"
      },
      {
        "duration": 500,
        "start_time": "2025-01-20T19:03:17.359Z"
      },
      {
        "duration": 376,
        "start_time": "2025-01-20T19:04:51.686Z"
      },
      {
        "duration": 812,
        "start_time": "2025-01-20T19:06:00.008Z"
      },
      {
        "duration": 43,
        "start_time": "2025-01-20T19:06:00.822Z"
      },
      {
        "duration": 20,
        "start_time": "2025-01-20T19:06:00.867Z"
      },
      {
        "duration": 15,
        "start_time": "2025-01-20T19:06:00.889Z"
      },
      {
        "duration": 3,
        "start_time": "2025-01-20T19:06:00.905Z"
      },
      {
        "duration": 3,
        "start_time": "2025-01-20T19:06:00.910Z"
      },
      {
        "duration": 4,
        "start_time": "2025-01-20T19:06:00.915Z"
      },
      {
        "duration": 9,
        "start_time": "2025-01-20T19:06:00.920Z"
      },
      {
        "duration": 7,
        "start_time": "2025-01-20T19:06:00.930Z"
      },
      {
        "duration": 47,
        "start_time": "2025-01-20T19:06:00.940Z"
      },
      {
        "duration": 1990,
        "start_time": "2025-01-20T19:06:00.989Z"
      },
      {
        "duration": 853,
        "start_time": "2025-01-20T19:06:02.981Z"
      },
      {
        "duration": 244,
        "start_time": "2025-01-20T19:06:03.836Z"
      },
      {
        "duration": 901,
        "start_time": "2025-01-20T19:06:04.086Z"
      },
      {
        "duration": 0,
        "start_time": "2025-01-20T19:06:04.989Z"
      },
      {
        "duration": 0,
        "start_time": "2025-01-20T19:06:04.991Z"
      },
      {
        "duration": 0,
        "start_time": "2025-01-20T19:06:04.992Z"
      },
      {
        "duration": 0,
        "start_time": "2025-01-20T19:06:04.993Z"
      },
      {
        "duration": 0,
        "start_time": "2025-01-20T19:06:04.994Z"
      },
      {
        "duration": 0,
        "start_time": "2025-01-20T19:06:04.995Z"
      },
      {
        "duration": 427,
        "start_time": "2025-01-20T19:06:57.266Z"
      },
      {
        "duration": 797,
        "start_time": "2025-01-20T19:07:44.443Z"
      },
      {
        "duration": 6,
        "start_time": "2025-01-20T19:08:40.796Z"
      },
      {
        "duration": 556,
        "start_time": "2025-01-20T19:08:47.670Z"
      },
      {
        "duration": 848,
        "start_time": "2025-01-20T19:10:26.372Z"
      },
      {
        "duration": 352,
        "start_time": "2025-01-20T19:11:03.784Z"
      },
      {
        "duration": 381,
        "start_time": "2025-01-20T19:13:49.617Z"
      },
      {
        "duration": 390,
        "start_time": "2025-01-20T19:14:25.074Z"
      },
      {
        "duration": 310,
        "start_time": "2025-01-20T19:14:41.823Z"
      },
      {
        "duration": 404,
        "start_time": "2025-01-20T19:15:16.241Z"
      },
      {
        "duration": 364,
        "start_time": "2025-01-20T19:16:20.215Z"
      },
      {
        "duration": 785,
        "start_time": "2025-01-20T19:18:12.239Z"
      },
      {
        "duration": 1458,
        "start_time": "2025-01-20T19:18:42.280Z"
      },
      {
        "duration": 3453,
        "start_time": "2025-01-20T19:23:52.975Z"
      },
      {
        "duration": 1411,
        "start_time": "2025-01-20T19:26:01.889Z"
      },
      {
        "duration": 1287,
        "start_time": "2025-01-20T19:26:25.507Z"
      },
      {
        "duration": 1386,
        "start_time": "2025-01-20T19:28:37.770Z"
      },
      {
        "duration": 563,
        "start_time": "2025-01-20T19:30:20.007Z"
      },
      {
        "duration": 652,
        "start_time": "2025-01-20T19:31:25.124Z"
      },
      {
        "duration": 812,
        "start_time": "2025-01-20T19:38:30.576Z"
      },
      {
        "duration": 48,
        "start_time": "2025-01-20T19:38:31.390Z"
      },
      {
        "duration": 15,
        "start_time": "2025-01-20T19:38:31.444Z"
      },
      {
        "duration": 36,
        "start_time": "2025-01-20T19:38:31.462Z"
      },
      {
        "duration": 4,
        "start_time": "2025-01-20T19:38:31.502Z"
      },
      {
        "duration": 5,
        "start_time": "2025-01-20T19:38:31.508Z"
      },
      {
        "duration": 5,
        "start_time": "2025-01-20T19:38:31.516Z"
      },
      {
        "duration": 10,
        "start_time": "2025-01-20T19:38:31.523Z"
      },
      {
        "duration": 6,
        "start_time": "2025-01-20T19:38:31.536Z"
      },
      {
        "duration": 5,
        "start_time": "2025-01-20T19:38:31.544Z"
      },
      {
        "duration": 2041,
        "start_time": "2025-01-20T19:38:31.550Z"
      },
      {
        "duration": 845,
        "start_time": "2025-01-20T19:38:33.595Z"
      },
      {
        "duration": 250,
        "start_time": "2025-01-20T19:38:34.441Z"
      },
      {
        "duration": 5,
        "start_time": "2025-01-20T19:38:34.694Z"
      },
      {
        "duration": 0,
        "start_time": "2025-01-20T19:38:34.701Z"
      },
      {
        "duration": 0,
        "start_time": "2025-01-20T19:38:34.702Z"
      },
      {
        "duration": 0,
        "start_time": "2025-01-20T19:38:34.704Z"
      },
      {
        "duration": 0,
        "start_time": "2025-01-20T19:38:34.706Z"
      },
      {
        "duration": 0,
        "start_time": "2025-01-20T19:38:34.707Z"
      },
      {
        "duration": 0,
        "start_time": "2025-01-20T19:38:34.709Z"
      },
      {
        "duration": 292,
        "start_time": "2025-01-20T19:39:09.322Z"
      },
      {
        "duration": 2836,
        "start_time": "2025-01-20T19:40:20.607Z"
      },
      {
        "duration": 2967,
        "start_time": "2025-01-20T19:42:36.862Z"
      },
      {
        "duration": 2756,
        "start_time": "2025-01-20T19:42:46.068Z"
      },
      {
        "duration": 2084,
        "start_time": "2025-01-20T19:43:15.657Z"
      },
      {
        "duration": 2809,
        "start_time": "2025-01-20T19:43:52.613Z"
      },
      {
        "duration": 2723,
        "start_time": "2025-01-20T19:44:25.503Z"
      },
      {
        "duration": 2819,
        "start_time": "2025-01-20T19:45:53.279Z"
      },
      {
        "duration": 2170,
        "start_time": "2025-01-20T19:50:03.566Z"
      },
      {
        "duration": 910,
        "start_time": "2025-01-20T19:51:15.373Z"
      },
      {
        "duration": 682,
        "start_time": "2025-01-20T19:52:16.343Z"
      },
      {
        "duration": 917,
        "start_time": "2025-01-20T19:52:32.837Z"
      },
      {
        "duration": 891,
        "start_time": "2025-01-20T19:53:05.741Z"
      },
      {
        "duration": 401,
        "start_time": "2025-01-20T19:54:27.962Z"
      },
      {
        "duration": 1154,
        "start_time": "2025-01-20T19:54:48.996Z"
      },
      {
        "duration": 1081,
        "start_time": "2025-01-20T19:57:36.750Z"
      },
      {
        "duration": 1219,
        "start_time": "2025-01-20T19:57:47.287Z"
      },
      {
        "duration": 1076,
        "start_time": "2025-01-20T20:03:37.122Z"
      },
      {
        "duration": 288,
        "start_time": "2025-01-20T20:03:38.201Z"
      },
      {
        "duration": 459,
        "start_time": "2025-01-20T20:03:38.491Z"
      },
      {
        "duration": 462,
        "start_time": "2025-01-20T20:03:39.672Z"
      },
      {
        "duration": 457,
        "start_time": "2025-01-20T20:03:41.195Z"
      },
      {
        "duration": 8,
        "start_time": "2025-01-20T20:03:44.882Z"
      },
      {
        "duration": 7,
        "start_time": "2025-01-20T20:03:47.950Z"
      },
      {
        "duration": 2537,
        "start_time": "2025-01-21T19:00:07.513Z"
      },
      {
        "duration": 57,
        "start_time": "2025-01-21T19:00:10.052Z"
      },
      {
        "duration": 10,
        "start_time": "2025-01-21T19:00:10.111Z"
      },
      {
        "duration": 15,
        "start_time": "2025-01-21T19:00:10.123Z"
      },
      {
        "duration": 3,
        "start_time": "2025-01-21T19:00:10.140Z"
      },
      {
        "duration": 3,
        "start_time": "2025-01-21T19:00:10.145Z"
      },
      {
        "duration": 4,
        "start_time": "2025-01-21T19:00:10.150Z"
      },
      {
        "duration": 9,
        "start_time": "2025-01-21T19:00:10.155Z"
      },
      {
        "duration": 43,
        "start_time": "2025-01-21T19:00:10.166Z"
      },
      {
        "duration": 5,
        "start_time": "2025-01-21T19:00:10.211Z"
      },
      {
        "duration": 1984,
        "start_time": "2025-01-21T19:00:10.217Z"
      },
      {
        "duration": 744,
        "start_time": "2025-01-21T19:00:12.203Z"
      },
      {
        "duration": 228,
        "start_time": "2025-01-21T19:00:12.950Z"
      },
      {
        "duration": 1172,
        "start_time": "2025-01-21T19:00:13.181Z"
      },
      {
        "duration": 140,
        "start_time": "2025-01-21T19:00:14.355Z"
      },
      {
        "duration": 520,
        "start_time": "2025-01-21T19:00:14.496Z"
      },
      {
        "duration": 453,
        "start_time": "2025-01-21T19:00:15.019Z"
      },
      {
        "duration": 461,
        "start_time": "2025-01-21T19:00:15.474Z"
      },
      {
        "duration": 8,
        "start_time": "2025-01-21T19:00:15.937Z"
      },
      {
        "duration": 8,
        "start_time": "2025-01-21T19:00:15.946Z"
      },
      {
        "duration": 14,
        "start_time": "2025-01-21T19:08:19.262Z"
      },
      {
        "duration": 4,
        "start_time": "2025-01-21T19:08:22.796Z"
      },
      {
        "duration": 4,
        "start_time": "2025-01-21T19:08:25.142Z"
      },
      {
        "duration": 3,
        "start_time": "2025-01-21T19:08:25.777Z"
      },
      {
        "duration": 8,
        "start_time": "2025-01-21T19:25:06.410Z"
      },
      {
        "duration": 6,
        "start_time": "2025-01-21T19:26:31.257Z"
      },
      {
        "duration": 7,
        "start_time": "2025-01-21T19:27:04.077Z"
      },
      {
        "duration": 295,
        "start_time": "2025-01-21T19:27:13.611Z"
      },
      {
        "duration": 23,
        "start_time": "2025-01-21T19:27:46.703Z"
      },
      {
        "duration": 852,
        "start_time": "2025-01-21T19:30:08.958Z"
      },
      {
        "duration": 46,
        "start_time": "2025-01-21T19:30:09.812Z"
      },
      {
        "duration": 12,
        "start_time": "2025-01-21T19:30:09.860Z"
      },
      {
        "duration": 835,
        "start_time": "2025-01-21T19:30:09.875Z"
      },
      {
        "duration": 0,
        "start_time": "2025-01-21T19:30:10.712Z"
      },
      {
        "duration": 0,
        "start_time": "2025-01-21T19:30:10.714Z"
      },
      {
        "duration": 0,
        "start_time": "2025-01-21T19:30:10.715Z"
      },
      {
        "duration": 0,
        "start_time": "2025-01-21T19:30:10.717Z"
      },
      {
        "duration": 0,
        "start_time": "2025-01-21T19:30:10.719Z"
      },
      {
        "duration": 0,
        "start_time": "2025-01-21T19:30:10.720Z"
      },
      {
        "duration": 0,
        "start_time": "2025-01-21T19:30:10.721Z"
      },
      {
        "duration": 0,
        "start_time": "2025-01-21T19:30:10.723Z"
      },
      {
        "duration": 0,
        "start_time": "2025-01-21T19:30:10.724Z"
      },
      {
        "duration": 0,
        "start_time": "2025-01-21T19:30:10.726Z"
      },
      {
        "duration": 0,
        "start_time": "2025-01-21T19:30:10.727Z"
      },
      {
        "duration": 0,
        "start_time": "2025-01-21T19:30:10.729Z"
      },
      {
        "duration": 0,
        "start_time": "2025-01-21T19:30:10.730Z"
      },
      {
        "duration": 0,
        "start_time": "2025-01-21T19:30:10.732Z"
      },
      {
        "duration": 0,
        "start_time": "2025-01-21T19:30:10.734Z"
      },
      {
        "duration": 0,
        "start_time": "2025-01-21T19:30:10.735Z"
      },
      {
        "duration": 785,
        "start_time": "2025-01-21T19:35:23.015Z"
      },
      {
        "duration": 48,
        "start_time": "2025-01-21T19:35:23.802Z"
      },
      {
        "duration": 12,
        "start_time": "2025-01-21T19:35:23.852Z"
      },
      {
        "duration": 844,
        "start_time": "2025-01-21T19:35:23.865Z"
      },
      {
        "duration": 0,
        "start_time": "2025-01-21T19:35:24.711Z"
      },
      {
        "duration": 0,
        "start_time": "2025-01-21T19:35:24.712Z"
      },
      {
        "duration": 0,
        "start_time": "2025-01-21T19:35:24.713Z"
      },
      {
        "duration": 0,
        "start_time": "2025-01-21T19:35:24.715Z"
      },
      {
        "duration": 0,
        "start_time": "2025-01-21T19:35:24.716Z"
      },
      {
        "duration": 0,
        "start_time": "2025-01-21T19:35:24.718Z"
      },
      {
        "duration": 0,
        "start_time": "2025-01-21T19:35:24.719Z"
      },
      {
        "duration": 0,
        "start_time": "2025-01-21T19:35:24.721Z"
      },
      {
        "duration": 0,
        "start_time": "2025-01-21T19:35:24.722Z"
      },
      {
        "duration": 0,
        "start_time": "2025-01-21T19:35:24.724Z"
      },
      {
        "duration": 0,
        "start_time": "2025-01-21T19:35:24.726Z"
      },
      {
        "duration": 1,
        "start_time": "2025-01-21T19:35:24.727Z"
      },
      {
        "duration": 0,
        "start_time": "2025-01-21T19:35:24.729Z"
      },
      {
        "duration": 0,
        "start_time": "2025-01-21T19:35:24.731Z"
      },
      {
        "duration": 0,
        "start_time": "2025-01-21T19:35:24.732Z"
      },
      {
        "duration": 0,
        "start_time": "2025-01-21T19:35:24.733Z"
      },
      {
        "duration": 67,
        "start_time": "2025-01-21T19:36:35.080Z"
      },
      {
        "duration": 57,
        "start_time": "2025-01-21T19:44:03.372Z"
      },
      {
        "duration": 473,
        "start_time": "2025-01-21T19:45:53.440Z"
      },
      {
        "duration": 59,
        "start_time": "2025-01-21T19:46:13.668Z"
      },
      {
        "duration": 13,
        "start_time": "2025-01-21T19:47:10.679Z"
      },
      {
        "duration": 12,
        "start_time": "2025-01-21T19:47:25.243Z"
      },
      {
        "duration": 62,
        "start_time": "2025-01-21T19:49:24.239Z"
      },
      {
        "duration": 59,
        "start_time": "2025-01-21T19:50:05.354Z"
      },
      {
        "duration": 60,
        "start_time": "2025-01-21T19:50:32.316Z"
      },
      {
        "duration": 61,
        "start_time": "2025-01-21T19:51:01.542Z"
      },
      {
        "duration": 58,
        "start_time": "2025-01-21T19:51:08.830Z"
      },
      {
        "duration": 5,
        "start_time": "2025-01-21T19:51:36.191Z"
      },
      {
        "duration": 31,
        "start_time": "2025-01-21T19:51:45.473Z"
      },
      {
        "duration": 31,
        "start_time": "2025-01-21T19:52:20.885Z"
      },
      {
        "duration": 807,
        "start_time": "2025-01-21T19:52:34.711Z"
      },
      {
        "duration": 46,
        "start_time": "2025-01-21T19:52:35.520Z"
      },
      {
        "duration": 11,
        "start_time": "2025-01-21T19:52:35.569Z"
      },
      {
        "duration": 296,
        "start_time": "2025-01-21T19:52:35.582Z"
      },
      {
        "duration": 0,
        "start_time": "2025-01-21T19:52:35.880Z"
      },
      {
        "duration": 0,
        "start_time": "2025-01-21T19:52:35.881Z"
      },
      {
        "duration": 0,
        "start_time": "2025-01-21T19:52:35.883Z"
      },
      {
        "duration": 0,
        "start_time": "2025-01-21T19:52:35.884Z"
      },
      {
        "duration": 0,
        "start_time": "2025-01-21T19:52:35.885Z"
      },
      {
        "duration": 0,
        "start_time": "2025-01-21T19:52:35.887Z"
      },
      {
        "duration": 0,
        "start_time": "2025-01-21T19:52:35.888Z"
      },
      {
        "duration": 0,
        "start_time": "2025-01-21T19:52:35.890Z"
      },
      {
        "duration": 0,
        "start_time": "2025-01-21T19:52:35.909Z"
      },
      {
        "duration": 0,
        "start_time": "2025-01-21T19:52:35.910Z"
      },
      {
        "duration": 0,
        "start_time": "2025-01-21T19:52:35.911Z"
      },
      {
        "duration": 470,
        "start_time": "2025-01-21T19:52:36.451Z"
      },
      {
        "duration": 470,
        "start_time": "2025-01-21T19:52:36.923Z"
      },
      {
        "duration": 572,
        "start_time": "2025-01-21T19:52:37.395Z"
      },
      {
        "duration": 296,
        "start_time": "2025-01-21T19:52:37.969Z"
      },
      {
        "duration": 0,
        "start_time": "2025-01-21T19:52:38.267Z"
      },
      {
        "duration": 37,
        "start_time": "2025-01-21T19:53:03.757Z"
      },
      {
        "duration": 44,
        "start_time": "2025-01-21T19:53:34.162Z"
      },
      {
        "duration": 37,
        "start_time": "2025-01-21T19:54:19.712Z"
      },
      {
        "duration": 491,
        "start_time": "2025-01-21T19:54:53.151Z"
      },
      {
        "duration": 50,
        "start_time": "2025-01-21T19:58:31.774Z"
      },
      {
        "duration": 38,
        "start_time": "2025-01-21T19:59:03.120Z"
      },
      {
        "duration": 39,
        "start_time": "2025-01-21T19:59:15.292Z"
      },
      {
        "duration": 166,
        "start_time": "2025-01-21T20:00:04.676Z"
      },
      {
        "duration": 41,
        "start_time": "2025-01-21T20:08:36.795Z"
      },
      {
        "duration": 87,
        "start_time": "2025-01-21T20:09:44.453Z"
      },
      {
        "duration": 98,
        "start_time": "2025-01-21T20:11:55.630Z"
      },
      {
        "duration": 85,
        "start_time": "2025-01-21T20:12:29.644Z"
      },
      {
        "duration": 17,
        "start_time": "2025-01-21T20:15:45.183Z"
      },
      {
        "duration": 789,
        "start_time": "2025-01-21T20:16:10.005Z"
      },
      {
        "duration": 53,
        "start_time": "2025-01-21T20:16:10.797Z"
      },
      {
        "duration": 11,
        "start_time": "2025-01-21T20:16:10.852Z"
      },
      {
        "duration": 6,
        "start_time": "2025-01-21T20:16:10.865Z"
      },
      {
        "duration": 0,
        "start_time": "2025-01-21T20:16:10.873Z"
      },
      {
        "duration": 0,
        "start_time": "2025-01-21T20:16:10.874Z"
      },
      {
        "duration": 0,
        "start_time": "2025-01-21T20:16:10.876Z"
      },
      {
        "duration": 0,
        "start_time": "2025-01-21T20:16:10.876Z"
      },
      {
        "duration": 0,
        "start_time": "2025-01-21T20:16:10.877Z"
      },
      {
        "duration": 0,
        "start_time": "2025-01-21T20:16:10.879Z"
      },
      {
        "duration": 0,
        "start_time": "2025-01-21T20:16:10.880Z"
      },
      {
        "duration": 0,
        "start_time": "2025-01-21T20:16:10.881Z"
      },
      {
        "duration": 0,
        "start_time": "2025-01-21T20:16:10.882Z"
      },
      {
        "duration": 0,
        "start_time": "2025-01-21T20:16:10.909Z"
      },
      {
        "duration": 0,
        "start_time": "2025-01-21T20:16:10.910Z"
      },
      {
        "duration": 0,
        "start_time": "2025-01-21T20:16:10.912Z"
      },
      {
        "duration": 0,
        "start_time": "2025-01-21T20:16:10.913Z"
      },
      {
        "duration": 0,
        "start_time": "2025-01-21T20:16:10.914Z"
      },
      {
        "duration": 0,
        "start_time": "2025-01-21T20:16:10.915Z"
      },
      {
        "duration": 0,
        "start_time": "2025-01-21T20:16:10.916Z"
      },
      {
        "duration": 715,
        "start_time": "2025-01-21T20:20:43.936Z"
      },
      {
        "duration": 12,
        "start_time": "2025-01-21T20:21:33.718Z"
      },
      {
        "duration": 14,
        "start_time": "2025-01-21T20:22:03.276Z"
      },
      {
        "duration": 759,
        "start_time": "2025-01-21T20:23:17.733Z"
      },
      {
        "duration": 96,
        "start_time": "2025-01-21T20:24:08.343Z"
      },
      {
        "duration": 81,
        "start_time": "2025-01-21T20:24:49.534Z"
      },
      {
        "duration": 82,
        "start_time": "2025-01-21T20:25:14.961Z"
      },
      {
        "duration": 90,
        "start_time": "2025-01-21T20:25:28.869Z"
      },
      {
        "duration": 47,
        "start_time": "2025-01-21T20:25:52.486Z"
      },
      {
        "duration": 38,
        "start_time": "2025-01-21T20:27:26.511Z"
      },
      {
        "duration": 40,
        "start_time": "2025-01-21T20:29:10.334Z"
      },
      {
        "duration": 47,
        "start_time": "2025-01-21T20:29:30.846Z"
      },
      {
        "duration": 49,
        "start_time": "2025-01-21T20:29:47.354Z"
      },
      {
        "duration": 45,
        "start_time": "2025-01-21T20:31:16.730Z"
      },
      {
        "duration": 52,
        "start_time": "2025-01-21T20:31:39.460Z"
      },
      {
        "duration": 52,
        "start_time": "2025-01-21T20:32:09.784Z"
      },
      {
        "duration": 53,
        "start_time": "2025-01-21T20:32:46.757Z"
      },
      {
        "duration": 57,
        "start_time": "2025-01-21T20:33:32.525Z"
      },
      {
        "duration": 56,
        "start_time": "2025-01-21T20:34:23.609Z"
      },
      {
        "duration": 62,
        "start_time": "2025-01-21T20:34:57.159Z"
      },
      {
        "duration": 104,
        "start_time": "2025-01-21T20:37:00.422Z"
      },
      {
        "duration": 75,
        "start_time": "2025-01-21T20:37:30.600Z"
      },
      {
        "duration": 76,
        "start_time": "2025-01-21T20:38:19.613Z"
      },
      {
        "duration": 7,
        "start_time": "2025-01-21T20:39:28.930Z"
      },
      {
        "duration": 79,
        "start_time": "2025-01-21T20:39:37.578Z"
      },
      {
        "duration": 886,
        "start_time": "2025-01-21T20:40:17.016Z"
      },
      {
        "duration": 45,
        "start_time": "2025-01-21T20:40:17.904Z"
      },
      {
        "duration": 12,
        "start_time": "2025-01-21T20:40:17.951Z"
      },
      {
        "duration": 719,
        "start_time": "2025-01-21T20:40:17.965Z"
      },
      {
        "duration": 0,
        "start_time": "2025-01-21T20:40:18.686Z"
      },
      {
        "duration": 0,
        "start_time": "2025-01-21T20:40:18.687Z"
      },
      {
        "duration": 0,
        "start_time": "2025-01-21T20:40:18.688Z"
      },
      {
        "duration": 0,
        "start_time": "2025-01-21T20:40:18.690Z"
      },
      {
        "duration": 0,
        "start_time": "2025-01-21T20:40:18.692Z"
      },
      {
        "duration": 0,
        "start_time": "2025-01-21T20:40:18.692Z"
      },
      {
        "duration": 0,
        "start_time": "2025-01-21T20:40:18.694Z"
      },
      {
        "duration": 0,
        "start_time": "2025-01-21T20:40:18.694Z"
      },
      {
        "duration": 0,
        "start_time": "2025-01-21T20:40:18.695Z"
      },
      {
        "duration": 0,
        "start_time": "2025-01-21T20:40:18.696Z"
      },
      {
        "duration": 0,
        "start_time": "2025-01-21T20:40:18.709Z"
      },
      {
        "duration": 0,
        "start_time": "2025-01-21T20:40:18.710Z"
      },
      {
        "duration": 0,
        "start_time": "2025-01-21T20:40:18.712Z"
      },
      {
        "duration": 0,
        "start_time": "2025-01-21T20:40:18.713Z"
      },
      {
        "duration": 0,
        "start_time": "2025-01-21T20:40:18.714Z"
      },
      {
        "duration": 0,
        "start_time": "2025-01-21T20:40:18.716Z"
      },
      {
        "duration": 75,
        "start_time": "2025-01-21T20:40:56.576Z"
      },
      {
        "duration": 410,
        "start_time": "2025-01-21T20:41:51.013Z"
      },
      {
        "duration": 211,
        "start_time": "2025-01-21T20:43:31.786Z"
      },
      {
        "duration": 110,
        "start_time": "2025-01-21T20:44:50.961Z"
      },
      {
        "duration": 807,
        "start_time": "2025-01-21T20:45:28.284Z"
      },
      {
        "duration": 49,
        "start_time": "2025-01-21T20:45:29.093Z"
      },
      {
        "duration": 12,
        "start_time": "2025-01-21T20:45:29.144Z"
      },
      {
        "duration": 890,
        "start_time": "2025-01-21T20:45:29.157Z"
      },
      {
        "duration": 0,
        "start_time": "2025-01-21T20:45:30.049Z"
      },
      {
        "duration": 0,
        "start_time": "2025-01-21T20:45:30.050Z"
      },
      {
        "duration": 0,
        "start_time": "2025-01-21T20:45:30.051Z"
      },
      {
        "duration": 0,
        "start_time": "2025-01-21T20:45:30.052Z"
      },
      {
        "duration": 0,
        "start_time": "2025-01-21T20:45:30.053Z"
      },
      {
        "duration": 0,
        "start_time": "2025-01-21T20:45:30.055Z"
      },
      {
        "duration": 0,
        "start_time": "2025-01-21T20:45:30.057Z"
      },
      {
        "duration": 0,
        "start_time": "2025-01-21T20:45:30.058Z"
      },
      {
        "duration": 0,
        "start_time": "2025-01-21T20:45:30.058Z"
      },
      {
        "duration": 0,
        "start_time": "2025-01-21T20:45:30.060Z"
      },
      {
        "duration": 0,
        "start_time": "2025-01-21T20:45:30.061Z"
      },
      {
        "duration": 0,
        "start_time": "2025-01-21T20:45:30.062Z"
      },
      {
        "duration": 0,
        "start_time": "2025-01-21T20:45:30.063Z"
      },
      {
        "duration": 0,
        "start_time": "2025-01-21T20:45:30.064Z"
      },
      {
        "duration": 0,
        "start_time": "2025-01-21T20:45:30.067Z"
      },
      {
        "duration": 0,
        "start_time": "2025-01-21T20:45:30.068Z"
      },
      {
        "duration": 128,
        "start_time": "2025-01-21T20:48:27.214Z"
      },
      {
        "duration": 102,
        "start_time": "2025-01-21T20:49:00.509Z"
      },
      {
        "duration": 1125,
        "start_time": "2025-01-21T20:49:57.624Z"
      },
      {
        "duration": 1116,
        "start_time": "2025-01-21T20:50:18.174Z"
      },
      {
        "duration": 593,
        "start_time": "2025-01-21T20:50:31.269Z"
      },
      {
        "duration": 612,
        "start_time": "2025-01-21T20:52:05.200Z"
      },
      {
        "duration": 100,
        "start_time": "2025-01-21T20:57:32.579Z"
      },
      {
        "duration": 94,
        "start_time": "2025-01-21T20:58:04.052Z"
      },
      {
        "duration": 685,
        "start_time": "2025-01-21T20:58:57.755Z"
      },
      {
        "duration": 663,
        "start_time": "2025-01-21T20:59:14.038Z"
      },
      {
        "duration": 72,
        "start_time": "2025-01-21T21:00:49.867Z"
      },
      {
        "duration": 648,
        "start_time": "2025-01-21T21:01:38.378Z"
      },
      {
        "duration": 40,
        "start_time": "2025-01-21T21:04:25.047Z"
      },
      {
        "duration": 805,
        "start_time": "2025-01-21T21:04:33.728Z"
      },
      {
        "duration": 812,
        "start_time": "2025-01-21T21:05:03.692Z"
      },
      {
        "duration": 133,
        "start_time": "2025-01-21T21:05:43.486Z"
      },
      {
        "duration": 807,
        "start_time": "2025-01-21T21:06:07.790Z"
      },
      {
        "duration": 49,
        "start_time": "2025-01-21T21:06:08.599Z"
      },
      {
        "duration": 11,
        "start_time": "2025-01-21T21:06:08.650Z"
      },
      {
        "duration": 835,
        "start_time": "2025-01-21T21:06:08.662Z"
      },
      {
        "duration": 3,
        "start_time": "2025-01-21T21:06:09.508Z"
      },
      {
        "duration": 3,
        "start_time": "2025-01-21T21:06:09.513Z"
      },
      {
        "duration": 5,
        "start_time": "2025-01-21T21:06:09.518Z"
      },
      {
        "duration": 8,
        "start_time": "2025-01-21T21:06:09.524Z"
      },
      {
        "duration": 5,
        "start_time": "2025-01-21T21:06:09.534Z"
      },
      {
        "duration": 5,
        "start_time": "2025-01-21T21:06:09.541Z"
      },
      {
        "duration": 2037,
        "start_time": "2025-01-21T21:06:09.548Z"
      },
      {
        "duration": 825,
        "start_time": "2025-01-21T21:06:11.586Z"
      },
      {
        "duration": 232,
        "start_time": "2025-01-21T21:06:12.412Z"
      },
      {
        "duration": 1095,
        "start_time": "2025-01-21T21:06:12.647Z"
      },
      {
        "duration": 139,
        "start_time": "2025-01-21T21:06:13.743Z"
      },
      {
        "duration": 450,
        "start_time": "2025-01-21T21:06:13.884Z"
      },
      {
        "duration": 578,
        "start_time": "2025-01-21T21:06:14.336Z"
      },
      {
        "duration": 458,
        "start_time": "2025-01-21T21:06:14.916Z"
      },
      {
        "duration": 8,
        "start_time": "2025-01-21T21:06:15.375Z"
      },
      {
        "duration": 7,
        "start_time": "2025-01-21T21:06:15.385Z"
      },
      {
        "duration": 349,
        "start_time": "2025-01-21T21:07:16.850Z"
      },
      {
        "duration": 111,
        "start_time": "2025-01-21T21:07:29.979Z"
      },
      {
        "duration": 134,
        "start_time": "2025-01-21T21:08:58.927Z"
      },
      {
        "duration": 870,
        "start_time": "2025-01-21T21:15:05.621Z"
      },
      {
        "duration": 50,
        "start_time": "2025-01-21T21:15:06.492Z"
      },
      {
        "duration": 10,
        "start_time": "2025-01-21T21:15:06.545Z"
      },
      {
        "duration": 7,
        "start_time": "2025-01-21T21:15:06.557Z"
      },
      {
        "duration": 0,
        "start_time": "2025-01-21T21:15:06.566Z"
      },
      {
        "duration": 0,
        "start_time": "2025-01-21T21:15:06.568Z"
      },
      {
        "duration": 0,
        "start_time": "2025-01-21T21:15:06.569Z"
      },
      {
        "duration": 0,
        "start_time": "2025-01-21T21:15:06.571Z"
      },
      {
        "duration": 0,
        "start_time": "2025-01-21T21:15:06.572Z"
      },
      {
        "duration": 0,
        "start_time": "2025-01-21T21:15:06.574Z"
      },
      {
        "duration": 0,
        "start_time": "2025-01-21T21:15:06.575Z"
      },
      {
        "duration": 0,
        "start_time": "2025-01-21T21:15:06.576Z"
      },
      {
        "duration": 0,
        "start_time": "2025-01-21T21:15:06.578Z"
      },
      {
        "duration": 0,
        "start_time": "2025-01-21T21:15:06.608Z"
      },
      {
        "duration": 0,
        "start_time": "2025-01-21T21:15:06.610Z"
      },
      {
        "duration": 0,
        "start_time": "2025-01-21T21:15:06.611Z"
      },
      {
        "duration": 0,
        "start_time": "2025-01-21T21:15:06.612Z"
      },
      {
        "duration": 0,
        "start_time": "2025-01-21T21:15:06.614Z"
      },
      {
        "duration": 0,
        "start_time": "2025-01-21T21:15:06.615Z"
      },
      {
        "duration": 0,
        "start_time": "2025-01-21T21:15:06.617Z"
      },
      {
        "duration": 930,
        "start_time": "2025-01-21T21:15:25.523Z"
      },
      {
        "duration": 154,
        "start_time": "2025-01-21T21:15:45.168Z"
      },
      {
        "duration": 893,
        "start_time": "2025-01-21T21:16:25.434Z"
      },
      {
        "duration": 47,
        "start_time": "2025-01-21T21:16:26.329Z"
      },
      {
        "duration": 12,
        "start_time": "2025-01-21T21:16:26.377Z"
      },
      {
        "duration": 843,
        "start_time": "2025-01-21T21:16:26.391Z"
      },
      {
        "duration": 0,
        "start_time": "2025-01-21T21:16:27.236Z"
      },
      {
        "duration": 0,
        "start_time": "2025-01-21T21:16:27.237Z"
      },
      {
        "duration": 0,
        "start_time": "2025-01-21T21:16:27.238Z"
      },
      {
        "duration": 0,
        "start_time": "2025-01-21T21:16:27.239Z"
      },
      {
        "duration": 0,
        "start_time": "2025-01-21T21:16:27.240Z"
      },
      {
        "duration": 0,
        "start_time": "2025-01-21T21:16:27.241Z"
      },
      {
        "duration": 0,
        "start_time": "2025-01-21T21:16:27.242Z"
      },
      {
        "duration": 0,
        "start_time": "2025-01-21T21:16:27.243Z"
      },
      {
        "duration": 0,
        "start_time": "2025-01-21T21:16:27.244Z"
      },
      {
        "duration": 0,
        "start_time": "2025-01-21T21:16:27.245Z"
      },
      {
        "duration": 0,
        "start_time": "2025-01-21T21:16:27.246Z"
      },
      {
        "duration": 0,
        "start_time": "2025-01-21T21:16:27.247Z"
      },
      {
        "duration": 0,
        "start_time": "2025-01-21T21:16:27.248Z"
      },
      {
        "duration": 0,
        "start_time": "2025-01-21T21:16:27.249Z"
      },
      {
        "duration": 0,
        "start_time": "2025-01-21T21:16:27.250Z"
      },
      {
        "duration": 0,
        "start_time": "2025-01-21T21:16:27.251Z"
      },
      {
        "duration": 131,
        "start_time": "2025-01-21T21:19:12.912Z"
      },
      {
        "duration": 132,
        "start_time": "2025-01-21T21:19:46.669Z"
      },
      {
        "duration": 139,
        "start_time": "2025-01-21T21:20:21.703Z"
      },
      {
        "duration": 129,
        "start_time": "2025-01-21T21:20:58.179Z"
      },
      {
        "duration": 4,
        "start_time": "2025-01-21T21:21:00.177Z"
      },
      {
        "duration": 4,
        "start_time": "2025-01-21T21:21:01.650Z"
      },
      {
        "duration": 5,
        "start_time": "2025-01-21T21:21:02.235Z"
      },
      {
        "duration": 10,
        "start_time": "2025-01-21T21:21:03.464Z"
      },
      {
        "duration": 9,
        "start_time": "2025-01-21T21:21:28.765Z"
      },
      {
        "duration": 116,
        "start_time": "2025-01-21T21:24:54.540Z"
      },
      {
        "duration": 123,
        "start_time": "2025-01-21T21:26:01.810Z"
      },
      {
        "duration": 856,
        "start_time": "2025-01-21T21:27:19.186Z"
      },
      {
        "duration": 54,
        "start_time": "2025-01-21T21:27:20.044Z"
      },
      {
        "duration": 12,
        "start_time": "2025-01-21T21:27:20.100Z"
      },
      {
        "duration": 830,
        "start_time": "2025-01-21T21:27:20.114Z"
      },
      {
        "duration": 0,
        "start_time": "2025-01-21T21:27:20.947Z"
      },
      {
        "duration": 0,
        "start_time": "2025-01-21T21:27:20.948Z"
      },
      {
        "duration": 0,
        "start_time": "2025-01-21T21:27:20.950Z"
      },
      {
        "duration": 0,
        "start_time": "2025-01-21T21:27:20.951Z"
      },
      {
        "duration": 0,
        "start_time": "2025-01-21T21:27:20.952Z"
      },
      {
        "duration": 0,
        "start_time": "2025-01-21T21:27:20.953Z"
      },
      {
        "duration": 0,
        "start_time": "2025-01-21T21:27:20.954Z"
      },
      {
        "duration": 0,
        "start_time": "2025-01-21T21:27:20.955Z"
      },
      {
        "duration": 0,
        "start_time": "2025-01-21T21:27:20.957Z"
      },
      {
        "duration": 0,
        "start_time": "2025-01-21T21:27:20.957Z"
      },
      {
        "duration": 0,
        "start_time": "2025-01-21T21:27:20.959Z"
      },
      {
        "duration": 0,
        "start_time": "2025-01-21T21:27:20.959Z"
      },
      {
        "duration": 0,
        "start_time": "2025-01-21T21:27:20.960Z"
      },
      {
        "duration": 0,
        "start_time": "2025-01-21T21:27:20.962Z"
      },
      {
        "duration": 0,
        "start_time": "2025-01-21T21:27:20.964Z"
      },
      {
        "duration": 0,
        "start_time": "2025-01-21T21:27:20.965Z"
      },
      {
        "duration": 128,
        "start_time": "2025-01-21T21:31:33.166Z"
      },
      {
        "duration": 185,
        "start_time": "2025-01-21T21:33:53.033Z"
      },
      {
        "duration": 35,
        "start_time": "2025-01-21T21:34:16.133Z"
      },
      {
        "duration": 31,
        "start_time": "2025-01-21T21:34:37.973Z"
      },
      {
        "duration": 38,
        "start_time": "2025-01-21T21:34:51.531Z"
      },
      {
        "duration": 137,
        "start_time": "2025-01-21T21:35:01.432Z"
      },
      {
        "duration": 31,
        "start_time": "2025-01-21T21:35:48.335Z"
      },
      {
        "duration": 34,
        "start_time": "2025-01-21T21:36:03.335Z"
      },
      {
        "duration": 151,
        "start_time": "2025-01-21T21:36:18.053Z"
      },
      {
        "duration": 4,
        "start_time": "2025-01-21T21:36:25.362Z"
      },
      {
        "duration": 4,
        "start_time": "2025-01-21T21:36:26.830Z"
      },
      {
        "duration": 5,
        "start_time": "2025-01-21T21:36:27.596Z"
      },
      {
        "duration": 3,
        "start_time": "2025-01-21T21:38:33.267Z"
      },
      {
        "duration": 4,
        "start_time": "2025-01-21T21:38:33.778Z"
      },
      {
        "duration": 2,
        "start_time": "2025-01-21T21:38:34.133Z"
      },
      {
        "duration": 10,
        "start_time": "2025-01-21T21:38:34.472Z"
      },
      {
        "duration": 4,
        "start_time": "2025-01-21T21:39:42.013Z"
      },
      {
        "duration": 3,
        "start_time": "2025-01-21T21:39:42.469Z"
      },
      {
        "duration": 5,
        "start_time": "2025-01-21T21:39:42.908Z"
      },
      {
        "duration": 8,
        "start_time": "2025-01-21T21:39:43.336Z"
      },
      {
        "duration": 7,
        "start_time": "2025-01-21T21:39:45.383Z"
      },
      {
        "duration": 6,
        "start_time": "2025-01-21T21:39:46.338Z"
      },
      {
        "duration": 1924,
        "start_time": "2025-01-21T21:39:47.419Z"
      },
      {
        "duration": 898,
        "start_time": "2025-01-21T21:41:33.335Z"
      },
      {
        "duration": 252,
        "start_time": "2025-01-21T21:44:22.009Z"
      },
      {
        "duration": 1291,
        "start_time": "2025-01-21T21:44:25.151Z"
      },
      {
        "duration": 164,
        "start_time": "2025-01-21T21:44:28.078Z"
      },
      {
        "duration": 464,
        "start_time": "2025-01-21T21:44:32.269Z"
      },
      {
        "duration": 570,
        "start_time": "2025-01-21T21:44:34.554Z"
      },
      {
        "duration": 477,
        "start_time": "2025-01-21T21:44:36.693Z"
      },
      {
        "duration": 10,
        "start_time": "2025-01-21T21:44:40.446Z"
      },
      {
        "duration": 9,
        "start_time": "2025-01-21T21:44:44.614Z"
      },
      {
        "duration": 22,
        "start_time": "2025-01-21T21:53:22.553Z"
      },
      {
        "duration": 20,
        "start_time": "2025-01-21T21:53:36.019Z"
      },
      {
        "duration": 10,
        "start_time": "2025-01-21T21:53:50.054Z"
      },
      {
        "duration": 12,
        "start_time": "2025-01-21T21:55:58.430Z"
      },
      {
        "duration": 9,
        "start_time": "2025-01-21T21:56:26.143Z"
      },
      {
        "duration": 10,
        "start_time": "2025-01-21T21:57:19.963Z"
      },
      {
        "duration": 9,
        "start_time": "2025-01-21T21:57:26.953Z"
      },
      {
        "duration": 10,
        "start_time": "2025-01-21T21:59:02.195Z"
      },
      {
        "duration": 10,
        "start_time": "2025-01-21T21:59:12.908Z"
      },
      {
        "duration": 10,
        "start_time": "2025-01-21T22:01:08.825Z"
      },
      {
        "duration": 818,
        "start_time": "2025-01-21T22:03:34.361Z"
      },
      {
        "duration": 48,
        "start_time": "2025-01-21T22:03:35.182Z"
      },
      {
        "duration": 12,
        "start_time": "2025-01-21T22:03:35.231Z"
      },
      {
        "duration": 765,
        "start_time": "2025-01-21T22:03:35.245Z"
      },
      {
        "duration": 0,
        "start_time": "2025-01-21T22:03:36.013Z"
      },
      {
        "duration": 0,
        "start_time": "2025-01-21T22:03:36.014Z"
      },
      {
        "duration": 0,
        "start_time": "2025-01-21T22:03:36.016Z"
      },
      {
        "duration": 0,
        "start_time": "2025-01-21T22:03:36.018Z"
      },
      {
        "duration": 0,
        "start_time": "2025-01-21T22:03:36.019Z"
      },
      {
        "duration": 0,
        "start_time": "2025-01-21T22:03:36.021Z"
      },
      {
        "duration": 0,
        "start_time": "2025-01-21T22:03:36.022Z"
      },
      {
        "duration": 0,
        "start_time": "2025-01-21T22:03:36.023Z"
      },
      {
        "duration": 0,
        "start_time": "2025-01-21T22:03:36.025Z"
      },
      {
        "duration": 0,
        "start_time": "2025-01-21T22:03:36.026Z"
      },
      {
        "duration": 0,
        "start_time": "2025-01-21T22:03:36.028Z"
      },
      {
        "duration": 0,
        "start_time": "2025-01-21T22:03:36.029Z"
      },
      {
        "duration": 0,
        "start_time": "2025-01-21T22:03:36.031Z"
      },
      {
        "duration": 0,
        "start_time": "2025-01-21T22:03:36.032Z"
      },
      {
        "duration": 0,
        "start_time": "2025-01-21T22:03:36.034Z"
      },
      {
        "duration": 0,
        "start_time": "2025-01-21T22:03:36.035Z"
      },
      {
        "duration": 3,
        "start_time": "2025-01-21T22:03:42.328Z"
      },
      {
        "duration": 42,
        "start_time": "2025-01-21T22:03:42.934Z"
      },
      {
        "duration": 12,
        "start_time": "2025-01-21T22:03:45.747Z"
      },
      {
        "duration": 679,
        "start_time": "2025-01-21T22:03:47.170Z"
      },
      {
        "duration": 3,
        "start_time": "2025-01-21T22:03:51.076Z"
      },
      {
        "duration": 660,
        "start_time": "2025-01-21T22:03:52.242Z"
      },
      {
        "duration": 4,
        "start_time": "2025-01-21T22:03:53.218Z"
      },
      {
        "duration": 121,
        "start_time": "2025-01-21T22:04:58.656Z"
      },
      {
        "duration": 121,
        "start_time": "2025-01-21T22:05:57.510Z"
      },
      {
        "duration": 118,
        "start_time": "2025-01-21T22:07:12.588Z"
      },
      {
        "duration": 119,
        "start_time": "2025-01-21T22:07:33.114Z"
      },
      {
        "duration": 126,
        "start_time": "2025-01-21T22:08:17.992Z"
      },
      {
        "duration": 120,
        "start_time": "2025-01-21T22:08:30.144Z"
      },
      {
        "duration": 114,
        "start_time": "2025-01-21T22:09:06.784Z"
      },
      {
        "duration": 855,
        "start_time": "2025-01-21T22:09:30.930Z"
      },
      {
        "duration": 48,
        "start_time": "2025-01-21T22:09:31.787Z"
      },
      {
        "duration": 11,
        "start_time": "2025-01-21T22:09:31.836Z"
      },
      {
        "duration": 760,
        "start_time": "2025-01-21T22:09:31.850Z"
      },
      {
        "duration": 1,
        "start_time": "2025-01-21T22:09:32.612Z"
      },
      {
        "duration": 0,
        "start_time": "2025-01-21T22:09:32.614Z"
      },
      {
        "duration": 0,
        "start_time": "2025-01-21T22:09:32.615Z"
      },
      {
        "duration": 0,
        "start_time": "2025-01-21T22:09:32.617Z"
      },
      {
        "duration": 0,
        "start_time": "2025-01-21T22:09:32.618Z"
      },
      {
        "duration": 0,
        "start_time": "2025-01-21T22:09:32.619Z"
      },
      {
        "duration": 0,
        "start_time": "2025-01-21T22:09:32.620Z"
      },
      {
        "duration": 0,
        "start_time": "2025-01-21T22:09:32.621Z"
      },
      {
        "duration": 0,
        "start_time": "2025-01-21T22:09:32.622Z"
      },
      {
        "duration": 0,
        "start_time": "2025-01-21T22:09:32.623Z"
      },
      {
        "duration": 0,
        "start_time": "2025-01-21T22:09:32.624Z"
      },
      {
        "duration": 0,
        "start_time": "2025-01-21T22:09:32.625Z"
      },
      {
        "duration": 0,
        "start_time": "2025-01-21T22:09:32.626Z"
      },
      {
        "duration": 0,
        "start_time": "2025-01-21T22:09:32.627Z"
      },
      {
        "duration": 0,
        "start_time": "2025-01-21T22:09:32.628Z"
      },
      {
        "duration": 0,
        "start_time": "2025-01-21T22:09:32.629Z"
      },
      {
        "duration": 123,
        "start_time": "2025-01-21T22:10:37.034Z"
      },
      {
        "duration": 784,
        "start_time": "2025-01-21T22:12:18.606Z"
      },
      {
        "duration": 58,
        "start_time": "2025-01-21T22:12:19.391Z"
      },
      {
        "duration": 11,
        "start_time": "2025-01-21T22:12:19.450Z"
      },
      {
        "duration": 19,
        "start_time": "2025-01-21T22:12:19.463Z"
      },
      {
        "duration": 805,
        "start_time": "2025-01-21T22:12:19.484Z"
      },
      {
        "duration": 0,
        "start_time": "2025-01-21T22:12:20.291Z"
      },
      {
        "duration": 0,
        "start_time": "2025-01-21T22:12:20.292Z"
      },
      {
        "duration": 0,
        "start_time": "2025-01-21T22:12:20.294Z"
      },
      {
        "duration": 0,
        "start_time": "2025-01-21T22:12:20.295Z"
      },
      {
        "duration": 0,
        "start_time": "2025-01-21T22:12:20.296Z"
      },
      {
        "duration": 0,
        "start_time": "2025-01-21T22:12:20.297Z"
      },
      {
        "duration": 0,
        "start_time": "2025-01-21T22:12:20.309Z"
      },
      {
        "duration": 0,
        "start_time": "2025-01-21T22:12:20.310Z"
      },
      {
        "duration": 0,
        "start_time": "2025-01-21T22:12:20.311Z"
      },
      {
        "duration": 0,
        "start_time": "2025-01-21T22:12:20.313Z"
      },
      {
        "duration": 0,
        "start_time": "2025-01-21T22:12:20.314Z"
      },
      {
        "duration": 0,
        "start_time": "2025-01-21T22:12:20.315Z"
      },
      {
        "duration": 0,
        "start_time": "2025-01-21T22:12:20.316Z"
      },
      {
        "duration": 0,
        "start_time": "2025-01-21T22:12:20.317Z"
      },
      {
        "duration": 0,
        "start_time": "2025-01-21T22:12:20.318Z"
      },
      {
        "duration": 0,
        "start_time": "2025-01-21T22:12:20.319Z"
      },
      {
        "duration": 19,
        "start_time": "2025-01-21T22:12:52.148Z"
      },
      {
        "duration": 39,
        "start_time": "2025-01-21T22:13:11.785Z"
      },
      {
        "duration": 115,
        "start_time": "2025-01-21T22:13:26.834Z"
      },
      {
        "duration": 135,
        "start_time": "2025-01-21T22:13:43.797Z"
      },
      {
        "duration": 752,
        "start_time": "2025-01-21T22:13:54.330Z"
      },
      {
        "duration": 64,
        "start_time": "2025-01-21T22:13:55.085Z"
      },
      {
        "duration": 12,
        "start_time": "2025-01-21T22:13:55.151Z"
      },
      {
        "duration": 19,
        "start_time": "2025-01-21T22:13:55.166Z"
      },
      {
        "duration": 459,
        "start_time": "2025-01-21T22:13:55.187Z"
      },
      {
        "duration": 0,
        "start_time": "2025-01-21T22:13:55.648Z"
      },
      {
        "duration": 0,
        "start_time": "2025-01-21T22:13:55.649Z"
      },
      {
        "duration": 0,
        "start_time": "2025-01-21T22:13:55.651Z"
      },
      {
        "duration": 0,
        "start_time": "2025-01-21T22:13:55.652Z"
      },
      {
        "duration": 0,
        "start_time": "2025-01-21T22:13:55.653Z"
      },
      {
        "duration": 0,
        "start_time": "2025-01-21T22:13:55.654Z"
      },
      {
        "duration": 0,
        "start_time": "2025-01-21T22:13:55.655Z"
      },
      {
        "duration": 0,
        "start_time": "2025-01-21T22:13:55.656Z"
      },
      {
        "duration": 0,
        "start_time": "2025-01-21T22:13:55.657Z"
      },
      {
        "duration": 0,
        "start_time": "2025-01-21T22:13:55.658Z"
      },
      {
        "duration": 0,
        "start_time": "2025-01-21T22:13:55.659Z"
      },
      {
        "duration": 0,
        "start_time": "2025-01-21T22:13:55.659Z"
      },
      {
        "duration": 0,
        "start_time": "2025-01-21T22:13:55.661Z"
      },
      {
        "duration": 0,
        "start_time": "2025-01-21T22:13:55.663Z"
      },
      {
        "duration": 0,
        "start_time": "2025-01-21T22:13:55.664Z"
      },
      {
        "duration": 0,
        "start_time": "2025-01-21T22:13:55.665Z"
      },
      {
        "duration": 685,
        "start_time": "2025-01-21T22:15:06.406Z"
      },
      {
        "duration": 117,
        "start_time": "2025-01-21T22:15:47.937Z"
      },
      {
        "duration": 113,
        "start_time": "2025-01-21T22:17:03.433Z"
      },
      {
        "duration": 138,
        "start_time": "2025-01-21T22:17:22.353Z"
      },
      {
        "duration": 241,
        "start_time": "2025-01-21T22:17:39.737Z"
      },
      {
        "duration": 276,
        "start_time": "2025-01-21T22:18:13.230Z"
      },
      {
        "duration": 281,
        "start_time": "2025-01-21T22:20:02.021Z"
      },
      {
        "duration": 303,
        "start_time": "2025-01-21T22:20:56.125Z"
      },
      {
        "duration": 109,
        "start_time": "2025-01-21T22:21:14.581Z"
      },
      {
        "duration": 147,
        "start_time": "2025-01-21T22:21:41.578Z"
      },
      {
        "duration": 832,
        "start_time": "2025-01-21T22:21:56.226Z"
      },
      {
        "duration": 49,
        "start_time": "2025-01-21T22:21:57.060Z"
      },
      {
        "duration": 10,
        "start_time": "2025-01-21T22:21:57.110Z"
      },
      {
        "duration": 18,
        "start_time": "2025-01-21T22:21:57.123Z"
      },
      {
        "duration": 828,
        "start_time": "2025-01-21T22:21:57.142Z"
      },
      {
        "duration": 0,
        "start_time": "2025-01-21T22:21:57.972Z"
      },
      {
        "duration": 0,
        "start_time": "2025-01-21T22:21:57.973Z"
      },
      {
        "duration": 0,
        "start_time": "2025-01-21T22:21:57.974Z"
      },
      {
        "duration": 0,
        "start_time": "2025-01-21T22:21:57.976Z"
      },
      {
        "duration": 0,
        "start_time": "2025-01-21T22:21:57.976Z"
      },
      {
        "duration": 0,
        "start_time": "2025-01-21T22:21:57.978Z"
      },
      {
        "duration": 0,
        "start_time": "2025-01-21T22:21:57.978Z"
      },
      {
        "duration": 0,
        "start_time": "2025-01-21T22:21:57.980Z"
      },
      {
        "duration": 0,
        "start_time": "2025-01-21T22:21:57.981Z"
      },
      {
        "duration": 0,
        "start_time": "2025-01-21T22:21:57.982Z"
      },
      {
        "duration": 0,
        "start_time": "2025-01-21T22:21:57.984Z"
      },
      {
        "duration": 0,
        "start_time": "2025-01-21T22:21:57.985Z"
      },
      {
        "duration": 0,
        "start_time": "2025-01-21T22:21:57.986Z"
      },
      {
        "duration": 0,
        "start_time": "2025-01-21T22:21:58.009Z"
      },
      {
        "duration": 0,
        "start_time": "2025-01-21T22:21:58.010Z"
      },
      {
        "duration": 0,
        "start_time": "2025-01-21T22:21:58.011Z"
      },
      {
        "duration": 799,
        "start_time": "2025-01-21T22:22:38.358Z"
      },
      {
        "duration": 51,
        "start_time": "2025-01-21T22:22:39.158Z"
      },
      {
        "duration": 11,
        "start_time": "2025-01-21T22:22:39.210Z"
      },
      {
        "duration": 17,
        "start_time": "2025-01-21T22:22:39.224Z"
      },
      {
        "duration": 773,
        "start_time": "2025-01-21T22:22:39.242Z"
      },
      {
        "duration": 0,
        "start_time": "2025-01-21T22:22:40.017Z"
      },
      {
        "duration": 0,
        "start_time": "2025-01-21T22:22:40.018Z"
      },
      {
        "duration": 0,
        "start_time": "2025-01-21T22:22:40.019Z"
      },
      {
        "duration": 0,
        "start_time": "2025-01-21T22:22:40.021Z"
      },
      {
        "duration": 0,
        "start_time": "2025-01-21T22:22:40.022Z"
      },
      {
        "duration": 0,
        "start_time": "2025-01-21T22:22:40.022Z"
      },
      {
        "duration": 0,
        "start_time": "2025-01-21T22:22:40.024Z"
      },
      {
        "duration": 0,
        "start_time": "2025-01-21T22:22:40.025Z"
      },
      {
        "duration": 0,
        "start_time": "2025-01-21T22:22:40.027Z"
      },
      {
        "duration": 0,
        "start_time": "2025-01-21T22:22:40.028Z"
      },
      {
        "duration": 0,
        "start_time": "2025-01-21T22:22:40.030Z"
      },
      {
        "duration": 0,
        "start_time": "2025-01-21T22:22:40.031Z"
      },
      {
        "duration": 0,
        "start_time": "2025-01-21T22:22:40.032Z"
      },
      {
        "duration": 0,
        "start_time": "2025-01-21T22:22:40.033Z"
      },
      {
        "duration": 0,
        "start_time": "2025-01-21T22:22:40.035Z"
      },
      {
        "duration": 0,
        "start_time": "2025-01-21T22:22:40.036Z"
      },
      {
        "duration": 863,
        "start_time": "2025-01-21T22:23:14.631Z"
      },
      {
        "duration": 47,
        "start_time": "2025-01-21T22:23:15.497Z"
      },
      {
        "duration": 11,
        "start_time": "2025-01-21T22:23:15.546Z"
      },
      {
        "duration": 17,
        "start_time": "2025-01-21T22:23:15.559Z"
      },
      {
        "duration": 940,
        "start_time": "2025-01-21T22:23:15.579Z"
      },
      {
        "duration": 0,
        "start_time": "2025-01-21T22:23:16.521Z"
      },
      {
        "duration": 0,
        "start_time": "2025-01-21T22:23:16.522Z"
      },
      {
        "duration": 0,
        "start_time": "2025-01-21T22:23:16.523Z"
      },
      {
        "duration": 0,
        "start_time": "2025-01-21T22:23:16.525Z"
      },
      {
        "duration": 0,
        "start_time": "2025-01-21T22:23:16.525Z"
      },
      {
        "duration": 0,
        "start_time": "2025-01-21T22:23:16.526Z"
      },
      {
        "duration": 0,
        "start_time": "2025-01-21T22:23:16.527Z"
      },
      {
        "duration": 0,
        "start_time": "2025-01-21T22:23:16.528Z"
      },
      {
        "duration": 0,
        "start_time": "2025-01-21T22:23:16.529Z"
      },
      {
        "duration": 0,
        "start_time": "2025-01-21T22:23:16.530Z"
      },
      {
        "duration": 0,
        "start_time": "2025-01-21T22:23:16.533Z"
      },
      {
        "duration": 0,
        "start_time": "2025-01-21T22:23:16.535Z"
      },
      {
        "duration": 0,
        "start_time": "2025-01-21T22:23:16.536Z"
      },
      {
        "duration": 0,
        "start_time": "2025-01-21T22:23:16.537Z"
      },
      {
        "duration": 0,
        "start_time": "2025-01-21T22:23:16.538Z"
      },
      {
        "duration": 0,
        "start_time": "2025-01-21T22:23:16.539Z"
      },
      {
        "duration": 3,
        "start_time": "2025-01-21T22:23:31.915Z"
      },
      {
        "duration": 41,
        "start_time": "2025-01-21T22:23:32.392Z"
      },
      {
        "duration": 12,
        "start_time": "2025-01-21T22:23:36.058Z"
      },
      {
        "duration": 23,
        "start_time": "2025-01-21T22:23:37.266Z"
      },
      {
        "duration": 625,
        "start_time": "2025-01-21T22:23:38.498Z"
      },
      {
        "duration": 807,
        "start_time": "2025-01-21T22:23:57.383Z"
      },
      {
        "duration": 47,
        "start_time": "2025-01-21T22:23:58.193Z"
      },
      {
        "duration": 11,
        "start_time": "2025-01-21T22:23:58.242Z"
      },
      {
        "duration": 17,
        "start_time": "2025-01-21T22:23:58.255Z"
      },
      {
        "duration": 784,
        "start_time": "2025-01-21T22:23:58.274Z"
      },
      {
        "duration": 0,
        "start_time": "2025-01-21T22:23:59.060Z"
      },
      {
        "duration": 0,
        "start_time": "2025-01-21T22:23:59.062Z"
      },
      {
        "duration": 0,
        "start_time": "2025-01-21T22:23:59.063Z"
      },
      {
        "duration": 0,
        "start_time": "2025-01-21T22:23:59.065Z"
      },
      {
        "duration": 0,
        "start_time": "2025-01-21T22:23:59.066Z"
      },
      {
        "duration": 0,
        "start_time": "2025-01-21T22:23:59.067Z"
      },
      {
        "duration": 0,
        "start_time": "2025-01-21T22:23:59.068Z"
      },
      {
        "duration": 0,
        "start_time": "2025-01-21T22:23:59.069Z"
      },
      {
        "duration": 0,
        "start_time": "2025-01-21T22:23:59.071Z"
      },
      {
        "duration": 0,
        "start_time": "2025-01-21T22:23:59.073Z"
      },
      {
        "duration": 0,
        "start_time": "2025-01-21T22:23:59.075Z"
      },
      {
        "duration": 0,
        "start_time": "2025-01-21T22:23:59.076Z"
      },
      {
        "duration": 0,
        "start_time": "2025-01-21T22:23:59.077Z"
      },
      {
        "duration": 0,
        "start_time": "2025-01-21T22:23:59.079Z"
      },
      {
        "duration": 0,
        "start_time": "2025-01-21T22:23:59.080Z"
      },
      {
        "duration": 0,
        "start_time": "2025-01-21T22:23:59.109Z"
      },
      {
        "duration": 3524,
        "start_time": "2025-01-21T22:24:47.987Z"
      },
      {
        "duration": 809,
        "start_time": "2025-01-21T22:25:09.057Z"
      },
      {
        "duration": 56,
        "start_time": "2025-01-21T22:25:09.869Z"
      },
      {
        "duration": 13,
        "start_time": "2025-01-21T22:25:09.927Z"
      },
      {
        "duration": 20,
        "start_time": "2025-01-21T22:25:09.942Z"
      },
      {
        "duration": 4477,
        "start_time": "2025-01-21T22:25:09.965Z"
      },
      {
        "duration": 0,
        "start_time": "2025-01-21T22:25:14.444Z"
      },
      {
        "duration": 0,
        "start_time": "2025-01-21T22:25:14.446Z"
      },
      {
        "duration": 0,
        "start_time": "2025-01-21T22:25:14.447Z"
      },
      {
        "duration": 0,
        "start_time": "2025-01-21T22:25:14.448Z"
      },
      {
        "duration": 0,
        "start_time": "2025-01-21T22:25:14.448Z"
      },
      {
        "duration": 0,
        "start_time": "2025-01-21T22:25:14.449Z"
      },
      {
        "duration": 0,
        "start_time": "2025-01-21T22:25:14.450Z"
      },
      {
        "duration": 0,
        "start_time": "2025-01-21T22:25:14.451Z"
      },
      {
        "duration": 0,
        "start_time": "2025-01-21T22:25:14.452Z"
      },
      {
        "duration": 0,
        "start_time": "2025-01-21T22:25:14.453Z"
      },
      {
        "duration": 0,
        "start_time": "2025-01-21T22:25:14.454Z"
      },
      {
        "duration": 0,
        "start_time": "2025-01-21T22:25:14.455Z"
      },
      {
        "duration": 0,
        "start_time": "2025-01-21T22:25:14.456Z"
      },
      {
        "duration": 0,
        "start_time": "2025-01-21T22:25:14.457Z"
      },
      {
        "duration": 0,
        "start_time": "2025-01-21T22:25:14.458Z"
      },
      {
        "duration": 0,
        "start_time": "2025-01-21T22:25:14.458Z"
      },
      {
        "duration": 3524,
        "start_time": "2025-01-21T22:26:33.245Z"
      },
      {
        "duration": 846,
        "start_time": "2025-01-21T22:26:42.137Z"
      },
      {
        "duration": 43,
        "start_time": "2025-01-21T22:26:42.985Z"
      },
      {
        "duration": 12,
        "start_time": "2025-01-21T22:26:43.029Z"
      },
      {
        "duration": 17,
        "start_time": "2025-01-21T22:26:43.043Z"
      },
      {
        "duration": 4307,
        "start_time": "2025-01-21T22:26:43.062Z"
      },
      {
        "duration": 0,
        "start_time": "2025-01-21T22:26:47.372Z"
      },
      {
        "duration": 0,
        "start_time": "2025-01-21T22:26:47.374Z"
      },
      {
        "duration": 0,
        "start_time": "2025-01-21T22:26:47.375Z"
      },
      {
        "duration": 0,
        "start_time": "2025-01-21T22:26:47.377Z"
      },
      {
        "duration": 0,
        "start_time": "2025-01-21T22:26:47.378Z"
      },
      {
        "duration": 0,
        "start_time": "2025-01-21T22:26:47.380Z"
      },
      {
        "duration": 0,
        "start_time": "2025-01-21T22:26:47.381Z"
      },
      {
        "duration": 0,
        "start_time": "2025-01-21T22:26:47.382Z"
      },
      {
        "duration": 0,
        "start_time": "2025-01-21T22:26:47.384Z"
      },
      {
        "duration": 0,
        "start_time": "2025-01-21T22:26:47.409Z"
      },
      {
        "duration": 0,
        "start_time": "2025-01-21T22:26:47.410Z"
      },
      {
        "duration": 0,
        "start_time": "2025-01-21T22:26:47.411Z"
      },
      {
        "duration": 0,
        "start_time": "2025-01-21T22:26:47.413Z"
      },
      {
        "duration": 0,
        "start_time": "2025-01-21T22:26:47.414Z"
      },
      {
        "duration": 0,
        "start_time": "2025-01-21T22:26:47.415Z"
      },
      {
        "duration": 0,
        "start_time": "2025-01-21T22:26:47.416Z"
      },
      {
        "duration": 4046,
        "start_time": "2025-01-21T22:27:18.713Z"
      },
      {
        "duration": 4016,
        "start_time": "2025-01-21T22:27:44.434Z"
      },
      {
        "duration": 824,
        "start_time": "2025-01-21T22:28:06.022Z"
      },
      {
        "duration": 43,
        "start_time": "2025-01-21T22:28:06.849Z"
      },
      {
        "duration": 20,
        "start_time": "2025-01-21T22:28:06.893Z"
      },
      {
        "duration": 17,
        "start_time": "2025-01-21T22:28:06.916Z"
      },
      {
        "duration": 4796,
        "start_time": "2025-01-21T22:28:06.935Z"
      },
      {
        "duration": 3,
        "start_time": "2025-01-21T22:28:11.732Z"
      },
      {
        "duration": 4,
        "start_time": "2025-01-21T22:28:11.737Z"
      },
      {
        "duration": 4,
        "start_time": "2025-01-21T22:28:11.742Z"
      },
      {
        "duration": 8,
        "start_time": "2025-01-21T22:28:11.748Z"
      },
      {
        "duration": 7,
        "start_time": "2025-01-21T22:28:11.759Z"
      },
      {
        "duration": 5,
        "start_time": "2025-01-21T22:28:11.767Z"
      },
      {
        "duration": 2004,
        "start_time": "2025-01-21T22:28:11.774Z"
      },
      {
        "duration": 835,
        "start_time": "2025-01-21T22:28:13.780Z"
      },
      {
        "duration": 263,
        "start_time": "2025-01-21T22:28:14.617Z"
      },
      {
        "duration": 1103,
        "start_time": "2025-01-21T22:28:14.882Z"
      },
      {
        "duration": 137,
        "start_time": "2025-01-21T22:28:15.987Z"
      },
      {
        "duration": 446,
        "start_time": "2025-01-21T22:28:16.125Z"
      },
      {
        "duration": 519,
        "start_time": "2025-01-21T22:28:16.573Z"
      },
      {
        "duration": 537,
        "start_time": "2025-01-21T22:28:17.093Z"
      },
      {
        "duration": 10,
        "start_time": "2025-01-21T22:28:17.631Z"
      },
      {
        "duration": 8,
        "start_time": "2025-01-21T22:28:17.643Z"
      },
      {
        "duration": 825,
        "start_time": "2025-01-21T22:30:26.765Z"
      },
      {
        "duration": 54,
        "start_time": "2025-01-21T22:30:27.592Z"
      },
      {
        "duration": 12,
        "start_time": "2025-01-21T22:30:27.650Z"
      },
      {
        "duration": 20,
        "start_time": "2025-01-21T22:30:27.665Z"
      },
      {
        "duration": 4112,
        "start_time": "2025-01-21T22:30:27.687Z"
      },
      {
        "duration": 9,
        "start_time": "2025-01-21T22:30:31.801Z"
      },
      {
        "duration": 3,
        "start_time": "2025-01-21T22:30:31.812Z"
      },
      {
        "duration": 4,
        "start_time": "2025-01-21T22:30:31.817Z"
      },
      {
        "duration": 8,
        "start_time": "2025-01-21T22:30:31.822Z"
      },
      {
        "duration": 6,
        "start_time": "2025-01-21T22:30:31.833Z"
      },
      {
        "duration": 6,
        "start_time": "2025-01-21T22:30:31.840Z"
      },
      {
        "duration": 1967,
        "start_time": "2025-01-21T22:30:31.847Z"
      },
      {
        "duration": 831,
        "start_time": "2025-01-21T22:30:33.816Z"
      },
      {
        "duration": 230,
        "start_time": "2025-01-21T22:30:34.649Z"
      },
      {
        "duration": 1144,
        "start_time": "2025-01-21T22:30:34.881Z"
      },
      {
        "duration": 141,
        "start_time": "2025-01-21T22:30:36.027Z"
      },
      {
        "duration": 451,
        "start_time": "2025-01-21T22:30:36.171Z"
      },
      {
        "duration": 524,
        "start_time": "2025-01-21T22:30:36.624Z"
      },
      {
        "duration": 496,
        "start_time": "2025-01-21T22:30:37.150Z"
      },
      {
        "duration": 9,
        "start_time": "2025-01-21T22:30:37.648Z"
      },
      {
        "duration": 8,
        "start_time": "2025-01-21T22:30:37.659Z"
      },
      {
        "duration": 12,
        "start_time": "2025-01-21T22:32:30.795Z"
      },
      {
        "duration": 11,
        "start_time": "2025-01-21T22:33:00.033Z"
      },
      {
        "duration": 136,
        "start_time": "2025-01-21T22:35:40.443Z"
      },
      {
        "duration": 89,
        "start_time": "2025-01-21T22:36:47.961Z"
      },
      {
        "duration": 91,
        "start_time": "2025-01-21T22:37:03.756Z"
      },
      {
        "duration": 151,
        "start_time": "2025-01-21T22:37:49.969Z"
      },
      {
        "duration": 160,
        "start_time": "2025-01-21T22:39:27.791Z"
      },
      {
        "duration": 260,
        "start_time": "2025-01-21T22:42:24.822Z"
      },
      {
        "duration": 249,
        "start_time": "2025-01-21T22:43:03.735Z"
      },
      {
        "duration": 226,
        "start_time": "2025-01-21T22:43:34.260Z"
      },
      {
        "duration": 305,
        "start_time": "2025-01-21T22:46:08.145Z"
      },
      {
        "duration": 241,
        "start_time": "2025-01-21T22:46:34.373Z"
      },
      {
        "duration": 237,
        "start_time": "2025-01-21T22:46:57.556Z"
      },
      {
        "duration": 239,
        "start_time": "2025-01-21T22:47:14.027Z"
      },
      {
        "duration": 263,
        "start_time": "2025-01-21T22:49:25.679Z"
      },
      {
        "duration": 19,
        "start_time": "2025-01-21T22:50:31.955Z"
      },
      {
        "duration": 16,
        "start_time": "2025-01-21T22:50:39.308Z"
      },
      {
        "duration": 3773,
        "start_time": "2025-01-21T22:50:40.149Z"
      },
      {
        "duration": 804,
        "start_time": "2025-01-21T22:51:02.711Z"
      },
      {
        "duration": 44,
        "start_time": "2025-01-21T22:51:03.517Z"
      },
      {
        "duration": 11,
        "start_time": "2025-01-21T22:51:03.563Z"
      },
      {
        "duration": 35,
        "start_time": "2025-01-21T22:51:03.576Z"
      },
      {
        "duration": 4101,
        "start_time": "2025-01-21T22:51:03.612Z"
      },
      {
        "duration": 3,
        "start_time": "2025-01-21T22:51:07.715Z"
      },
      {
        "duration": 3,
        "start_time": "2025-01-21T22:51:07.720Z"
      },
      {
        "duration": 5,
        "start_time": "2025-01-21T22:51:07.725Z"
      },
      {
        "duration": 13,
        "start_time": "2025-01-21T22:51:07.731Z"
      },
      {
        "duration": 6,
        "start_time": "2025-01-21T22:51:07.747Z"
      },
      {
        "duration": 5,
        "start_time": "2025-01-21T22:51:07.754Z"
      },
      {
        "duration": 1968,
        "start_time": "2025-01-21T22:51:07.760Z"
      },
      {
        "duration": 815,
        "start_time": "2025-01-21T22:51:09.730Z"
      },
      {
        "duration": 251,
        "start_time": "2025-01-21T22:51:10.547Z"
      },
      {
        "duration": 1126,
        "start_time": "2025-01-21T22:51:10.800Z"
      },
      {
        "duration": 142,
        "start_time": "2025-01-21T22:51:11.928Z"
      },
      {
        "duration": 443,
        "start_time": "2025-01-21T22:51:12.072Z"
      },
      {
        "duration": 524,
        "start_time": "2025-01-21T22:51:12.516Z"
      },
      {
        "duration": 448,
        "start_time": "2025-01-21T22:51:13.042Z"
      },
      {
        "duration": 243,
        "start_time": "2025-01-21T22:51:13.492Z"
      },
      {
        "duration": 9,
        "start_time": "2025-01-21T22:51:13.736Z"
      },
      {
        "duration": 255,
        "start_time": "2025-01-21T22:51:49.781Z"
      },
      {
        "duration": 300,
        "start_time": "2025-01-21T22:52:06.243Z"
      },
      {
        "duration": 226,
        "start_time": "2025-01-21T22:52:38.656Z"
      },
      {
        "duration": 231,
        "start_time": "2025-01-21T22:53:28.350Z"
      },
      {
        "duration": 241,
        "start_time": "2025-01-21T22:53:47.398Z"
      },
      {
        "duration": 164,
        "start_time": "2025-01-21T22:54:19.608Z"
      },
      {
        "duration": 223,
        "start_time": "2025-01-21T22:55:03.074Z"
      },
      {
        "duration": 829,
        "start_time": "2025-01-21T22:57:07.512Z"
      },
      {
        "duration": 44,
        "start_time": "2025-01-21T22:57:08.343Z"
      },
      {
        "duration": 24,
        "start_time": "2025-01-21T22:57:08.389Z"
      },
      {
        "duration": 17,
        "start_time": "2025-01-21T22:57:08.415Z"
      },
      {
        "duration": 4203,
        "start_time": "2025-01-21T22:57:08.434Z"
      },
      {
        "duration": 3,
        "start_time": "2025-01-21T22:57:12.639Z"
      },
      {
        "duration": 3,
        "start_time": "2025-01-21T22:57:12.644Z"
      },
      {
        "duration": 5,
        "start_time": "2025-01-21T22:57:12.648Z"
      },
      {
        "duration": 8,
        "start_time": "2025-01-21T22:57:12.655Z"
      },
      {
        "duration": 7,
        "start_time": "2025-01-21T22:57:12.666Z"
      },
      {
        "duration": 37,
        "start_time": "2025-01-21T22:57:12.674Z"
      },
      {
        "duration": 1976,
        "start_time": "2025-01-21T22:57:12.714Z"
      },
      {
        "duration": 825,
        "start_time": "2025-01-21T22:57:14.692Z"
      },
      {
        "duration": 254,
        "start_time": "2025-01-21T22:57:15.519Z"
      },
      {
        "duration": 1107,
        "start_time": "2025-01-21T22:57:15.775Z"
      },
      {
        "duration": 142,
        "start_time": "2025-01-21T22:57:16.884Z"
      },
      {
        "duration": 485,
        "start_time": "2025-01-21T22:57:17.027Z"
      },
      {
        "duration": 547,
        "start_time": "2025-01-21T22:57:17.513Z"
      },
      {
        "duration": 456,
        "start_time": "2025-01-21T22:57:18.061Z"
      },
      {
        "duration": 166,
        "start_time": "2025-01-21T22:57:18.518Z"
      },
      {
        "duration": 7,
        "start_time": "2025-01-21T22:57:18.686Z"
      },
      {
        "duration": 866,
        "start_time": "2025-01-21T22:57:56.624Z"
      },
      {
        "duration": 167,
        "start_time": "2025-01-21T22:58:17.470Z"
      },
      {
        "duration": 169,
        "start_time": "2025-01-21T22:58:57.592Z"
      },
      {
        "duration": 159,
        "start_time": "2025-01-21T22:59:30.982Z"
      },
      {
        "duration": 157,
        "start_time": "2025-01-21T22:59:43.029Z"
      },
      {
        "duration": 178,
        "start_time": "2025-01-21T22:59:59.673Z"
      },
      {
        "duration": 65,
        "start_time": "2025-01-21T23:00:42.730Z"
      },
      {
        "duration": 68,
        "start_time": "2025-01-21T23:01:07.779Z"
      },
      {
        "duration": 819,
        "start_time": "2025-01-21T23:01:13.772Z"
      },
      {
        "duration": 48,
        "start_time": "2025-01-21T23:01:14.594Z"
      },
      {
        "duration": 11,
        "start_time": "2025-01-21T23:01:14.644Z"
      },
      {
        "duration": 18,
        "start_time": "2025-01-21T23:01:14.656Z"
      },
      {
        "duration": 4421,
        "start_time": "2025-01-21T23:01:14.677Z"
      },
      {
        "duration": 3,
        "start_time": "2025-01-21T23:01:19.101Z"
      },
      {
        "duration": 3,
        "start_time": "2025-01-21T23:01:19.110Z"
      },
      {
        "duration": 4,
        "start_time": "2025-01-21T23:01:19.114Z"
      },
      {
        "duration": 9,
        "start_time": "2025-01-21T23:01:19.120Z"
      },
      {
        "duration": 6,
        "start_time": "2025-01-21T23:01:19.131Z"
      },
      {
        "duration": 5,
        "start_time": "2025-01-21T23:01:19.139Z"
      },
      {
        "duration": 2136,
        "start_time": "2025-01-21T23:01:19.145Z"
      },
      {
        "duration": 840,
        "start_time": "2025-01-21T23:01:21.283Z"
      },
      {
        "duration": 228,
        "start_time": "2025-01-21T23:01:22.126Z"
      },
      {
        "duration": 1110,
        "start_time": "2025-01-21T23:01:22.355Z"
      },
      {
        "duration": 139,
        "start_time": "2025-01-21T23:01:23.467Z"
      },
      {
        "duration": 433,
        "start_time": "2025-01-21T23:01:23.608Z"
      },
      {
        "duration": 554,
        "start_time": "2025-01-21T23:01:24.043Z"
      },
      {
        "duration": 474,
        "start_time": "2025-01-21T23:01:24.599Z"
      },
      {
        "duration": 831,
        "start_time": "2025-01-21T23:01:25.075Z"
      },
      {
        "duration": 0,
        "start_time": "2025-01-21T23:01:25.909Z"
      },
      {
        "duration": 62,
        "start_time": "2025-01-21T23:02:29.771Z"
      },
      {
        "duration": 25,
        "start_time": "2025-01-21T23:03:58.142Z"
      },
      {
        "duration": 25,
        "start_time": "2025-01-21T23:04:15.573Z"
      },
      {
        "duration": 27,
        "start_time": "2025-01-21T23:04:29.866Z"
      },
      {
        "duration": 26,
        "start_time": "2025-01-21T23:05:09.577Z"
      },
      {
        "duration": 24,
        "start_time": "2025-01-21T23:05:28.319Z"
      },
      {
        "duration": 64,
        "start_time": "2025-01-21T23:06:02.408Z"
      },
      {
        "duration": 157,
        "start_time": "2025-01-21T23:08:36.630Z"
      },
      {
        "duration": 23,
        "start_time": "2025-01-21T23:09:20.948Z"
      },
      {
        "duration": 156,
        "start_time": "2025-01-21T23:09:36.073Z"
      },
      {
        "duration": 161,
        "start_time": "2025-01-21T23:09:53.995Z"
      },
      {
        "duration": 153,
        "start_time": "2025-01-21T23:10:42.621Z"
      },
      {
        "duration": 149,
        "start_time": "2025-01-21T23:10:55.576Z"
      },
      {
        "duration": 222,
        "start_time": "2025-01-21T23:11:26.320Z"
      },
      {
        "duration": 297,
        "start_time": "2025-01-21T23:13:03.567Z"
      },
      {
        "duration": 423,
        "start_time": "2025-01-21T23:14:37.723Z"
      },
      {
        "duration": 337,
        "start_time": "2025-01-21T23:15:07.124Z"
      },
      {
        "duration": 295,
        "start_time": "2025-01-21T23:15:43.881Z"
      },
      {
        "duration": 280,
        "start_time": "2025-01-21T23:16:20.034Z"
      },
      {
        "duration": 282,
        "start_time": "2025-01-21T23:16:46.813Z"
      },
      {
        "duration": 291,
        "start_time": "2025-01-21T23:17:10.523Z"
      },
      {
        "duration": 14,
        "start_time": "2025-01-21T23:17:41.141Z"
      },
      {
        "duration": 4,
        "start_time": "2025-01-21T23:17:53.340Z"
      },
      {
        "duration": 3838,
        "start_time": "2025-01-21T23:18:06.275Z"
      },
      {
        "duration": 17,
        "start_time": "2025-01-21T23:18:30.851Z"
      },
      {
        "duration": 12,
        "start_time": "2025-01-21T23:18:50.392Z"
      },
      {
        "duration": 2,
        "start_time": "2025-01-21T23:18:57.116Z"
      },
      {
        "duration": 41,
        "start_time": "2025-01-21T23:18:57.847Z"
      },
      {
        "duration": 12,
        "start_time": "2025-01-21T23:19:01.747Z"
      },
      {
        "duration": 20,
        "start_time": "2025-01-21T23:19:04.228Z"
      },
      {
        "duration": 4287,
        "start_time": "2025-01-21T23:19:10.606Z"
      },
      {
        "duration": 4,
        "start_time": "2025-01-21T23:19:32.818Z"
      },
      {
        "duration": 3,
        "start_time": "2025-01-21T23:19:35.038Z"
      },
      {
        "duration": 6,
        "start_time": "2025-01-21T23:19:37.205Z"
      },
      {
        "duration": 5,
        "start_time": "2025-01-21T23:19:42.568Z"
      },
      {
        "duration": 3872,
        "start_time": "2025-01-21T23:19:55.491Z"
      },
      {
        "duration": 3,
        "start_time": "2025-01-21T23:19:59.861Z"
      },
      {
        "duration": 4,
        "start_time": "2025-01-21T23:20:02.122Z"
      },
      {
        "duration": 4,
        "start_time": "2025-01-21T23:20:04.318Z"
      },
      {
        "duration": 5,
        "start_time": "2025-01-21T23:20:06.521Z"
      },
      {
        "duration": 5,
        "start_time": "2025-01-21T23:20:10.412Z"
      },
      {
        "duration": 805,
        "start_time": "2025-01-21T23:20:22.807Z"
      },
      {
        "duration": 44,
        "start_time": "2025-01-21T23:20:23.614Z"
      },
      {
        "duration": 11,
        "start_time": "2025-01-21T23:20:23.660Z"
      },
      {
        "duration": 18,
        "start_time": "2025-01-21T23:20:23.673Z"
      },
      {
        "duration": 4239,
        "start_time": "2025-01-21T23:20:23.692Z"
      },
      {
        "duration": 2,
        "start_time": "2025-01-21T23:20:27.934Z"
      },
      {
        "duration": 3,
        "start_time": "2025-01-21T23:20:27.938Z"
      },
      {
        "duration": 5,
        "start_time": "2025-01-21T23:20:27.943Z"
      },
      {
        "duration": 8,
        "start_time": "2025-01-21T23:20:27.950Z"
      },
      {
        "duration": 7,
        "start_time": "2025-01-21T23:20:27.962Z"
      },
      {
        "duration": 39,
        "start_time": "2025-01-21T23:20:27.970Z"
      },
      {
        "duration": 1987,
        "start_time": "2025-01-21T23:20:28.010Z"
      },
      {
        "duration": 836,
        "start_time": "2025-01-21T23:20:30.001Z"
      },
      {
        "duration": 225,
        "start_time": "2025-01-21T23:20:30.839Z"
      },
      {
        "duration": 1117,
        "start_time": "2025-01-21T23:20:31.066Z"
      },
      {
        "duration": 144,
        "start_time": "2025-01-21T23:20:32.185Z"
      },
      {
        "duration": 438,
        "start_time": "2025-01-21T23:20:32.331Z"
      },
      {
        "duration": 523,
        "start_time": "2025-01-21T23:20:32.771Z"
      },
      {
        "duration": 459,
        "start_time": "2025-01-21T23:20:33.295Z"
      },
      {
        "duration": 298,
        "start_time": "2025-01-21T23:20:33.756Z"
      },
      {
        "duration": 8,
        "start_time": "2025-01-21T23:20:34.056Z"
      },
      {
        "duration": 3,
        "start_time": "2025-01-21T23:22:09.802Z"
      },
      {
        "duration": 3,
        "start_time": "2025-01-21T23:22:11.160Z"
      },
      {
        "duration": 5,
        "start_time": "2025-01-21T23:24:30.856Z"
      },
      {
        "duration": 5,
        "start_time": "2025-01-21T23:24:38.311Z"
      },
      {
        "duration": 3,
        "start_time": "2025-01-21T23:26:35.807Z"
      },
      {
        "duration": 829,
        "start_time": "2025-01-21T23:26:41.822Z"
      },
      {
        "duration": 45,
        "start_time": "2025-01-21T23:26:42.653Z"
      },
      {
        "duration": 19,
        "start_time": "2025-01-21T23:26:42.699Z"
      },
      {
        "duration": 19,
        "start_time": "2025-01-21T23:26:42.720Z"
      },
      {
        "duration": 4218,
        "start_time": "2025-01-21T23:26:42.740Z"
      },
      {
        "duration": 4,
        "start_time": "2025-01-21T23:26:46.960Z"
      },
      {
        "duration": 5,
        "start_time": "2025-01-21T23:26:46.965Z"
      },
      {
        "duration": 4,
        "start_time": "2025-01-21T23:26:46.972Z"
      },
      {
        "duration": 34,
        "start_time": "2025-01-21T23:26:46.977Z"
      },
      {
        "duration": 6,
        "start_time": "2025-01-21T23:26:47.013Z"
      },
      {
        "duration": 6,
        "start_time": "2025-01-21T23:26:47.020Z"
      },
      {
        "duration": 2038,
        "start_time": "2025-01-21T23:26:47.028Z"
      },
      {
        "duration": 845,
        "start_time": "2025-01-21T23:26:49.067Z"
      },
      {
        "duration": 630,
        "start_time": "2025-01-21T23:26:49.914Z"
      },
      {
        "duration": 0,
        "start_time": "2025-01-21T23:26:50.546Z"
      },
      {
        "duration": 1,
        "start_time": "2025-01-21T23:26:50.547Z"
      },
      {
        "duration": 0,
        "start_time": "2025-01-21T23:26:50.549Z"
      },
      {
        "duration": 0,
        "start_time": "2025-01-21T23:26:50.549Z"
      },
      {
        "duration": 0,
        "start_time": "2025-01-21T23:26:50.551Z"
      },
      {
        "duration": 0,
        "start_time": "2025-01-21T23:26:50.552Z"
      },
      {
        "duration": 0,
        "start_time": "2025-01-21T23:26:50.553Z"
      },
      {
        "duration": 92,
        "start_time": "2025-01-21T23:27:56.634Z"
      },
      {
        "duration": 26,
        "start_time": "2025-01-21T23:30:00.337Z"
      },
      {
        "duration": 27,
        "start_time": "2025-01-21T23:30:15.498Z"
      },
      {
        "duration": 26,
        "start_time": "2025-01-21T23:30:48.421Z"
      },
      {
        "duration": 3767,
        "start_time": "2025-01-21T23:30:53.051Z"
      },
      {
        "duration": 6,
        "start_time": "2025-01-21T23:31:04.248Z"
      },
      {
        "duration": 4,
        "start_time": "2025-01-21T23:31:06.478Z"
      },
      {
        "duration": 796,
        "start_time": "2025-01-21T23:31:11.914Z"
      },
      {
        "duration": 44,
        "start_time": "2025-01-21T23:31:12.712Z"
      },
      {
        "duration": 11,
        "start_time": "2025-01-21T23:31:12.758Z"
      },
      {
        "duration": 820,
        "start_time": "2025-01-21T23:31:12.771Z"
      },
      {
        "duration": 0,
        "start_time": "2025-01-21T23:31:13.593Z"
      },
      {
        "duration": 0,
        "start_time": "2025-01-21T23:31:13.594Z"
      },
      {
        "duration": 0,
        "start_time": "2025-01-21T23:31:13.595Z"
      },
      {
        "duration": 0,
        "start_time": "2025-01-21T23:31:13.609Z"
      },
      {
        "duration": 0,
        "start_time": "2025-01-21T23:31:13.610Z"
      },
      {
        "duration": 0,
        "start_time": "2025-01-21T23:31:13.611Z"
      },
      {
        "duration": 0,
        "start_time": "2025-01-21T23:31:13.611Z"
      },
      {
        "duration": 0,
        "start_time": "2025-01-21T23:31:13.612Z"
      },
      {
        "duration": 0,
        "start_time": "2025-01-21T23:31:13.613Z"
      },
      {
        "duration": 0,
        "start_time": "2025-01-21T23:31:13.614Z"
      },
      {
        "duration": 0,
        "start_time": "2025-01-21T23:31:13.615Z"
      },
      {
        "duration": 0,
        "start_time": "2025-01-21T23:31:13.616Z"
      },
      {
        "duration": 0,
        "start_time": "2025-01-21T23:31:13.618Z"
      },
      {
        "duration": 0,
        "start_time": "2025-01-21T23:31:13.618Z"
      },
      {
        "duration": 0,
        "start_time": "2025-01-21T23:31:13.620Z"
      },
      {
        "duration": 0,
        "start_time": "2025-01-21T23:31:13.621Z"
      },
      {
        "duration": 0,
        "start_time": "2025-01-21T23:31:13.621Z"
      },
      {
        "duration": 57,
        "start_time": "2025-01-21T23:31:36.485Z"
      },
      {
        "duration": 817,
        "start_time": "2025-01-21T23:32:01.717Z"
      },
      {
        "duration": 44,
        "start_time": "2025-01-21T23:32:02.536Z"
      },
      {
        "duration": 11,
        "start_time": "2025-01-21T23:32:02.582Z"
      },
      {
        "duration": 813,
        "start_time": "2025-01-21T23:32:02.608Z"
      },
      {
        "duration": 0,
        "start_time": "2025-01-21T23:32:03.423Z"
      },
      {
        "duration": 0,
        "start_time": "2025-01-21T23:32:03.424Z"
      },
      {
        "duration": 0,
        "start_time": "2025-01-21T23:32:03.425Z"
      },
      {
        "duration": 0,
        "start_time": "2025-01-21T23:32:03.427Z"
      },
      {
        "duration": 0,
        "start_time": "2025-01-21T23:32:03.428Z"
      },
      {
        "duration": 0,
        "start_time": "2025-01-21T23:32:03.429Z"
      },
      {
        "duration": 0,
        "start_time": "2025-01-21T23:32:03.430Z"
      },
      {
        "duration": 0,
        "start_time": "2025-01-21T23:32:03.431Z"
      },
      {
        "duration": 0,
        "start_time": "2025-01-21T23:32:03.432Z"
      },
      {
        "duration": 0,
        "start_time": "2025-01-21T23:32:03.433Z"
      },
      {
        "duration": 0,
        "start_time": "2025-01-21T23:32:03.434Z"
      },
      {
        "duration": 0,
        "start_time": "2025-01-21T23:32:03.435Z"
      },
      {
        "duration": 0,
        "start_time": "2025-01-21T23:32:03.435Z"
      },
      {
        "duration": 0,
        "start_time": "2025-01-21T23:32:03.437Z"
      },
      {
        "duration": 0,
        "start_time": "2025-01-21T23:32:03.438Z"
      },
      {
        "duration": 0,
        "start_time": "2025-01-21T23:32:03.439Z"
      },
      {
        "duration": 0,
        "start_time": "2025-01-21T23:32:03.440Z"
      },
      {
        "duration": 58,
        "start_time": "2025-01-21T23:32:39.320Z"
      },
      {
        "duration": 19,
        "start_time": "2025-01-21T23:33:15.083Z"
      },
      {
        "duration": 4133,
        "start_time": "2025-01-21T23:33:32.903Z"
      },
      {
        "duration": 4,
        "start_time": "2025-01-21T23:33:43.002Z"
      },
      {
        "duration": 3,
        "start_time": "2025-01-21T23:33:43.839Z"
      },
      {
        "duration": 6,
        "start_time": "2025-01-21T23:33:44.814Z"
      },
      {
        "duration": 813,
        "start_time": "2025-01-21T23:33:54.344Z"
      },
      {
        "duration": 50,
        "start_time": "2025-01-21T23:33:55.160Z"
      },
      {
        "duration": 10,
        "start_time": "2025-01-21T23:33:55.212Z"
      },
      {
        "duration": 28,
        "start_time": "2025-01-21T23:33:55.224Z"
      },
      {
        "duration": 4182,
        "start_time": "2025-01-21T23:33:55.255Z"
      },
      {
        "duration": 3,
        "start_time": "2025-01-21T23:33:59.439Z"
      },
      {
        "duration": 3,
        "start_time": "2025-01-21T23:33:59.445Z"
      },
      {
        "duration": 5,
        "start_time": "2025-01-21T23:33:59.450Z"
      },
      {
        "duration": 9,
        "start_time": "2025-01-21T23:33:59.457Z"
      },
      {
        "duration": 6,
        "start_time": "2025-01-21T23:33:59.467Z"
      },
      {
        "duration": 37,
        "start_time": "2025-01-21T23:33:59.475Z"
      },
      {
        "duration": 1980,
        "start_time": "2025-01-21T23:33:59.514Z"
      },
      {
        "duration": 838,
        "start_time": "2025-01-21T23:34:01.496Z"
      },
      {
        "duration": 224,
        "start_time": "2025-01-21T23:34:02.337Z"
      },
      {
        "duration": 1086,
        "start_time": "2025-01-21T23:34:02.563Z"
      },
      {
        "duration": 158,
        "start_time": "2025-01-21T23:34:03.651Z"
      },
      {
        "duration": 439,
        "start_time": "2025-01-21T23:34:03.812Z"
      },
      {
        "duration": 523,
        "start_time": "2025-01-21T23:34:04.253Z"
      },
      {
        "duration": 490,
        "start_time": "2025-01-21T23:34:04.778Z"
      },
      {
        "duration": 293,
        "start_time": "2025-01-21T23:34:05.270Z"
      },
      {
        "duration": 7,
        "start_time": "2025-01-21T23:34:05.565Z"
      },
      {
        "duration": 359,
        "start_time": "2025-01-21T23:34:40.513Z"
      },
      {
        "duration": 283,
        "start_time": "2025-01-21T23:35:30.948Z"
      },
      {
        "duration": 289,
        "start_time": "2025-01-21T23:36:20.576Z"
      },
      {
        "duration": 298,
        "start_time": "2025-01-21T23:41:43.883Z"
      },
      {
        "duration": 360,
        "start_time": "2025-01-21T23:41:58.991Z"
      },
      {
        "duration": 293,
        "start_time": "2025-01-21T23:42:23.222Z"
      },
      {
        "duration": 298,
        "start_time": "2025-01-21T23:43:08.319Z"
      },
      {
        "duration": 294,
        "start_time": "2025-01-21T23:43:32.594Z"
      },
      {
        "duration": 372,
        "start_time": "2025-01-21T23:43:44.737Z"
      },
      {
        "duration": 364,
        "start_time": "2025-01-21T23:44:36.913Z"
      },
      {
        "duration": 382,
        "start_time": "2025-01-21T23:45:35.930Z"
      },
      {
        "duration": 422,
        "start_time": "2025-01-21T23:45:58.261Z"
      },
      {
        "duration": 350,
        "start_time": "2025-01-21T23:46:52.341Z"
      },
      {
        "duration": 345,
        "start_time": "2025-01-21T23:47:12.130Z"
      },
      {
        "duration": 386,
        "start_time": "2025-01-21T23:48:19.608Z"
      },
      {
        "duration": 433,
        "start_time": "2025-01-21T23:51:13.001Z"
      },
      {
        "duration": 361,
        "start_time": "2025-01-21T23:52:47.748Z"
      },
      {
        "duration": 861,
        "start_time": "2025-01-21T23:53:09.934Z"
      },
      {
        "duration": 61,
        "start_time": "2025-01-21T23:53:10.797Z"
      },
      {
        "duration": 11,
        "start_time": "2025-01-21T23:53:10.861Z"
      },
      {
        "duration": 19,
        "start_time": "2025-01-21T23:53:10.874Z"
      },
      {
        "duration": 4104,
        "start_time": "2025-01-21T23:53:10.909Z"
      },
      {
        "duration": 3,
        "start_time": "2025-01-21T23:53:15.015Z"
      },
      {
        "duration": 4,
        "start_time": "2025-01-21T23:53:15.019Z"
      },
      {
        "duration": 5,
        "start_time": "2025-01-21T23:53:15.024Z"
      },
      {
        "duration": 9,
        "start_time": "2025-01-21T23:53:15.030Z"
      },
      {
        "duration": 6,
        "start_time": "2025-01-21T23:53:15.041Z"
      },
      {
        "duration": 5,
        "start_time": "2025-01-21T23:53:15.048Z"
      },
      {
        "duration": 1943,
        "start_time": "2025-01-21T23:53:15.055Z"
      },
      {
        "duration": 897,
        "start_time": "2025-01-21T23:53:17.000Z"
      },
      {
        "duration": 232,
        "start_time": "2025-01-21T23:53:17.909Z"
      },
      {
        "duration": 1163,
        "start_time": "2025-01-21T23:53:18.143Z"
      },
      {
        "duration": 139,
        "start_time": "2025-01-21T23:53:19.307Z"
      },
      {
        "duration": 447,
        "start_time": "2025-01-21T23:53:19.448Z"
      },
      {
        "duration": 529,
        "start_time": "2025-01-21T23:53:19.897Z"
      },
      {
        "duration": 464,
        "start_time": "2025-01-21T23:53:20.428Z"
      },
      {
        "duration": 316,
        "start_time": "2025-01-21T23:53:20.895Z"
      },
      {
        "duration": 432,
        "start_time": "2025-01-21T23:53:21.213Z"
      },
      {
        "duration": 374,
        "start_time": "2025-01-21T23:54:49.674Z"
      }
    ],
    "kernelspec": {
      "display_name": "ambiente_general",
      "language": "python",
      "name": "python3"
    },
    "language_info": {
      "codemirror_mode": {
        "name": "ipython",
        "version": 3
      },
      "file_extension": ".py",
      "mimetype": "text/x-python",
      "name": "python",
      "nbconvert_exporter": "python",
      "pygments_lexer": "ipython3",
      "version": "3.13.3"
    },
    "toc": {
      "base_numbering": 1,
      "nav_menu": {},
      "number_sections": true,
      "sideBar": true,
      "skip_h1_title": true,
      "title_cell": "Table of Contents",
      "title_sidebar": "Contents",
      "toc_cell": false,
      "toc_position": {
        "height": "calc(100% - 180px)",
        "left": "10px",
        "top": "150px",
        "width": "322px"
      },
      "toc_section_display": true,
      "toc_window_display": true
    },
    "colab": {
      "provenance": [],
      "include_colab_link": true
    }
  },
  "nbformat": 4,
  "nbformat_minor": 0
}